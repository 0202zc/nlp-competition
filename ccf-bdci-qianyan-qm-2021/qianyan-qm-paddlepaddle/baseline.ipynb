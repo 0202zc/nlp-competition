{
 "cells": [
  {
   "cell_type": "code",
   "execution_count": null,
   "id": "8349cca2-9183-4b30-8151-40737d6b5fb2",
   "metadata": {
    "scrolled": true,
    "tags": []
   },
   "outputs": [],
   "source": [
    "# 安装 paddle-gpu 2.3.0，需要CUDA 11.2+\n",
    "!python -m pip install paddlepaddle-gpu==2.3.0.post112 -f https://www.paddlepaddle.org.cn/whl/windows/mkl/avx/stable.html"
   ]
  },
  {
   "cell_type": "code",
   "execution_count": null,
   "id": "418a0ac2",
   "metadata": {},
   "outputs": [],
   "source": [
    "# 正式开始实验之前首先通过如下命令安装最新版本的 paddlenlp\n",
    "!pip install --upgrade paddlenlp"
   ]
  },
  {
   "cell_type": "code",
   "execution_count": 2,
   "id": "d848df01-ddb2-4af2-ae8e-a9080562d2c3",
   "metadata": {
    "execution": {
     "iopub.execute_input": "2022-05-12T08:38:25.775425Z",
     "iopub.status.busy": "2022-05-12T08:38:25.774853Z",
     "iopub.status.idle": "2022-05-12T08:38:25.781663Z",
     "shell.execute_reply": "2022-05-12T08:38:25.781021Z",
     "shell.execute_reply.started": "2022-05-12T08:38:25.775383Z"
    },
    "scrolled": true,
    "tags": []
   },
   "outputs": [
    {
     "name": "stdout",
     "output_type": "stream",
     "text": [
      "/home/aistudio/work\n"
     ]
    }
   ],
   "source": [
    "%cd ./work/"
   ]
  },
  {
   "cell_type": "code",
   "execution_count": null,
   "id": "4774c6bf-c5c2-4226-a1fd-25f30eb3910b",
   "metadata": {
    "scrolled": false,
    "tags": []
   },
   "outputs": [],
   "source": [
    "!$unset CUDA_VISIBLE_DEVICES\n",
    "!python -u -m paddle.distributed.launch --gpus \"0\" train.py \\\n",
    "       --train_set /home/aistudio/train-with-afqmc.txt \\\n",
    "       --dev_set /home/aistudio/dev-with-afqmc.txt \\\n",
    "       --device gpu \\\n",
    "       --eval_step 400 \\\n",
    "       --save_step 400 \\\n",
    "       --save_dir /home/aistudio/model \\\n",
    "       --train_batch_size 128 \\\n",
    "       --learning_rate 2E-5 \\\n",
    "       --rdrop_coef 0.0 \\\n",
    "       --seed 2022 \\\n",
    "       --epochs 3 \n",
    "       # --init_from_ckpt /home/aistudio/model/model_400/model_state.pdparams"
   ]
  },
  {
   "cell_type": "code",
   "execution_count": null,
   "id": "339fb280-0b67-4ae2-aabf-f87af76a89f2",
   "metadata": {
    "execution": {
     "iopub.execute_input": "2022-05-11T10:26:07.993731Z",
     "iopub.status.busy": "2022-05-11T10:26:07.993385Z",
     "iopub.status.idle": "2022-05-11T10:41:32.127587Z",
     "shell.execute_reply": "2022-05-11T10:41:32.126778Z",
     "shell.execute_reply.started": "2022-05-11T10:26:07.993707Z"
    },
    "scrolled": true,
    "tags": []
   },
   "outputs": [],
   "source": [
    "!$unset CUDA_VISIBLE_DEVICES\n",
    "!python -u -m paddle.distributed.launch --gpus \"0\" train.py \\\n",
    "       --train_set /home/aistudio/dev-with-afqmc.txt \\\n",
    "       --dev_set /home/aistudio/dev-with-afqmc.txt \\\n",
    "       --device gpu \\\n",
    "       --eval_step 200 \\\n",
    "       --save_step 200 \\\n",
    "       --save_dir /home/aistudio/model \\\n",
    "       --train_batch_size 128 \\\n",
    "       --learning_rate 2E-5 \\\n",
    "       --rdrop_coef 0.0 \\\n",
    "       --seed 2022 \\\n",
    "       --epochs 3 \\\n",
    "       --init_from_ckpt /home/aistudio/model/model_10000/model_state.pdparams"
   ]
  },
  {
   "cell_type": "code",
   "execution_count": null,
   "id": "a973a168-47ee-4d46-b075-e84d7f545629",
   "metadata": {
    "execution": {
     "iopub.execute_input": "2022-05-11T10:41:32.129499Z",
     "iopub.status.busy": "2022-05-11T10:41:32.128957Z",
     "iopub.status.idle": "2022-05-11T10:43:31.574172Z",
     "shell.execute_reply": "2022-05-11T10:43:31.573312Z",
     "shell.execute_reply.started": "2022-05-11T10:41:32.129470Z"
    },
    "scrolled": true,
    "tags": []
   },
   "outputs": [],
   "source": [
    "!python -u \\\n",
    "    predict.py \\\n",
    "    --device gpu \\\n",
    "    --params_path \"/home/aistudio/model/model_600/model_state.pdparams\" \\\n",
    "    --input_file \"/home/aistudio/test.tsv\" \\\n",
    "    --batch_size 256 \\\n",
    "    --result_file \"/home/aistudio/ccf_qianyan_qm_result_A.csv\""
   ]
  },
  {
   "cell_type": "code",
   "execution_count": null,
   "id": "18bd07c4-afc3-479c-aa60-e59d1efd98ae",
   "metadata": {
    "execution": {
     "iopub.execute_input": "2022-05-11T10:43:31.576130Z",
     "iopub.status.busy": "2022-05-11T10:43:31.575543Z",
     "iopub.status.idle": "2022-05-11T10:43:36.544016Z",
     "shell.execute_reply": "2022-05-11T10:43:36.543172Z",
     "shell.execute_reply.started": "2022-05-11T10:43:31.576089Z"
    },
    "scrolled": true,
    "tags": []
   },
   "outputs": [],
   "source": [
    "!pip install pypinyin"
   ]
  },
  {
   "cell_type": "code",
   "execution_count": null,
   "id": "36a38881-a5a0-41d0-a13e-33ee62310dc6",
   "metadata": {
    "execution": {
     "iopub.execute_input": "2022-05-11T10:43:36.545996Z",
     "iopub.status.busy": "2022-05-11T10:43:36.545740Z",
     "iopub.status.idle": "2022-05-11T10:44:42.959195Z",
     "shell.execute_reply": "2022-05-11T10:44:42.958340Z",
     "shell.execute_reply.started": "2022-05-11T10:43:36.545969Z"
    },
    "scrolled": true,
    "tags": []
   },
   "outputs": [],
   "source": [
    "import pandas as pd\n",
    "import numpy as np\n",
    "import pypinyin\n",
    "\n",
    "data = pd.read_csv(filepath_or_buffer='/home/aistudio/test.tsv', sep='\t', header=None, names=['sentence1', 'sentence2'])\n",
    "sentence1 = np.asarray(data.iloc[:, 0:1]).tolist()\n",
    "sentence2 = np.asarray(data.iloc[:, 1:2]).tolist()\n",
    "\n",
    "labels = pd.read_csv('/home/aistudio/ccf_qianyan_qm_result_A.csv', header=None, names=['label'])\n",
    "labels = np.asarray(labels.iloc[:, 0:1]).transpose().tolist()[0]\n",
    "len(sentence1), len(sentence2), labels\n",
    "\n",
    "def check_synonyms(s1, s2):\n",
    "    if len(s1) != len(s2):\n",
    "        return False\n",
    "    for i in range(len(s1)):\n",
    "        if len(s1[i]) == 1 and len(s2[i]) == 1:\n",
    "            if s1[i][0] != s2[i][0]:\n",
    "                return False\n",
    "        elif len(s1[i]) > 1 and len(s2[i]) == 1:\n",
    "            if not (s2[i][0] in s1[i]):\n",
    "                return False\n",
    "        elif len(s2[i]) > 1 and len(s1[i]) == 1:\n",
    "            if not (s1[i][0] in s2[i]):\n",
    "                return False\n",
    "        else:\n",
    "            flag = False\n",
    "            for j in range(len(s1[i])):\n",
    "                if s1[i][j] in s2[i]:\n",
    "                    flag = True\n",
    "                    break\n",
    "            if not flag:\n",
    "                return False\n",
    "    return True\n",
    "\n",
    "count = 0\n",
    "output = []\n",
    "\n",
    "for i in range(100000):\n",
    "    stc1 = str(sentence1[i][0])\n",
    "    stc2 = str(sentence2[i][0])\n",
    "\n",
    "    if str(sentence1[i][0]).__contains__('×') or str(sentence2[i][0]).__contains__('×'):\n",
    "        labels[i] = 0\n",
    "        output.append(str(stc1) + '\\t' + str(stc2) + '\\t' + str(labels[i]))\n",
    "    else:\n",
    "        s1 = [pypinyin.pinyin(word, heteronym=True, style=pypinyin.STYLE_NORMAL)[0] for word in sentence1[i][0]]\n",
    "        # s2 = [pypinyin.pinyin(word, heteronym=True, style=pypinyin.STYLE_NORMAL)[0] for word in sentence2[i][0]]\n",
    "\n",
    "        if len(stc1) == len(stc2):\n",
    "            for j in range(len(stc1)):\n",
    "                temp = stc2[j:] + stc2[:j]\n",
    "                s2 = [pypinyin.pinyin(word, heteronym=True, style=pypinyin.STYLE_NORMAL)[0] for word in temp]\n",
    "                if check_synonyms(s1, s2):\n",
    "                    # print(str(stc1) + '\\t' + str(stc2) + '\\t' + str(results[i][0]))\n",
    "                    count += 1\n",
    "                    output.append(str(stc1) + '\\t' + str(stc2) + '\\t' + str(labels[i]))\n",
    "                    labels[i] = 1\n",
    "                    break\n",
    "\n",
    "    # if check_synonyms(s1, s2):\n",
    "    #     # print(str(i + 1) + \"\\t\" + sentence1[i][0] + \"\\t\" + sentence2[i][0])\n",
    "    #     results[i][0] = 1\n",
    "    #     count += 1\n",
    "\n",
    "print('测试集同音率：{}%；同音数：{}'.format(str(count / 100000 * 100), count))\n",
    "\n",
    "for i in range(100000):\n",
    "    if str(sentence1[i][0]).__contains__('×') or str(sentence2[i][0]).__contains__('×'):\n",
    "        labels[i] = 0\n",
    "\n",
    "with open('result/synonyms_list.txt', 'w', encoding='utf8', newline='\\n') as f:\n",
    "    for row in output:\n",
    "        f.write(row + '\\n')\n",
    "\n",
    "with open(file='result/pinyin_misspelling_result_B.csv', mode='w', newline='\\n', encoding='utf8') as f:\n",
    "    for result in labels:\n",
    "        f.write(str(result) + '\\n')"
   ]
  }
 ],
 "metadata": {
  "kernelspec": {
   "display_name": "Python 3",
   "language": "python",
   "name": "py35-paddle1.2.0"
  },
  "language_info": {
   "codemirror_mode": {
    "name": "ipython",
    "version": 3
   },
   "file_extension": ".py",
   "mimetype": "text/x-python",
   "name": "python",
   "nbconvert_exporter": "python",
   "pygments_lexer": "ipython3",
   "version": "3.7.4"
  }
 },
 "nbformat": 4,
 "nbformat_minor": 5
}
