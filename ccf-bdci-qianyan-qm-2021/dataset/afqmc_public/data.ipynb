{
 "cells": [
  {
   "cell_type": "code",
   "execution_count": 1,
   "outputs": [],
   "source": [
    "import numpy as np\n",
    "import pandas as pd"
   ],
   "metadata": {
    "collapsed": false,
    "pycharm": {
     "name": "#%%\n"
    }
   }
  },
  {
   "cell_type": "code",
   "execution_count": 3,
   "outputs": [
    {
     "data": {
      "text/plain": "                    s1                                     s2  label\n0    蚂蚁借呗等额还款可以换成先息后本吗                             借呗有先息到期还本吗      0\n1           蚂蚁花呗说我违约一次                            蚂蚁花呗违约行为是什么      0\n2     帮我看一下本月花呗账单有没有结清                                 下月花呗账单      0\n3       蚂蚁借呗多长时间综合评估一次                                借呗得评估多久      0\n4  我的花呗账单是***，还款怎么是***  我的花呗，月结出来说让我还***元，我自己算了一下详细名单我应该还***元      1",
      "text/html": "<div>\n<style scoped>\n    .dataframe tbody tr th:only-of-type {\n        vertical-align: middle;\n    }\n\n    .dataframe tbody tr th {\n        vertical-align: top;\n    }\n\n    .dataframe thead th {\n        text-align: right;\n    }\n</style>\n<table border=\"1\" class=\"dataframe\">\n  <thead>\n    <tr style=\"text-align: right;\">\n      <th></th>\n      <th>s1</th>\n      <th>s2</th>\n      <th>label</th>\n    </tr>\n  </thead>\n  <tbody>\n    <tr>\n      <th>0</th>\n      <td>蚂蚁借呗等额还款可以换成先息后本吗</td>\n      <td>借呗有先息到期还本吗</td>\n      <td>0</td>\n    </tr>\n    <tr>\n      <th>1</th>\n      <td>蚂蚁花呗说我违约一次</td>\n      <td>蚂蚁花呗违约行为是什么</td>\n      <td>0</td>\n    </tr>\n    <tr>\n      <th>2</th>\n      <td>帮我看一下本月花呗账单有没有结清</td>\n      <td>下月花呗账单</td>\n      <td>0</td>\n    </tr>\n    <tr>\n      <th>3</th>\n      <td>蚂蚁借呗多长时间综合评估一次</td>\n      <td>借呗得评估多久</td>\n      <td>0</td>\n    </tr>\n    <tr>\n      <th>4</th>\n      <td>我的花呗账单是***，还款怎么是***</td>\n      <td>我的花呗，月结出来说让我还***元，我自己算了一下详细名单我应该还***元</td>\n      <td>1</td>\n    </tr>\n  </tbody>\n</table>\n</div>"
     },
     "execution_count": 3,
     "metadata": {},
     "output_type": "execute_result"
    }
   ],
   "source": [
    "df = pd.read_csv('train.csv', encoding='utf8', sep='\\t', header=None, names=['s1', 's2', 'label'])\n",
    "df.head()"
   ],
   "metadata": {
    "collapsed": false,
    "pycharm": {
     "name": "#%%\n"
    }
   }
  },
  {
   "cell_type": "code",
   "execution_count": 4,
   "outputs": [
    {
     "data": {
      "text/plain": "   label                   s1                                     s2\n0      0    蚂蚁借呗等额还款可以换成先息后本吗                             借呗有先息到期还本吗\n1      0           蚂蚁花呗说我违约一次                            蚂蚁花呗违约行为是什么\n2      0     帮我看一下本月花呗账单有没有结清                                 下月花呗账单\n3      0       蚂蚁借呗多长时间综合评估一次                                借呗得评估多久\n4      1  我的花呗账单是***，还款怎么是***  我的花呗，月结出来说让我还***元，我自己算了一下详细名单我应该还***元",
      "text/html": "<div>\n<style scoped>\n    .dataframe tbody tr th:only-of-type {\n        vertical-align: middle;\n    }\n\n    .dataframe tbody tr th {\n        vertical-align: top;\n    }\n\n    .dataframe thead th {\n        text-align: right;\n    }\n</style>\n<table border=\"1\" class=\"dataframe\">\n  <thead>\n    <tr style=\"text-align: right;\">\n      <th></th>\n      <th>label</th>\n      <th>s1</th>\n      <th>s2</th>\n    </tr>\n  </thead>\n  <tbody>\n    <tr>\n      <th>0</th>\n      <td>0</td>\n      <td>蚂蚁借呗等额还款可以换成先息后本吗</td>\n      <td>借呗有先息到期还本吗</td>\n    </tr>\n    <tr>\n      <th>1</th>\n      <td>0</td>\n      <td>蚂蚁花呗说我违约一次</td>\n      <td>蚂蚁花呗违约行为是什么</td>\n    </tr>\n    <tr>\n      <th>2</th>\n      <td>0</td>\n      <td>帮我看一下本月花呗账单有没有结清</td>\n      <td>下月花呗账单</td>\n    </tr>\n    <tr>\n      <th>3</th>\n      <td>0</td>\n      <td>蚂蚁借呗多长时间综合评估一次</td>\n      <td>借呗得评估多久</td>\n    </tr>\n    <tr>\n      <th>4</th>\n      <td>1</td>\n      <td>我的花呗账单是***，还款怎么是***</td>\n      <td>我的花呗，月结出来说让我还***元，我自己算了一下详细名单我应该还***元</td>\n    </tr>\n  </tbody>\n</table>\n</div>"
     },
     "execution_count": 4,
     "metadata": {},
     "output_type": "execute_result"
    }
   ],
   "source": [
    "cols = df.columns.tolist()\n",
    "cols.insert(0, cols.pop(-1))\n",
    "df = df[cols]\n",
    "df.head()"
   ],
   "metadata": {
    "collapsed": false,
    "pycharm": {
     "name": "#%%\n"
    }
   }
  },
  {
   "cell_type": "code",
   "execution_count": 5,
   "outputs": [],
   "source": [
    "df.to_csv('train.txt', sep='\\t', header=None, index=None, encoding='utf8')"
   ],
   "metadata": {
    "collapsed": false,
    "pycharm": {
     "name": "#%%\n"
    }
   }
  },
  {
   "cell_type": "code",
   "execution_count": null,
   "outputs": [],
   "source": [],
   "metadata": {
    "collapsed": false,
    "pycharm": {
     "name": "#%%\n"
    }
   }
  }
 ],
 "metadata": {
  "kernelspec": {
   "display_name": "Python 3",
   "language": "python",
   "name": "python3"
  },
  "language_info": {
   "codemirror_mode": {
    "name": "ipython",
    "version": 2
   },
   "file_extension": ".py",
   "mimetype": "text/x-python",
   "name": "python",
   "nbconvert_exporter": "python",
   "pygments_lexer": "ipython2",
   "version": "2.7.6"
  }
 },
 "nbformat": 4,
 "nbformat_minor": 0
}