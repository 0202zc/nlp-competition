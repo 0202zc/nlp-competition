{
 "cells": [
  {
   "cell_type": "code",
   "execution_count": 4,
   "metadata": {
    "collapsed": true
   },
   "outputs": [
    {
     "data": {
      "text/plain": "              ID                                           Elements  \\\n0       TR000001  零壹智库|150份报告！把脉保险数字化及保险科技创新与发展[SEP]科技#大数据#人工智能#...   \n1       TR000002  明晚直播|保险科技企业服务专题：保险营销服务赛道的机会与挑战[SEP]保险科技市场#企业服务...   \n2       TR000003  专访熊猫保险科技创始人王刚：碎片化场景与精细化营销是保险科技新趋势[SEP]熊猫保险科技创始...   \n3       TR000004  熊猫保险科技出席2021保险科技创新发展论坛[SEP]4月16#王刚发表#费改后市场#趋势#...   \n4       TR000005  匠心深耕+科技驱动，众安引领保险科技行业新格局[SEP]新冠疫情#行业带来#冲击#促使#互联...   \n...          ...                                                ...   \n160326  TR160327  蓝黛科技：简式权益变动报告书[SEP]蓝黛科技#黛股权投资基金合伙企业#大道50号9#4通讯...   \n160327  TR160328  供应链金融痛点及区块链解决方案都在这里了！[SEP]人民#区块链作者#长春#中国人民银行数字...   \n160328  TR160329  名校来了｜北工商嘉华学院：立足北京城市副中心2021年新增五个专业[SEP]看点#邀请#做客...   \n160329  TR160330  浙江省金融业发展“十四五”规划发布（全文）[SEP]消息#浙江省政府发布#浙江省金融业发展#...   \n160330  TR160331  北京德恒律师事务所关于上海复旦微电子集团股份有限公司科创板首次公开发行股票战略投资者专项核查...   \n\n                                                     News  \n0       科技与金融的融合正在加速。以大数据、人工智能、生物科技、区块链、物联网等为代表的技术不断成熟...  \n1       保险科技市场上，企业服务赛道正在成为新的主角：统计过去一年多的保险科技投融资案例，半数以上的...  \n2       日前，熊猫保险科技创始人、CEO王刚出席2021保险科技创新发展论坛暨保险科技管理人年会，并...  \n3       （4月16日讯）今日，熊猫保险科技受邀参加2021保险科技创新发展论坛暨保险科技管理人年会。...  \n4       去年，新冠疫情的袭来，给各行业带来巨大冲击，促使各行业加速洗牌。后疫情时代更是让处于下半场的...  \n...                                                   ...  \n160326  蓝黛科技集团股份有限公司简式权益变动报告书上市公司名称:蓝黛科技集团股份有限公司股票上市地点...  \n160327  来源：人民创投区块链作者：穆长春，中国人民银行支付结算司副司长；狄刚，中国人民银行数字货币研...  \n160328  看点：在2021年高考即将到来之际，我们邀请了全国数十所高校“发言人”做客搜狐教育“名校来了...  \n160329  【大河财立方消息】近日，浙江省政府发布《浙江省金融业发展“十四五”规划》。《规划》提出加快打...  \n160330  致：中信建投证券股份有限公司、长城证券股份有限公司北京德恒律师事务所（以下简称“本所”）受中...  \n\n[160331 rows x 3 columns]",
      "text/html": "<div>\n<style scoped>\n    .dataframe tbody tr th:only-of-type {\n        vertical-align: middle;\n    }\n\n    .dataframe tbody tr th {\n        vertical-align: top;\n    }\n\n    .dataframe thead th {\n        text-align: right;\n    }\n</style>\n<table border=\"1\" class=\"dataframe\">\n  <thead>\n    <tr style=\"text-align: right;\">\n      <th></th>\n      <th>ID</th>\n      <th>Elements</th>\n      <th>News</th>\n    </tr>\n  </thead>\n  <tbody>\n    <tr>\n      <th>0</th>\n      <td>TR000001</td>\n      <td>零壹智库|150份报告！把脉保险数字化及保险科技创新与发展[SEP]科技#大数据#人工智能#...</td>\n      <td>科技与金融的融合正在加速。以大数据、人工智能、生物科技、区块链、物联网等为代表的技术不断成熟...</td>\n    </tr>\n    <tr>\n      <th>1</th>\n      <td>TR000002</td>\n      <td>明晚直播|保险科技企业服务专题：保险营销服务赛道的机会与挑战[SEP]保险科技市场#企业服务...</td>\n      <td>保险科技市场上，企业服务赛道正在成为新的主角：统计过去一年多的保险科技投融资案例，半数以上的...</td>\n    </tr>\n    <tr>\n      <th>2</th>\n      <td>TR000003</td>\n      <td>专访熊猫保险科技创始人王刚：碎片化场景与精细化营销是保险科技新趋势[SEP]熊猫保险科技创始...</td>\n      <td>日前，熊猫保险科技创始人、CEO王刚出席2021保险科技创新发展论坛暨保险科技管理人年会，并...</td>\n    </tr>\n    <tr>\n      <th>3</th>\n      <td>TR000004</td>\n      <td>熊猫保险科技出席2021保险科技创新发展论坛[SEP]4月16#王刚发表#费改后市场#趋势#...</td>\n      <td>（4月16日讯）今日，熊猫保险科技受邀参加2021保险科技创新发展论坛暨保险科技管理人年会。...</td>\n    </tr>\n    <tr>\n      <th>4</th>\n      <td>TR000005</td>\n      <td>匠心深耕+科技驱动，众安引领保险科技行业新格局[SEP]新冠疫情#行业带来#冲击#促使#互联...</td>\n      <td>去年，新冠疫情的袭来，给各行业带来巨大冲击，促使各行业加速洗牌。后疫情时代更是让处于下半场的...</td>\n    </tr>\n    <tr>\n      <th>...</th>\n      <td>...</td>\n      <td>...</td>\n      <td>...</td>\n    </tr>\n    <tr>\n      <th>160326</th>\n      <td>TR160327</td>\n      <td>蓝黛科技：简式权益变动报告书[SEP]蓝黛科技#黛股权投资基金合伙企业#大道50号9#4通讯...</td>\n      <td>蓝黛科技集团股份有限公司简式权益变动报告书上市公司名称:蓝黛科技集团股份有限公司股票上市地点...</td>\n    </tr>\n    <tr>\n      <th>160327</th>\n      <td>TR160328</td>\n      <td>供应链金融痛点及区块链解决方案都在这里了！[SEP]人民#区块链作者#长春#中国人民银行数字...</td>\n      <td>来源：人民创投区块链作者：穆长春，中国人民银行支付结算司副司长；狄刚，中国人民银行数字货币研...</td>\n    </tr>\n    <tr>\n      <th>160328</th>\n      <td>TR160329</td>\n      <td>名校来了｜北工商嘉华学院：立足北京城市副中心2021年新增五个专业[SEP]看点#邀请#做客...</td>\n      <td>看点：在2021年高考即将到来之际，我们邀请了全国数十所高校“发言人”做客搜狐教育“名校来了...</td>\n    </tr>\n    <tr>\n      <th>160329</th>\n      <td>TR160330</td>\n      <td>浙江省金融业发展“十四五”规划发布（全文）[SEP]消息#浙江省政府发布#浙江省金融业发展#...</td>\n      <td>【大河财立方消息】近日，浙江省政府发布《浙江省金融业发展“十四五”规划》。《规划》提出加快打...</td>\n    </tr>\n    <tr>\n      <th>160330</th>\n      <td>TR160331</td>\n      <td>北京德恒律师事务所关于上海复旦微电子集团股份有限公司科创板首次公开发行股票战略投资者专项核查...</td>\n      <td>致：中信建投证券股份有限公司、长城证券股份有限公司北京德恒律师事务所（以下简称“本所”）受中...</td>\n    </tr>\n  </tbody>\n</table>\n<p>160331 rows × 3 columns</p>\n</div>"
     },
     "execution_count": 4,
     "metadata": {},
     "output_type": "execute_result"
    }
   ],
   "source": [
    "import numpy as np\n",
    "import pandas as pd\n",
    "\n",
    "train_df = pd.read_csv('../Train.csv', encoding='utf8', header=0)\n",
    "testA_df = pd.read_csv('../Test_A.csv', encoding='utf8', header=0)\n",
    "testB_df = pd.read_csv('../Test_B.csv', encoding='utf8', header=0)\n",
    "\n",
    "train_df"
   ]
  },
  {
   "cell_type": "code",
   "execution_count": 5,
   "outputs": [
    {
     "data": {
      "text/plain": "                                                    input  \\\n0       根据标题和关键词生成文章：_标题：零壹智库|150份报告！把脉保险数字化及保险科技创新与发展...   \n1       根据标题和关键词生成文章：_标题：明晚直播|保险科技企业服务专题：保险营销服务赛道的机会与挑...   \n2       根据标题和关键词生成文章：_标题：专访熊猫保险科技创始人王刚：碎片化场景与精细化营销是保险科...   \n3       根据标题和关键词生成文章：_标题：熊猫保险科技出席2021保险科技创新发展论坛_关键词：4月...   \n4       根据标题和关键词生成文章：_标题：匠心深耕+科技驱动，众安引领保险科技行业新格局_关键词：新...   \n...                                                   ...   \n160326  根据标题和关键词生成文章：_标题：蓝黛科技：简式权益变动报告书_关键词：蓝黛科技;黛股权投资...   \n160327  根据标题和关键词生成文章：_标题：供应链金融痛点及区块链解决方案都在这里了！_关键词：人民;...   \n160328  根据标题和关键词生成文章：_标题：名校来了|北工商嘉华学院：立足北京城市副中心2021年新增...   \n160329  根据标题和关键词生成文章：_标题：浙江省金融业发展“十四五”规划发布（全文）_关键词：消息;...   \n160330  根据标题和关键词生成文章：_标题：北京德恒律师事务所关于上海复旦微电子集团股份有限公司科创板...   \n\n                                                   target  \n0       科技与金融的融合正在加速。以大数据、人工智能、生物科技、区块链、物联网等为代表的技术不断成熟...  \n1       保险科技市场上，企业服务赛道正在成为新的主角：统计过去一年多的保险科技投融资案例，半数以上的...  \n2       日前，熊猫保险科技创始人、CEO王刚出席2021保险科技创新发展论坛暨保险科技管理人年会，并...  \n3       （4月16日讯）今日，熊猫保险科技受邀参加2021保险科技创新发展论坛暨保险科技管理人年会。...  \n4       去年，新冠疫情的袭来，给各行业带来巨大冲击，促使各行业加速洗牌。后疫情时代更是让处于下半场的...  \n...                                                   ...  \n160326  蓝黛科技集团股份有限公司简式权益变动报告书上市公司名称:蓝黛科技集团股份有限公司股票上市地点...  \n160327  来源：人民创投区块链作者：穆长春，中国人民银行支付结算司副司长；狄刚，中国人民银行数字货币研...  \n160328  看点：在2021年高考即将到来之际，我们邀请了全国数十所高校“发言人”做客搜狐教育“名校来了...  \n160329  【大河财立方消息】近日，浙江省政府发布《浙江省金融业发展“十四五”规划》。《规划》提出加快打...  \n160330  致：中信建投证券股份有限公司、长城证券股份有限公司北京德恒律师事务所（以下简称“本所”）受中...  \n\n[160331 rows x 2 columns]",
      "text/html": "<div>\n<style scoped>\n    .dataframe tbody tr th:only-of-type {\n        vertical-align: middle;\n    }\n\n    .dataframe tbody tr th {\n        vertical-align: top;\n    }\n\n    .dataframe thead th {\n        text-align: right;\n    }\n</style>\n<table border=\"1\" class=\"dataframe\">\n  <thead>\n    <tr style=\"text-align: right;\">\n      <th></th>\n      <th>input</th>\n      <th>target</th>\n    </tr>\n  </thead>\n  <tbody>\n    <tr>\n      <th>0</th>\n      <td>根据标题和关键词生成文章：_标题：零壹智库|150份报告！把脉保险数字化及保险科技创新与发展...</td>\n      <td>科技与金融的融合正在加速。以大数据、人工智能、生物科技、区块链、物联网等为代表的技术不断成熟...</td>\n    </tr>\n    <tr>\n      <th>1</th>\n      <td>根据标题和关键词生成文章：_标题：明晚直播|保险科技企业服务专题：保险营销服务赛道的机会与挑...</td>\n      <td>保险科技市场上，企业服务赛道正在成为新的主角：统计过去一年多的保险科技投融资案例，半数以上的...</td>\n    </tr>\n    <tr>\n      <th>2</th>\n      <td>根据标题和关键词生成文章：_标题：专访熊猫保险科技创始人王刚：碎片化场景与精细化营销是保险科...</td>\n      <td>日前，熊猫保险科技创始人、CEO王刚出席2021保险科技创新发展论坛暨保险科技管理人年会，并...</td>\n    </tr>\n    <tr>\n      <th>3</th>\n      <td>根据标题和关键词生成文章：_标题：熊猫保险科技出席2021保险科技创新发展论坛_关键词：4月...</td>\n      <td>（4月16日讯）今日，熊猫保险科技受邀参加2021保险科技创新发展论坛暨保险科技管理人年会。...</td>\n    </tr>\n    <tr>\n      <th>4</th>\n      <td>根据标题和关键词生成文章：_标题：匠心深耕+科技驱动，众安引领保险科技行业新格局_关键词：新...</td>\n      <td>去年，新冠疫情的袭来，给各行业带来巨大冲击，促使各行业加速洗牌。后疫情时代更是让处于下半场的...</td>\n    </tr>\n    <tr>\n      <th>...</th>\n      <td>...</td>\n      <td>...</td>\n    </tr>\n    <tr>\n      <th>160326</th>\n      <td>根据标题和关键词生成文章：_标题：蓝黛科技：简式权益变动报告书_关键词：蓝黛科技;黛股权投资...</td>\n      <td>蓝黛科技集团股份有限公司简式权益变动报告书上市公司名称:蓝黛科技集团股份有限公司股票上市地点...</td>\n    </tr>\n    <tr>\n      <th>160327</th>\n      <td>根据标题和关键词生成文章：_标题：供应链金融痛点及区块链解决方案都在这里了！_关键词：人民;...</td>\n      <td>来源：人民创投区块链作者：穆长春，中国人民银行支付结算司副司长；狄刚，中国人民银行数字货币研...</td>\n    </tr>\n    <tr>\n      <th>160328</th>\n      <td>根据标题和关键词生成文章：_标题：名校来了|北工商嘉华学院：立足北京城市副中心2021年新增...</td>\n      <td>看点：在2021年高考即将到来之际，我们邀请了全国数十所高校“发言人”做客搜狐教育“名校来了...</td>\n    </tr>\n    <tr>\n      <th>160329</th>\n      <td>根据标题和关键词生成文章：_标题：浙江省金融业发展“十四五”规划发布（全文）_关键词：消息;...</td>\n      <td>【大河财立方消息】近日，浙江省政府发布《浙江省金融业发展“十四五”规划》。《规划》提出加快打...</td>\n    </tr>\n    <tr>\n      <th>160330</th>\n      <td>根据标题和关键词生成文章：_标题：北京德恒律师事务所关于上海复旦微电子集团股份有限公司科创板...</td>\n      <td>致：中信建投证券股份有限公司、长城证券股份有限公司北京德恒律师事务所（以下简称“本所”）受中...</td>\n    </tr>\n  </tbody>\n</table>\n<p>160331 rows × 2 columns</p>\n</div>"
     },
     "execution_count": 5,
     "metadata": {},
     "output_type": "execute_result"
    }
   ],
   "source": [
    "train_elements_df = train_df['Elements'].str.replace('｜', '|', regex=False).str.split('[SEP]', regex=False, expand=True)\n",
    "train_elements_df.columns = ['title', 'keywords']\n",
    "train_elements_df['keywords'] = train_elements_df['keywords'].str.replace('#', ';')\n",
    "\n",
    "train_elements_df['input'] = '根据标题和关键词生成文章：_标题：' + train_elements_df['title'].str.strip() + '_关键词：' + train_elements_df['keywords'].str.strip() + '_答案：'\n",
    "train_elements_df['target'] = train_df['News'].str.replace('｜', '|', regex=False).str.replace('\u0002', '', regex=False).str.strip()\n",
    "\n",
    "train_elements_df[['input', 'target']].to_csv('train_prompt.tsv', sep='\\t', encoding='utf8', index=False)\n",
    "train_elements_df[['input', 'target']]"
   ],
   "metadata": {
    "collapsed": false
   }
  },
  {
   "cell_type": "code",
   "execution_count": 6,
   "outputs": [
    {
     "data": {
      "text/plain": "0       根据标题和关键词生成文章：_标题：统计局：7月份，制造业采购经理指数(PMI)为49.0%_...\n1       根据标题和关键词生成文章：_标题：统计局：7月份制造业采购经理指数为49.0%_关键词：统计...\n2       根据标题和关键词生成文章：_标题：货币政策这十年：管好总闸门的勇气与探索_关键词：作者;杨志...\n3       根据标题和关键词生成文章：_标题：央行：通过结构性货币政策工具等多种政策引导金融机构精准支持...\n4       根据标题和关键词生成文章：_标题：7月份中国采购经理指数公布：新动能保持上升势头就业保持相对...\n                              ...                        \n1204    根据标题和关键词生成文章：_标题：【开业】和研科技·苏州公司隆重开业，凝芯聚力，芯启征程！小...\n1205    根据标题和关键词生成文章：_标题：“国云”的使命与前路_关键词：原标题;国云;揭开面纱;举办...\n1206    根据标题和关键词生成文章：_标题：联想集团首次公布工业智慧节能解决方案搬走能源高损耗“拦路虎...\n1207    根据标题和关键词生成文章：_标题：新业态催生的这些新职业，看看有没有适合你的？_关键词：人民...\n1208    根据标题和关键词生成文章：_标题：老百姓(603883):老百姓2022年限制性股票激励计划...\nName: input, Length: 1209, dtype: object"
     },
     "execution_count": 6,
     "metadata": {},
     "output_type": "execute_result"
    }
   ],
   "source": [
    "testA_elements_df = testA_df['Elements'].str.replace('｜', '|', regex=False).str.split('[SEP]', regex=False, expand=True)\n",
    "testA_elements_df.columns = ['title', 'keywords']\n",
    "testA_elements_df['keywords'] = testA_elements_df['keywords'].str.replace('#', ';').str.replace('​', \"\", regex=False)\n",
    "\n",
    "testA_elements_df['input'] = '根据标题和关键词生成文章：_标题：' + testA_elements_df['title'].str.strip() + '_关键词：' + testA_elements_df['keywords'].str.strip() + '_答案：'\n",
    "\n",
    "testA_elements_df['input'].to_csv('testA_prompt.tsv', sep='\\t', encoding='utf8', index=False)\n",
    "testA_elements_df['input']"
   ],
   "metadata": {
    "collapsed": false
   }
  },
  {
   "cell_type": "code",
   "execution_count": 7,
   "outputs": [
    {
     "data": {
      "text/plain": "0       根据标题和关键词生成文章：_标题：7月份经济数据前瞻：CPI同比涨幅或升至3.1%PPI回落...\n1       根据标题和关键词生成文章：_标题：王晋斌：美联储货币政策对世界经济的负面溢出效应最大化_关键...\n2       根据标题和关键词生成文章：_标题：2022年8月中国采购经理指数运行情况_关键词：月份;制造...\n3       根据标题和关键词生成文章：_标题：统计局：8月份制造业采购经理指数为49.4%_关键词：原标...\n4       根据标题和关键词生成文章：_标题：周三（8月31日）重点关注财经事件和经济数据_关键词：09...\n                              ...                        \n1670    根据标题和关键词生成文章：_标题：PTA&MEG：供应缩减，高温消退，等待需求启动_关键词：...\n1671    根据标题和关键词生成文章：_标题：深度研究矩阵为行业转型赋能中小银行联盟五年持续输出数字化智...\n1672    根据标题和关键词生成文章：_标题：巨丰投顾开展金融知识普及月活动！远离非法证券咨询陷阱_关键...\n1673    根据标题和关键词生成文章：_标题：进军元宇宙！三家硬件巨头争抢下一代互联网入口_关键词：元宇...\n1674    根据标题和关键词生成文章：_标题：牧原股份(002714):牧原食品股份有限公司、中信证券股...\nName: input, Length: 1675, dtype: object"
     },
     "execution_count": 7,
     "metadata": {},
     "output_type": "execute_result"
    }
   ],
   "source": [
    "testB_elements_df = testB_df['Elements'].str.replace('｜', '|', regex=False).str.split('[SEP]', regex=False, expand=True)\n",
    "testB_elements_df.columns = ['title', 'keywords']\n",
    "testB_elements_df['keywords'] = testB_elements_df['keywords'].str.replace('#', ';').str.replace('​', \"\", regex=False)\n",
    "\n",
    "testB_elements_df['input'] = '根据标题和关键词生成文章：_标题：' + testB_elements_df['title'].str.strip() + '_关键词：' + testB_elements_df['keywords'].str.strip() + '_答案：'\n",
    "\n",
    "testB_elements_df['input'].to_csv('testB_prompt.tsv', sep='\\t', encoding='utf8', index=False)\n",
    "testB_elements_df['input']"
   ],
   "metadata": {
    "collapsed": false
   }
  },
  {
   "cell_type": "code",
   "execution_count": 8,
   "outputs": [
    {
     "name": "stdout",
     "output_type": "stream",
     "text": [
      "train input: 433 40 191.0\n",
      "train target: 401 1 325.0\n",
      "testA input: 313 101 189.0\n",
      "testB input: 341 75 188.0\n"
     ]
    }
   ],
   "source": [
    "train_input = np.asarray(train_elements_df['input']).tolist()\n",
    "lengths = [len(l) for l in train_input]\n",
    "print('train input:', max(lengths), min(lengths), np.median(lengths))\n",
    "\n",
    "train_target = np.asarray(train_elements_df['target']).tolist()\n",
    "lengths = [len(l) for l in train_target]\n",
    "print('train target:', max(lengths), min(lengths), np.median(lengths))\n",
    "\n",
    "\n",
    "testA_input = np.asarray(testA_elements_df['input']).tolist()\n",
    "lengths = [len(l) for l in testA_input]\n",
    "print('testA input:', max(lengths), min(lengths), np.median(lengths))\n",
    "\n",
    "testB_input = np.asarray(testB_elements_df['input']).tolist()\n",
    "lengths = [len(l) for l in testB_input]\n",
    "print('testB input:', max(lengths), min(lengths), np.median(lengths))"
   ],
   "metadata": {
    "collapsed": false
   }
  },
  {
   "cell_type": "code",
   "execution_count": 4,
   "outputs": [
    {
     "name": "stdout",
     "output_type": "stream",
     "text": [
      "train target: 943 93 251.0\n"
     ]
    },
    {
     "name": "stderr",
     "output_type": "stream",
     "text": [
      "C:\\Anaconda3\\envs\\pytorch\\lib\\site-packages\\pandas\\util\\_decorators.py:211: FutureWarning: the 'encoding' keyword is deprecated and will be removed in a future version. Please take steps to stop the use of 'encoding'\n",
      "  return func(*args, **kwargs)\n"
     ]
    },
    {
     "data": {
      "text/plain": "          ID                                           Elements  \\\n0     TA0001  统计局：7月份，制造业采购经理指数(PMI)为49.0%[SEP]国家统计局网站31日消息#...   \n1     TA0002  统计局：7月份制造业采购经理指数为49.0%[SEP]统计局#月份制造业采购经理指数#49....   \n2     TA0003  货币政策这十年：管好总闸门的勇气与探索[SEP]作者#杨志#图虫时间回到10#飞速增长#中国...   \n3     TA0004  央行：通过结构性货币政策工具等多种政策引导金融机构精准支持重点领域[SEP]中国人民银行有关...   \n4     TA0005  7月份中国采购经理指数公布：新动能保持上升势头就业保持相对稳定[SEP]股市#投资#决策#来...   \n...      ...                                                ...   \n1204  TA1205  【开业】和研科技·苏州公司隆重开业，凝芯聚力，芯启征程！小米自研电池管理芯片背后：国内电源管...   \n1205  TA1206  “国云”的使命与前路[SEP]原标题#国云#揭开面纱#举办#第五届数字中国建设峰会#国云#大...   \n1206  TA1207  联想集团首次公布工业智慧节能解决方案搬走能源高损耗“拦路虎”[SEP]碳达峰#作为#碳排放大...   \n1207  TA1208  新业态催生的这些新职业，看看有没有适合你的？[SEP]人民#孕育#三类别共18个#职业#业态...   \n1208  TA1209  老百姓(603883):老百姓2022年限制性股票激励计划（草案）摘要公告[SEP]老百姓#...   \n\n                                                   News  \n0     据国家统计局网站31日消息，7月份，制造业采购经理指数(PMI)为49.0%，比上月下降1....  \n1     统计局：7月份制造业采购经理指数为49.0%2022-07-28:01来源:中国银行保险报作...  \n2     作者：杨志，图虫时间回到10年前，中国广义货币已经逼近百万亿的关口，开始走出庙堂和坊间，“赢...  \n3     中国人民银行有关司局负责人日前在第十三届陆家嘴论坛上表示，通过结构性货币政策工具等多种政策引...  \n4     股市瞬息万变，投资难以决策？来#A股参谋部#超话聊一聊，点击进入超话!原标题：7月份中国采购...  \n...                                                 ...  \n1204  和研科技·苏州公司隆重开业，凝芯聚力，芯启征程!小米自研电池管理芯片背后：国内电源管理芯片厂...  \n1205  原标题：“国云”揭开面纱今年举办的第五届数字中国建设峰会，以“国云”为大会主题，铸牢“国云”...  \n1206  碳达峰、碳中和，作为我国低碳排放大户，工业制造行业正成为社会的重要行业之一。7月29日，联想...  \n1207  近年来，我国人民不断孕育新职业、新业态、新产业。其中，“民宿管家”和“数字化解决方案设计师”...  \n1208  原标题：老百姓(603883):老百姓2022年限制性股票激励计划(草案)摘要公告证券代码：...  \n\n[1209 rows x 3 columns]",
      "text/html": "<div>\n<style scoped>\n    .dataframe tbody tr th:only-of-type {\n        vertical-align: middle;\n    }\n\n    .dataframe tbody tr th {\n        vertical-align: top;\n    }\n\n    .dataframe thead th {\n        text-align: right;\n    }\n</style>\n<table border=\"1\" class=\"dataframe\">\n  <thead>\n    <tr style=\"text-align: right;\">\n      <th></th>\n      <th>ID</th>\n      <th>Elements</th>\n      <th>News</th>\n    </tr>\n  </thead>\n  <tbody>\n    <tr>\n      <th>0</th>\n      <td>TA0001</td>\n      <td>统计局：7月份，制造业采购经理指数(PMI)为49.0%[SEP]国家统计局网站31日消息#...</td>\n      <td>据国家统计局网站31日消息，7月份，制造业采购经理指数(PMI)为49.0%，比上月下降1....</td>\n    </tr>\n    <tr>\n      <th>1</th>\n      <td>TA0002</td>\n      <td>统计局：7月份制造业采购经理指数为49.0%[SEP]统计局#月份制造业采购经理指数#49....</td>\n      <td>统计局：7月份制造业采购经理指数为49.0%2022-07-28:01来源:中国银行保险报作...</td>\n    </tr>\n    <tr>\n      <th>2</th>\n      <td>TA0003</td>\n      <td>货币政策这十年：管好总闸门的勇气与探索[SEP]作者#杨志#图虫时间回到10#飞速增长#中国...</td>\n      <td>作者：杨志，图虫时间回到10年前，中国广义货币已经逼近百万亿的关口，开始走出庙堂和坊间，“赢...</td>\n    </tr>\n    <tr>\n      <th>3</th>\n      <td>TA0004</td>\n      <td>央行：通过结构性货币政策工具等多种政策引导金融机构精准支持重点领域[SEP]中国人民银行有关...</td>\n      <td>中国人民银行有关司局负责人日前在第十三届陆家嘴论坛上表示，通过结构性货币政策工具等多种政策引...</td>\n    </tr>\n    <tr>\n      <th>4</th>\n      <td>TA0005</td>\n      <td>7月份中国采购经理指数公布：新动能保持上升势头就业保持相对稳定[SEP]股市#投资#决策#来...</td>\n      <td>股市瞬息万变，投资难以决策？来#A股参谋部#超话聊一聊，点击进入超话!原标题：7月份中国采购...</td>\n    </tr>\n    <tr>\n      <th>...</th>\n      <td>...</td>\n      <td>...</td>\n      <td>...</td>\n    </tr>\n    <tr>\n      <th>1204</th>\n      <td>TA1205</td>\n      <td>【开业】和研科技·苏州公司隆重开业，凝芯聚力，芯启征程！小米自研电池管理芯片背后：国内电源管...</td>\n      <td>和研科技·苏州公司隆重开业，凝芯聚力，芯启征程!小米自研电池管理芯片背后：国内电源管理芯片厂...</td>\n    </tr>\n    <tr>\n      <th>1205</th>\n      <td>TA1206</td>\n      <td>“国云”的使命与前路[SEP]原标题#国云#揭开面纱#举办#第五届数字中国建设峰会#国云#大...</td>\n      <td>原标题：“国云”揭开面纱今年举办的第五届数字中国建设峰会，以“国云”为大会主题，铸牢“国云”...</td>\n    </tr>\n    <tr>\n      <th>1206</th>\n      <td>TA1207</td>\n      <td>联想集团首次公布工业智慧节能解决方案搬走能源高损耗“拦路虎”[SEP]碳达峰#作为#碳排放大...</td>\n      <td>碳达峰、碳中和，作为我国低碳排放大户，工业制造行业正成为社会的重要行业之一。7月29日，联想...</td>\n    </tr>\n    <tr>\n      <th>1207</th>\n      <td>TA1208</td>\n      <td>新业态催生的这些新职业，看看有没有适合你的？[SEP]人民#孕育#三类别共18个#职业#业态...</td>\n      <td>近年来，我国人民不断孕育新职业、新业态、新产业。其中，“民宿管家”和“数字化解决方案设计师”...</td>\n    </tr>\n    <tr>\n      <th>1208</th>\n      <td>TA1209</td>\n      <td>老百姓(603883):老百姓2022年限制性股票激励计划（草案）摘要公告[SEP]老百姓#...</td>\n      <td>原标题：老百姓(603883):老百姓2022年限制性股票激励计划(草案)摘要公告证券代码：...</td>\n    </tr>\n  </tbody>\n</table>\n<p>1209 rows × 3 columns</p>\n</div>"
     },
     "execution_count": 4,
     "metadata": {},
     "output_type": "execute_result"
    }
   ],
   "source": [
    "import pandas as pd\n",
    "import numpy as np\n",
    "\n",
    "news = pd.read_csv('predictions.csv', encoding='utf8', header=0, names=['News'], sep='\\t')\n",
    "testA_df['News'] = news['News']\n",
    "testA_df[['ID', 'News']].to_excel('../results/result.xlsx', encoding='utf8', index=False)\n",
    "\n",
    "testA_target = np.asarray(testA_df['News']).tolist()\n",
    "lengths = [len(l) for l in testA_target]\n",
    "print('train target:', max(lengths), min(lengths), np.median(lengths))\n",
    "\n",
    "testA_df"
   ],
   "metadata": {
    "collapsed": false
   }
  },
  {
   "cell_type": "code",
   "execution_count": null,
   "outputs": [],
   "source": [],
   "metadata": {
    "collapsed": false
   }
  }
 ],
 "metadata": {
  "kernelspec": {
   "display_name": "Python 3",
   "language": "python",
   "name": "python3"
  },
  "language_info": {
   "codemirror_mode": {
    "name": "ipython",
    "version": 2
   },
   "file_extension": ".py",
   "mimetype": "text/x-python",
   "name": "python",
   "nbconvert_exporter": "python",
   "pygments_lexer": "ipython2",
   "version": "2.7.6"
  }
 },
 "nbformat": 4,
 "nbformat_minor": 0
}
