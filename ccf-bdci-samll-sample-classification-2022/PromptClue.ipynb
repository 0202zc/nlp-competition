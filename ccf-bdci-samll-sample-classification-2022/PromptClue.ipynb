{
 "cells": [
  {
   "cell_type": "markdown",
   "id": "e40cbef5-1289-42ed-97f5-28fe9377e6e5",
   "metadata": {},
   "source": [
    "# 使用自定义数据集训练PromptCLUE模型"
   ]
  },
  {
   "cell_type": "code",
   "execution_count": 1,
   "id": "f8f521b0-e13d-4b4b-bb9b-064b78607439",
   "metadata": {},
   "outputs": [
    {
     "name": "stdout",
     "output_type": "stream",
     "text": [
      "end2...\n"
     ]
    }
   ],
   "source": [
    "# 引入相应的包 Importing libraries\n",
    "import os\n",
    "\n",
    "os.environ['CUDA_VISIBLE_DEVICES'] = '0,1'\n",
    "\n",
    "import numpy as np\n",
    "import pandas as pd\n",
    "import torch\n",
    "import torch.nn.functional as F\n",
    "from torch.utils.data import Dataset, DataLoader, RandomSampler, SequentialSampler\n",
    "import time, json\n",
    "# Importing the T5 modules from huggingface/transformers\n",
    "from transformers import T5Tokenizer, T5ForConditionalGeneration\n",
    "\n",
    "# rich: for a better display on terminal\n",
    "from rich.table import Column, Table\n",
    "from rich import box\n",
    "from rich.console import Console\n",
    "print(\"end2...\")"
   ]
  },
  {
   "cell_type": "code",
   "execution_count": 2,
   "id": "6e7aab58-3d96-41f1-ae77-cfa9edf71ed3",
   "metadata": {},
   "outputs": [
    {
     "name": "stdout",
     "output_type": "stream",
     "text": [
      "end...\n"
     ]
    }
   ],
   "source": [
    "# 做一些相关的配置(打印显示；GPU设置)\n",
    "# define a rich console logger\n",
    "console = Console(record=True)\n",
    "\n",
    "# to display dataframe in ASCII format\n",
    "def display_df(df):\n",
    "    \"\"\"display dataframe in ASCII format\"\"\"\n",
    "\n",
    "    console = Console()\n",
    "    table = Table(\n",
    "        Column(\"source_text\", justify=\"center\"),\n",
    "        Column(\"target_text\", justify=\"center\"),\n",
    "        title=\"Sample Data\",\n",
    "        pad_edge=False,\n",
    "        box=box.ASCII,\n",
    "    )\n",
    "\n",
    "    for i, row in enumerate(df.values.tolist()):\n",
    "        table.add_row(row[0], row[1])\n",
    "\n",
    "    # console.print(table) # TODO TODO TODO \n",
    "\n",
    "# training logger to log training progress\n",
    "training_logger = Table(\n",
    "    Column(\"Epoch\", justify=\"center\"),\n",
    "    Column(\"Steps\", justify=\"center\"),\n",
    "    Column(\"Loss\", justify=\"center\"),\n",
    "    title=\"Training Status\",\n",
    "    pad_edge=False,\n",
    "    box=box.ASCII,\n",
    ")\n",
    "\n",
    "# Setting up the device for GPU usage\n",
    "device = torch.device(\"cuda\" if torch.cuda.is_available() else \"cpu\")\n",
    "\n",
    "print(\"end...\")"
   ]
  },
  {
   "cell_type": "markdown",
   "id": "d50d6c66-f468-43b9-8c03-d72f5594248b",
   "metadata": {},
   "source": [
    "# Dataset Class 自定义数据集类"
   ]
  },
  {
   "cell_type": "code",
   "execution_count": 3,
   "id": "1040b801-29b9-4a4f-a31f-60fe11a85d33",
   "metadata": {},
   "outputs": [
    {
     "name": "stdout",
     "output_type": "stream",
     "text": [
      "end...\n"
     ]
    }
   ],
   "source": [
    "class SmallSampleDataSetClass(Dataset):\n",
    "    \"\"\"\n",
    "    创建一个自定义的数据集，用于训练，必须包括两个字段：输入(如source_text)、输出（如target_text）\n",
    "    Creating a custom dataset for reading the dataset and\n",
    "    loading it into the dataloader to pass it to the\n",
    "    neural network for finetuning the model\n",
    "\n",
    "    \"\"\"\n",
    "\n",
    "    def __init__(\n",
    "        self, dataframe, tokenizer, source_len, target_len, source_text, target_text\n",
    "    ):\n",
    "        \"\"\"\n",
    "        Initializes a Dataset class\n",
    "\n",
    "        Args:\n",
    "            dataframe (pandas.DataFrame): Input dataframe\n",
    "            tokenizer (transformers.tokenizer): Transformers tokenizer\n",
    "            source_len (int): Max length of source text\n",
    "            target_len (int): Max length of target text\n",
    "            source_text (str): column name of source text\n",
    "            target_text (str): column name of target text\n",
    "        \"\"\"\n",
    "        self.tokenizer = tokenizer\n",
    "        self.data = dataframe\n",
    "        self.source_len = source_len\n",
    "        self.summ_len = target_len\n",
    "        self.target_text = self.data[target_text] if target_text is not None else None\n",
    "        self.source_text = self.data[source_text]\n",
    "\n",
    "    def __len__(self):\n",
    "        \"\"\"returns the length of dataframe\"\"\"\n",
    "        if self.target_text is not None:\n",
    "            return len(self.target_text)\n",
    "        else:\n",
    "            return len(self.source_text)\n",
    "\n",
    "    def __getitem__(self, index):\n",
    "        \n",
    "        if self.target_text is not None:\n",
    "            \"\"\"return the input ids, attention masks and target ids\"\"\"\n",
    "\n",
    "            source_text = str(self.source_text[index])\n",
    "            target_text = str(self.target_text[index])\n",
    "\n",
    "            # cleaning data so as to ensure data is in string type\n",
    "            source_text = \" \".join(source_text.split())\n",
    "            target_text = \" \".join(target_text.split())\n",
    "\n",
    "            source = self.tokenizer.batch_encode_plus(\n",
    "                [source_text],\n",
    "                max_length=self.source_len,\n",
    "                pad_to_max_length=True,\n",
    "                truncation=True,\n",
    "                padding=\"max_length\",\n",
    "                return_tensors=\"pt\",\n",
    "            )\n",
    "            target = self.tokenizer.batch_encode_plus(\n",
    "                [target_text],\n",
    "                max_length=self.summ_len,\n",
    "                pad_to_max_length=True,\n",
    "                truncation=True,\n",
    "                padding=\"max_length\",\n",
    "                return_tensors=\"pt\",\n",
    "            )\n",
    "\n",
    "            source_ids = source[\"input_ids\"].squeeze()\n",
    "            source_mask = source[\"attention_mask\"].squeeze()\n",
    "            target_ids = target[\"input_ids\"].squeeze()\n",
    "            target_mask = target[\"attention_mask\"].squeeze()\n",
    "\n",
    "            return {\n",
    "                \"source_ids\": source_ids.to(dtype=torch.long),\n",
    "                \"source_mask\": source_mask.to(dtype=torch.long),\n",
    "                \"target_ids\": target_ids.to(dtype=torch.long),\n",
    "                \"target_ids_y\": target_ids.to(dtype=torch.long),\n",
    "            }\n",
    "        else:\n",
    "            \"\"\"return the input ids, attention masks and target ids\"\"\"\n",
    "\n",
    "            source_text = str(self.source_text[index])\n",
    "\n",
    "            # cleaning data so as to ensure data is in string type\n",
    "            source_text = \" \".join(source_text.split())\n",
    "\n",
    "            source = self.tokenizer.batch_encode_plus(\n",
    "                [source_text],\n",
    "                max_length=self.source_len,\n",
    "                pad_to_max_length=True,\n",
    "                truncation=True,\n",
    "                padding=\"max_length\",\n",
    "                return_tensors=\"pt\",\n",
    "            )\n",
    "            \n",
    "            source_ids = source[\"input_ids\"].squeeze()\n",
    "            source_mask = source[\"attention_mask\"].squeeze()\n",
    "\n",
    "            return {\n",
    "                \"source_ids\": source_ids.to(dtype=torch.long),\n",
    "                \"source_mask\": source_mask.to(dtype=torch.long)\n",
    "            }\n",
    "print(\"end...\")"
   ]
  },
  {
   "cell_type": "markdown",
   "id": "bfb44c17-202a-46e2-86c2-0f301ead32b4",
   "metadata": {
    "tags": []
   },
   "source": [
    "# 训练方法 Train"
   ]
  },
  {
   "cell_type": "code",
   "execution_count": 4,
   "id": "db736ef5-357f-4587-9ef2-d543b287c48a",
   "metadata": {},
   "outputs": [
    {
     "name": "stdout",
     "output_type": "stream",
     "text": [
      "end...\n"
     ]
    }
   ],
   "source": [
    "def train(epoch, tokenizer, model, device, loader, optimizer, scheduler):\n",
    "\n",
    "    \"\"\"\n",
    "    用于训练的方法\n",
    "    Function to be called for training with the parameters passed from main function\n",
    "\n",
    "    \"\"\"\n",
    "    n_gpu = torch.cuda.device_count()\n",
    "\n",
    "    model.train()\n",
    "    time1=time.time()\n",
    "    for _, data in enumerate(loader, 0):\n",
    "        y = data[\"target_ids\"].to(device, dtype=torch.long)\n",
    "        y_ids = y[:, :-1].contiguous() # target, from start to end(except end of token, <EOS>). e.g. \"你好吗？\"\n",
    "        lm_labels = y[:, 1:].clone().detach() # target, for second to end.e.g.\"好吗？<EOS>\"\n",
    "        lm_labels[y[:, 1:] == tokenizer.pad_token_id] = -100 # releted to pad_token and loss. for detail, check here: https://github.com/Shivanandroy/T5-Finetuning-PyTorch/issues/3\n",
    "        ids = data[\"source_ids\"].to(device, dtype=torch.long) # input. e.g. \"how are you?\"\n",
    "        mask = data[\"source_mask\"].to(device, dtype=torch.long)\n",
    "\n",
    "        outputs = model(\n",
    "            input_ids=ids,\n",
    "            attention_mask=mask,\n",
    "            decoder_input_ids=y_ids,\n",
    "            labels=lm_labels,\n",
    "        )\n",
    "        loss = outputs[0]\n",
    "        if n_gpu > 1:\n",
    "            loss = loss.mean()\n",
    "            \n",
    "        # 每100步打印日志\n",
    "        if _ % 100 == 0 and _!=0:\n",
    "            time2=time.time()\n",
    "            print(_,\"epoch: \" + str(epoch) + \"; loss:{:.4f}; each step's time spent:{:.2f}\".format(loss.detach().cpu().numpy(), float(time2-time1) / float(_ + 0.0001)))\n",
    "            # training_logger.add_row(str(epoch), str(_), str(loss))\n",
    "            # console.print(training_logger)\n",
    "\n",
    "        optimizer.zero_grad()\n",
    "        loss.backward()\n",
    "        optimizer.step()\n",
    "        scheduler.step()\n",
    "print(\"end...\")"
   ]
  },
  {
   "cell_type": "markdown",
   "id": "6a96d01b-d310-45e6-a505-40ff1055a83a",
   "metadata": {
    "tags": []
   },
   "source": [
    "# 用于验证的方法 Validate"
   ]
  },
  {
   "cell_type": "code",
   "execution_count": 5,
   "id": "425d1bb4-f139-4bdc-99da-700d04d70ef2",
   "metadata": {},
   "outputs": [
    {
     "name": "stdout",
     "output_type": "stream",
     "text": [
      "end...\n"
     ]
    }
   ],
   "source": [
    "def validate(epoch, tokenizer, model, device, loader,max_length):\n",
    "\n",
    "    \"\"\"\n",
    "    用于验证的方法：输入用于验证的数据，返回模型预测的结果和正确的标签\n",
    "    Function to evaluate model for predictions\n",
    "\n",
    "    \"\"\"\n",
    "    model.eval()\n",
    "    predictions = []\n",
    "    actuals = []\n",
    "    with torch.no_grad():\n",
    "        for _, data in enumerate(loader, 0):\n",
    "            y = data['target_ids'].to(device, dtype = torch.long)\n",
    "            ids = data['source_ids'].to(device, dtype = torch.long)\n",
    "            mask = data['source_mask'].to(device, dtype = torch.long)\n",
    "\n",
    "            generated_ids = model.generate(\n",
    "              input_ids = ids,\n",
    "              attention_mask = mask, \n",
    "              max_length=max_length, \n",
    "              num_beams=2,\n",
    "              repetition_penalty=2.5, \n",
    "              length_penalty=1.0, \n",
    "              early_stopping=True\n",
    "              )\n",
    "            preds = [tokenizer.decode(g, skip_special_tokens=True, clean_up_tokenization_spaces=True) for g in generated_ids]\n",
    "            target = [tokenizer.decode(t, skip_special_tokens=True, clean_up_tokenization_spaces=True)for t in y]\n",
    "            if _%1000==0:\n",
    "                console.print(f'Completed {_}')\n",
    "\n",
    "            predictions.extend(preds)\n",
    "            actuals.extend(target)\n",
    "    return predictions, actuals\n",
    "print(\"end...\")"
   ]
  },
  {
   "cell_type": "markdown",
   "id": "adc6c3da-081a-4707-8478-ad6444551014",
   "metadata": {
    "tags": []
   },
   "source": [
    "# 训练类 Trainer"
   ]
  },
  {
   "cell_type": "code",
   "execution_count": 6,
   "id": "d9d4d302-61c8-41c8-a7ae-1074c14fffdf",
   "metadata": {},
   "outputs": [
    {
     "name": "stdout",
     "output_type": "stream",
     "text": [
      "end...\n"
     ]
    }
   ],
   "source": [
    "from transformers import get_linear_schedule_with_warmup\n",
    "from sklearn.model_selection import StratifiedShuffleSplit\n",
    "\n",
    "# 训练类：整合数据集类、训练方法、验证方法，加载数据进行训练并验证训练过程的效果\n",
    "def T5Trainer(\n",
    "    dataframe, source_text, target_text, model_params, output_dir=\"./outputs/prompt/\"\n",
    "):\n",
    "    \"\"\"\n",
    "    T5 trainer\n",
    "    \"\"\"\n",
    "    n_gpu = torch.cuda.device_count()\n",
    "    \n",
    "    # Set random seeds and deterministic pytorch for reproducibility\n",
    "    torch.manual_seed(model_params[\"SEED\"])  # pytorch random seed\n",
    "    np.random.seed(model_params[\"SEED\"])  # numpy random seed\n",
    "    torch.backends.cudnn.deterministic = True\n",
    "\n",
    "    # logging\n",
    "    console.log(f\"\"\"[Model]: Loading {model_params[\"MODEL\"]}...\\n\"\"\")\n",
    "\n",
    "    # tokenzier for encoding the text\n",
    "    tokenizer = T5Tokenizer.from_pretrained(model_params[\"MODEL\"])\n",
    "\n",
    "    # Defining the model. We are using PromptCLUE model and added a Language model layer on top for generation of prediction.\n",
    "    # Further this model is sent to device (GPU/TPU) for using the hardware.\n",
    "    model = T5ForConditionalGeneration.from_pretrained(model_params[\"MODEL\"])\n",
    "    model = model.to(device)\n",
    "    \n",
    "    if n_gpu > 1:\n",
    "        model = torch.nn.DataParallel(model)\n",
    "        # model = model.module.to(device)\n",
    "\n",
    "    # logging\n",
    "    console.log(f\"[Data]: Reading data...\\n\")\n",
    "\n",
    "    # Importing the raw dataset\n",
    "    dataframe = dataframe[[source_text, target_text]]\n",
    "    # display_df(dataframe.head(2))\n",
    "\n",
    "    # Creation of Dataset and Dataloader\n",
    "    # Defining the train size So 94% of the data will be used for training and the rest for validation.\n",
    "    # train_size = 0.8\n",
    "    # train_dataset = dataframe.sample(frac=train_size, random_state=model_params[\"SEED\"])\n",
    "    # val_dataset = dataframe.drop(train_dataset.index).reset_index(drop=True)\n",
    "    # train_dataset = train_dataset.reset_index(drop=True)\n",
    "    \n",
    "    # 分层抽样\n",
    "    ss = StratifiedShuffleSplit(n_splits=1, test_size=0.2, random_state=model_params[\"SEED\"])\n",
    "    strat_train_set = []\n",
    "    strat_test_set = []\n",
    "    \n",
    "    for train_index, test_index in ss.split(dataframe, dataframe['target']):\n",
    "        strat_train_set = dataframe.iloc[train_index, :]\n",
    "        strat_test_set = dataframe.iloc[test_index, :]\n",
    "        \n",
    "    train_dataset = strat_train_set.reset_index(drop=True)\n",
    "    val_dataset = strat_test_set.reset_index(drop=True)\n",
    "        \n",
    "    # 打印数据集相关日志：数据量、训练步数\n",
    "    console.print(f\"FULL Dataset: {dataframe.shape}\")\n",
    "    console.print(f\"TRAIN Dataset: {train_dataset.shape}\")\n",
    "    console.print(f\"VALID Dataset: {val_dataset.shape}\\n\")\n",
    "    total_train_steps = int((train_dataset.shape[0] * model_params[\"TRAIN_EPOCHS\"]) / model_params[\"TRAIN_BATCH_SIZE\"])\n",
    "    console.print(f\"Total Train Steps: {total_train_steps}\\n\")\n",
    "\n",
    "    # Creating the Training and Validation dataset for further creation of Dataloader\n",
    "    training_set = SmallSampleDataSetClass(\n",
    "        train_dataset,\n",
    "        tokenizer,\n",
    "        model_params[\"MAX_SOURCE_TEXT_LENGTH\"],\n",
    "        model_params[\"MAX_TARGET_TEXT_LENGTH\"],\n",
    "        source_text,\n",
    "        target_text,\n",
    "    )\n",
    "    val_set = SmallSampleDataSetClass(\n",
    "        val_dataset,\n",
    "        tokenizer,\n",
    "        model_params[\"MAX_SOURCE_TEXT_LENGTH\"],\n",
    "        model_params[\"MAX_TARGET_TEXT_LENGTH\"],\n",
    "        source_text,\n",
    "        target_text,\n",
    "    )\n",
    "    # Defining the parameters for creation of dataloaders\n",
    "    train_params = {\n",
    "        \"batch_size\": model_params[\"TRAIN_BATCH_SIZE\"],\n",
    "        \"shuffle\": True,\n",
    "        \"num_workers\": 0,\n",
    "    }\n",
    "\n",
    "    val_params = {\n",
    "        \"batch_size\": model_params[\"VALID_BATCH_SIZE\"],\n",
    "        \"shuffle\": False,\n",
    "        \"num_workers\": 0,\n",
    "    }\n",
    "\n",
    "    # Creation of Dataloaders for testing and validation. This will be used down for training and validation stage for the model.\n",
    "    training_loader = DataLoader(training_set, **train_params)\n",
    "    val_loader = DataLoader(val_set, **val_params)\n",
    "\n",
    "    # Defining the optimizer that will be used to tune the weights of the network in the training session.\n",
    "    # optimizer = torch.optim.Adam(\n",
    "    #     params=model.parameters(), lr=model_params[\"LEARNING_RATE\"]\n",
    "    # )\n",
    "    optimizer = torch.optim.AdamW(model.parameters(), model_params[\"LEARNING_RATE\"])\n",
    "    scheduler = get_linear_schedule_with_warmup(optimizer, num_warmup_steps=0.1 * total_train_steps, num_training_steps=total_train_steps)\n",
    "\n",
    "    # Training loop\n",
    "    console.log(f\"[Initiating Fine Tuning]...\\n\")\n",
    "\n",
    "    for epoch in range(model_params[\"TRAIN_EPOCHS\"]):\n",
    "        # 1) train for one epoch\n",
    "        train(epoch, tokenizer, model, device, training_loader, optimizer, scheduler)\n",
    "        \n",
    "        # 2) save model for each epoch\n",
    "        console.log(f\"[Saving Model]...\\n\")\n",
    "        path = os.path.join(output_dir, \"model_files\")\n",
    "        model.module.save_pretrained(path)\n",
    "        tokenizer.save_pretrained(path)\n",
    "\n",
    "        torch.cuda.empty_cache()\n",
    "        # 3) evaluating test dataset\n",
    "        console.log(f\"[Initiating Validation]...\\n\")\n",
    "        with torch.no_grad(): # add 2022.10.4\n",
    "            #for epoch in range(model_params[\"VAL_EPOCHS\"]):\n",
    "            predictions, actuals = validate(epoch, tokenizer, model.module, device, val_loader,model_params[\"MAX_TARGET_TEXT_LENGTH\"])\n",
    "            final_df = pd.DataFrame({\"Generated Text\": predictions, \"Actual Text\": actuals})\n",
    "            final_df.to_csv(os.path.join(output_dir, \"predictions.csv\"), encoding='utf8', index=None, sep=',')\n",
    "\n",
    "    console.save_text(os.path.join(output_dir, \"logs.txt\"))\n",
    "\n",
    "    console.log(f\"[Validation Completed.]\\n\")\n",
    "    console.print(\n",
    "        f\"\"\"[Model] Model saved @ {os.path.join(output_dir, \"model_files\")}\\n\"\"\"\n",
    "    )\n",
    "    console.print(\n",
    "        f\"\"\"[Validation] Generation on Validation data saved @ {os.path.join(output_dir,'predictions.csv')}\\n\"\"\"\n",
    "    )\n",
    "    console.print(f\"\"\"[Logs] Logs saved @ {os.path.join(output_dir,'logs.txt')}\\n\"\"\")\n",
    "print(\"end...\")"
   ]
  },
  {
   "cell_type": "code",
   "execution_count": 8,
   "id": "0e32c03e-7368-4808-8bd7-73260b388378",
   "metadata": {},
   "outputs": [
    {
     "name": "stdout",
     "output_type": "stream",
     "text": [
      "end...\n"
     ]
    }
   ],
   "source": [
    "# 定义模型的参数 let's define model parameters specific to T5\n",
    "model_params = {\n",
    "    \"MODEL\": \"output/prompt/model_files\",  # model_type pretrained_models/PromptCLUE-base\n",
    "    \"TRAIN_BATCH_SIZE\": 10,  # training batch size, 8\n",
    "    \"VALID_BATCH_SIZE\": 14,  # validation batch size,8 \n",
    "    \"TRAIN_EPOCHS\": 7,  # number of training epochs\n",
    "    \"VAL_EPOCHS\": 7,  # number of validation epochs\n",
    "    \"LEARNING_RATE\": 4e-5,  # learning rate\n",
    "    \"MAX_SOURCE_TEXT_LENGTH\": 1024,  # max length of source text, 512\n",
    "    \"MAX_TARGET_TEXT_LENGTH\": 8,  # max length of target text,64\n",
    "    \"SEED\": 2022,  # set seed for reproducibility\n",
    "}\n",
    "print(\"end...\")"
   ]
  },
  {
   "cell_type": "code",
   "execution_count": 9,
   "id": "264dec74-aa57-4a7d-80f2-3afaf50757a5",
   "metadata": {},
   "outputs": [
    {
     "name": "stdout",
     "output_type": "stream",
     "text": [
      "df.head:                                                input    target\n",
      "0  这是哪种类别的专利？_一种信号的发送方法及基站、用户设备_一种信号的发送方法及基站、用户设备...  通信/信号/天线\n",
      "1  这是哪种类别的专利？_一种用于配置无线路由设备的方法与设备。_本申请的目的是提供一种用于配置...  通信/信号/天线\n",
      "2  这是哪种类别的专利？_用于上行链路多用户传输的ACK/NACK信号处理方法及装置。_本文件涉...  通信/信号/天线\n",
      "3  这是哪种类别的专利？_一种便于安装和使用的路由器。_本实用新型公开了一种便于安装和使用的路由...  通信/信号/天线\n",
      "4  这是哪种类别的专利？_一种哈希冲突的处理方法、装置及交换设备。_本发明提供了一种MAC地址哈...  通信/信号/天线\n",
      "df.shape: (22888, 2)\n"
     ]
    },
    {
     "data": {
      "text/html": [
       "<pre style=\"white-space:pre;overflow-x:auto;line-height:normal;font-family:Menlo,'DejaVu Sans Mono',consolas,'Courier New',monospace\"><span style=\"color: #7fbfbf; text-decoration-color: #7fbfbf\">[10:25:56] </span><span style=\"font-weight: bold\">[</span>Model<span style=\"font-weight: bold\">]</span>: Loading output/prompt/model_files<span style=\"color: #808000; text-decoration-color: #808000\">...</span>                                            <a href=\"file://C:\\Users\\Administrator\\AppData\\Local\\Temp\\ipykernel_20420\\837272447.py\" target=\"_blank\"><span style=\"color: #7f7f7f; text-decoration-color: #7f7f7f\">837272447.py</span></a><span style=\"color: #7f7f7f; text-decoration-color: #7f7f7f\">:</span><a href=\"file://C:\\Users\\Administrator\\AppData\\Local\\Temp\\ipykernel_20420\\837272447.py#19\" target=\"_blank\"><span style=\"color: #7f7f7f; text-decoration-color: #7f7f7f\">19</span></a>\n",
       "<span style=\"color: #7fbfbf; text-decoration-color: #7fbfbf\">           </span>                                                                                         <span style=\"color: #7f7f7f; text-decoration-color: #7f7f7f\">               </span>\n",
       "</pre>\n"
      ],
      "text/plain": [
       "\u001b[2;36m[10:25:56]\u001b[0m\u001b[2;36m \u001b[0m\u001b[1m[\u001b[0mModel\u001b[1m]\u001b[0m: Loading output/prompt/model_files\u001b[33m...\u001b[0m                                            \u001b]8;id=287402;file://C:\\Users\\Administrator\\AppData\\Local\\Temp\\ipykernel_20420\\837272447.py\u001b\\\u001b[2m837272447.py\u001b[0m\u001b]8;;\u001b\\\u001b[2m:\u001b[0m\u001b]8;id=229638;file://C:\\Users\\Administrator\\AppData\\Local\\Temp\\ipykernel_20420\\837272447.py#19\u001b\\\u001b[2m19\u001b[0m\u001b]8;;\u001b\\\n",
       "\u001b[2;36m           \u001b[0m                                                                                         \u001b[2m               \u001b[0m\n"
      ]
     },
     "metadata": {},
     "output_type": "display_data"
    },
    {
     "data": {
      "text/html": [
       "<pre style=\"white-space:pre;overflow-x:auto;line-height:normal;font-family:Menlo,'DejaVu Sans Mono',consolas,'Courier New',monospace\"><span style=\"color: #7fbfbf; text-decoration-color: #7fbfbf\">[10:26:03] </span><span style=\"font-weight: bold\">[</span>Data<span style=\"font-weight: bold\">]</span>: Reading data<span style=\"color: #808000; text-decoration-color: #808000\">...</span>                                                                  <a href=\"file://C:\\Users\\Administrator\\AppData\\Local\\Temp\\ipykernel_20420\\837272447.py\" target=\"_blank\"><span style=\"color: #7f7f7f; text-decoration-color: #7f7f7f\">837272447.py</span></a><span style=\"color: #7f7f7f; text-decoration-color: #7f7f7f\">:</span><a href=\"file://C:\\Users\\Administrator\\AppData\\Local\\Temp\\ipykernel_20420\\837272447.py#34\" target=\"_blank\"><span style=\"color: #7f7f7f; text-decoration-color: #7f7f7f\">34</span></a>\n",
       "<span style=\"color: #7fbfbf; text-decoration-color: #7fbfbf\">           </span>                                                                                         <span style=\"color: #7f7f7f; text-decoration-color: #7f7f7f\">               </span>\n",
       "</pre>\n"
      ],
      "text/plain": [
       "\u001b[2;36m[10:26:03]\u001b[0m\u001b[2;36m \u001b[0m\u001b[1m[\u001b[0mData\u001b[1m]\u001b[0m: Reading data\u001b[33m...\u001b[0m                                                                  \u001b]8;id=271665;file://C:\\Users\\Administrator\\AppData\\Local\\Temp\\ipykernel_20420\\837272447.py\u001b\\\u001b[2m837272447.py\u001b[0m\u001b]8;;\u001b\\\u001b[2m:\u001b[0m\u001b]8;id=918267;file://C:\\Users\\Administrator\\AppData\\Local\\Temp\\ipykernel_20420\\837272447.py#34\u001b\\\u001b[2m34\u001b[0m\u001b]8;;\u001b\\\n",
       "\u001b[2;36m           \u001b[0m                                                                                         \u001b[2m               \u001b[0m\n"
      ]
     },
     "metadata": {},
     "output_type": "display_data"
    },
    {
     "data": {
      "text/html": [
       "<pre style=\"white-space:pre;overflow-x:auto;line-height:normal;font-family:Menlo,'DejaVu Sans Mono',consolas,'Courier New',monospace\">FULL Dataset: <span style=\"font-weight: bold\">(</span><span style=\"color: #008080; text-decoration-color: #008080; font-weight: bold\">22888</span>, <span style=\"color: #008080; text-decoration-color: #008080; font-weight: bold\">2</span><span style=\"font-weight: bold\">)</span>\n",
       "</pre>\n"
      ],
      "text/plain": [
       "FULL Dataset: \u001b[1m(\u001b[0m\u001b[1;36m22888\u001b[0m, \u001b[1;36m2\u001b[0m\u001b[1m)\u001b[0m\n"
      ]
     },
     "metadata": {},
     "output_type": "display_data"
    },
    {
     "data": {
      "text/html": [
       "<pre style=\"white-space:pre;overflow-x:auto;line-height:normal;font-family:Menlo,'DejaVu Sans Mono',consolas,'Courier New',monospace\">TRAIN Dataset: <span style=\"font-weight: bold\">(</span><span style=\"color: #008080; text-decoration-color: #008080; font-weight: bold\">18310</span>, <span style=\"color: #008080; text-decoration-color: #008080; font-weight: bold\">2</span><span style=\"font-weight: bold\">)</span>\n",
       "</pre>\n"
      ],
      "text/plain": [
       "TRAIN Dataset: \u001b[1m(\u001b[0m\u001b[1;36m18310\u001b[0m, \u001b[1;36m2\u001b[0m\u001b[1m)\u001b[0m\n"
      ]
     },
     "metadata": {},
     "output_type": "display_data"
    },
    {
     "data": {
      "text/html": [
       "<pre style=\"white-space:pre;overflow-x:auto;line-height:normal;font-family:Menlo,'DejaVu Sans Mono',consolas,'Courier New',monospace\">VALID Dataset: <span style=\"font-weight: bold\">(</span><span style=\"color: #008080; text-decoration-color: #008080; font-weight: bold\">4578</span>, <span style=\"color: #008080; text-decoration-color: #008080; font-weight: bold\">2</span><span style=\"font-weight: bold\">)</span>\n",
       "\n",
       "</pre>\n"
      ],
      "text/plain": [
       "VALID Dataset: \u001b[1m(\u001b[0m\u001b[1;36m4578\u001b[0m, \u001b[1;36m2\u001b[0m\u001b[1m)\u001b[0m\n",
       "\n"
      ]
     },
     "metadata": {},
     "output_type": "display_data"
    },
    {
     "data": {
      "text/html": [
       "<pre style=\"white-space:pre;overflow-x:auto;line-height:normal;font-family:Menlo,'DejaVu Sans Mono',consolas,'Courier New',monospace\">Total Train Steps: <span style=\"color: #008080; text-decoration-color: #008080; font-weight: bold\">12817</span>\n",
       "\n",
       "</pre>\n"
      ],
      "text/plain": [
       "Total Train Steps: \u001b[1;36m12817\u001b[0m\n",
       "\n"
      ]
     },
     "metadata": {},
     "output_type": "display_data"
    },
    {
     "data": {
      "text/html": [
       "<pre style=\"white-space:pre;overflow-x:auto;line-height:normal;font-family:Menlo,'DejaVu Sans Mono',consolas,'Courier New',monospace\"><span style=\"color: #7fbfbf; text-decoration-color: #7fbfbf\">           </span><span style=\"font-weight: bold\">[</span>Initiating Fine Tuning<span style=\"font-weight: bold\">]</span><span style=\"color: #808000; text-decoration-color: #808000\">...</span>                                                             <a href=\"file://C:\\Users\\Administrator\\AppData\\Local\\Temp\\ipykernel_20420\\837272447.py\" target=\"_blank\"><span style=\"color: #7f7f7f; text-decoration-color: #7f7f7f\">837272447.py</span></a><span style=\"color: #7f7f7f; text-decoration-color: #7f7f7f\">:</span><a href=\"file://C:\\Users\\Administrator\\AppData\\Local\\Temp\\ipykernel_20420\\837272447.py#108\" target=\"_blank\"><span style=\"color: #7f7f7f; text-decoration-color: #7f7f7f\">108</span></a>\n",
       "<span style=\"color: #7fbfbf; text-decoration-color: #7fbfbf\">           </span>                                                                                        <span style=\"color: #7f7f7f; text-decoration-color: #7f7f7f\">                </span>\n",
       "</pre>\n"
      ],
      "text/plain": [
       "\u001b[2;36m          \u001b[0m\u001b[2;36m \u001b[0m\u001b[1m[\u001b[0mInitiating Fine Tuning\u001b[1m]\u001b[0m\u001b[33m...\u001b[0m                                                             \u001b]8;id=962390;file://C:\\Users\\Administrator\\AppData\\Local\\Temp\\ipykernel_20420\\837272447.py\u001b\\\u001b[2m837272447.py\u001b[0m\u001b]8;;\u001b\\\u001b[2m:\u001b[0m\u001b]8;id=986971;file://C:\\Users\\Administrator\\AppData\\Local\\Temp\\ipykernel_20420\\837272447.py#108\u001b\\\u001b[2m108\u001b[0m\u001b]8;;\u001b\\\n",
       "\u001b[2;36m           \u001b[0m                                                                                        \u001b[2m                \u001b[0m\n"
      ]
     },
     "metadata": {},
     "output_type": "display_data"
    },
    {
     "name": "stderr",
     "output_type": "stream",
     "text": [
      "D:\\anaconda3\\envs\\pytorch\\lib\\site-packages\\torch\\nn\\parallel\\_functions.py:68: UserWarning: Was asked to gather along dimension 0, but all input tensors were scalars; will instead unsqueeze and return a vector.\n",
      "  warnings.warn('Was asked to gather along dimension 0, but all '\n",
      "D:\\anaconda3\\envs\\pytorch\\lib\\site-packages\\torch\\cuda\\nccl.py:15: UserWarning: PyTorch is not compiled with NCCL support\n",
      "  warnings.warn('PyTorch is not compiled with NCCL support')\n"
     ]
    },
    {
     "name": "stdout",
     "output_type": "stream",
     "text": [
      "100 epoch: 0; loss:0.0508; each step's time spent:1.07\n",
      "200 epoch: 0; loss:0.0154; each step's time spent:1.02\n",
      "300 epoch: 0; loss:0.0267; each step's time spent:1.01\n",
      "400 epoch: 0; loss:0.0251; each step's time spent:1.00\n",
      "500 epoch: 0; loss:0.0102; each step's time spent:0.99\n",
      "600 epoch: 0; loss:0.0361; each step's time spent:0.99\n",
      "700 epoch: 0; loss:0.0244; each step's time spent:0.99\n",
      "800 epoch: 0; loss:0.0574; each step's time spent:0.98\n",
      "900 epoch: 0; loss:0.0061; each step's time spent:0.98\n",
      "1000 epoch: 0; loss:0.0110; each step's time spent:0.98\n",
      "1100 epoch: 0; loss:0.0626; each step's time spent:0.98\n",
      "1200 epoch: 0; loss:0.1157; each step's time spent:0.98\n",
      "1300 epoch: 0; loss:0.1111; each step's time spent:0.98\n",
      "1400 epoch: 0; loss:0.0121; each step's time spent:0.98\n",
      "1500 epoch: 0; loss:0.0088; each step's time spent:0.98\n",
      "1600 epoch: 0; loss:0.0363; each step's time spent:0.98\n",
      "1700 epoch: 0; loss:0.0298; each step's time spent:0.98\n",
      "1800 epoch: 0; loss:0.1314; each step's time spent:0.98\n"
     ]
    },
    {
     "data": {
      "text/html": [
       "<pre style=\"white-space:pre;overflow-x:auto;line-height:normal;font-family:Menlo,'DejaVu Sans Mono',consolas,'Courier New',monospace\"><span style=\"color: #7fbfbf; text-decoration-color: #7fbfbf\">[10:55:51] </span><span style=\"font-weight: bold\">[</span>Saving Model<span style=\"font-weight: bold\">]</span><span style=\"color: #808000; text-decoration-color: #808000\">...</span>                                                                       <a href=\"file://C:\\Users\\Administrator\\AppData\\Local\\Temp\\ipykernel_20420\\837272447.py\" target=\"_blank\"><span style=\"color: #7f7f7f; text-decoration-color: #7f7f7f\">837272447.py</span></a><span style=\"color: #7f7f7f; text-decoration-color: #7f7f7f\">:</span><a href=\"file://C:\\Users\\Administrator\\AppData\\Local\\Temp\\ipykernel_20420\\837272447.py#115\" target=\"_blank\"><span style=\"color: #7f7f7f; text-decoration-color: #7f7f7f\">115</span></a>\n",
       "<span style=\"color: #7fbfbf; text-decoration-color: #7fbfbf\">           </span>                                                                                        <span style=\"color: #7f7f7f; text-decoration-color: #7f7f7f\">                </span>\n",
       "</pre>\n"
      ],
      "text/plain": [
       "\u001b[2;36m[10:55:51]\u001b[0m\u001b[2;36m \u001b[0m\u001b[1m[\u001b[0mSaving Model\u001b[1m]\u001b[0m\u001b[33m...\u001b[0m                                                                       \u001b]8;id=135709;file://C:\\Users\\Administrator\\AppData\\Local\\Temp\\ipykernel_20420\\837272447.py\u001b\\\u001b[2m837272447.py\u001b[0m\u001b]8;;\u001b\\\u001b[2m:\u001b[0m\u001b]8;id=711097;file://C:\\Users\\Administrator\\AppData\\Local\\Temp\\ipykernel_20420\\837272447.py#115\u001b\\\u001b[2m115\u001b[0m\u001b]8;;\u001b\\\n",
       "\u001b[2;36m           \u001b[0m                                                                                        \u001b[2m                \u001b[0m\n"
      ]
     },
     "metadata": {},
     "output_type": "display_data"
    },
    {
     "data": {
      "text/html": [
       "<pre style=\"white-space:pre;overflow-x:auto;line-height:normal;font-family:Menlo,'DejaVu Sans Mono',consolas,'Courier New',monospace\"><span style=\"color: #7fbfbf; text-decoration-color: #7fbfbf\">[10:55:57] </span><span style=\"font-weight: bold\">[</span>Initiating Validation<span style=\"font-weight: bold\">]</span><span style=\"color: #808000; text-decoration-color: #808000\">...</span>                                                              <a href=\"file://C:\\Users\\Administrator\\AppData\\Local\\Temp\\ipykernel_20420\\837272447.py\" target=\"_blank\"><span style=\"color: #7f7f7f; text-decoration-color: #7f7f7f\">837272447.py</span></a><span style=\"color: #7f7f7f; text-decoration-color: #7f7f7f\">:</span><a href=\"file://C:\\Users\\Administrator\\AppData\\Local\\Temp\\ipykernel_20420\\837272447.py#122\" target=\"_blank\"><span style=\"color: #7f7f7f; text-decoration-color: #7f7f7f\">122</span></a>\n",
       "<span style=\"color: #7fbfbf; text-decoration-color: #7fbfbf\">           </span>                                                                                        <span style=\"color: #7f7f7f; text-decoration-color: #7f7f7f\">                </span>\n",
       "</pre>\n"
      ],
      "text/plain": [
       "\u001b[2;36m[10:55:57]\u001b[0m\u001b[2;36m \u001b[0m\u001b[1m[\u001b[0mInitiating Validation\u001b[1m]\u001b[0m\u001b[33m...\u001b[0m                                                              \u001b]8;id=352021;file://C:\\Users\\Administrator\\AppData\\Local\\Temp\\ipykernel_20420\\837272447.py\u001b\\\u001b[2m837272447.py\u001b[0m\u001b]8;;\u001b\\\u001b[2m:\u001b[0m\u001b]8;id=440196;file://C:\\Users\\Administrator\\AppData\\Local\\Temp\\ipykernel_20420\\837272447.py#122\u001b\\\u001b[2m122\u001b[0m\u001b]8;;\u001b\\\n",
       "\u001b[2;36m           \u001b[0m                                                                                        \u001b[2m                \u001b[0m\n"
      ]
     },
     "metadata": {},
     "output_type": "display_data"
    },
    {
     "data": {
      "text/html": [
       "<pre style=\"white-space:pre;overflow-x:auto;line-height:normal;font-family:Menlo,'DejaVu Sans Mono',consolas,'Courier New',monospace\">Completed <span style=\"color: #008080; text-decoration-color: #008080; font-weight: bold\">0</span>\n",
       "</pre>\n"
      ],
      "text/plain": [
       "Completed \u001b[1;36m0\u001b[0m\n"
      ]
     },
     "metadata": {},
     "output_type": "display_data"
    },
    {
     "name": "stdout",
     "output_type": "stream",
     "text": [
      "100 epoch: 1; loss:0.0679; each step's time spent:0.98\n",
      "200 epoch: 1; loss:0.0096; each step's time spent:0.97\n",
      "300 epoch: 1; loss:0.0328; each step's time spent:0.97\n",
      "400 epoch: 1; loss:0.0469; each step's time spent:0.97\n",
      "500 epoch: 1; loss:0.0139; each step's time spent:0.97\n",
      "600 epoch: 1; loss:0.0228; each step's time spent:0.97\n",
      "700 epoch: 1; loss:0.0499; each step's time spent:0.97\n",
      "800 epoch: 1; loss:0.0187; each step's time spent:0.97\n",
      "900 epoch: 1; loss:0.0970; each step's time spent:0.97\n",
      "1000 epoch: 1; loss:0.1187; each step's time spent:0.97\n",
      "1100 epoch: 1; loss:0.0238; each step's time spent:0.97\n",
      "1200 epoch: 1; loss:0.0717; each step's time spent:0.97\n",
      "1300 epoch: 1; loss:0.0405; each step's time spent:0.97\n",
      "1400 epoch: 1; loss:0.0011; each step's time spent:0.97\n",
      "1500 epoch: 1; loss:0.0016; each step's time spent:0.97\n",
      "1600 epoch: 1; loss:0.0132; each step's time spent:0.97\n",
      "1700 epoch: 1; loss:0.0455; each step's time spent:0.97\n",
      "1800 epoch: 1; loss:0.0635; each step's time spent:0.97\n"
     ]
    },
    {
     "data": {
      "text/html": [
       "<pre style=\"white-space:pre;overflow-x:auto;line-height:normal;font-family:Menlo,'DejaVu Sans Mono',consolas,'Courier New',monospace\"><span style=\"color: #7fbfbf; text-decoration-color: #7fbfbf\">[11:33:47] </span><span style=\"font-weight: bold\">[</span>Saving Model<span style=\"font-weight: bold\">]</span><span style=\"color: #808000; text-decoration-color: #808000\">...</span>                                                                       <a href=\"file://C:\\Users\\Administrator\\AppData\\Local\\Temp\\ipykernel_20420\\837272447.py\" target=\"_blank\"><span style=\"color: #7f7f7f; text-decoration-color: #7f7f7f\">837272447.py</span></a><span style=\"color: #7f7f7f; text-decoration-color: #7f7f7f\">:</span><a href=\"file://C:\\Users\\Administrator\\AppData\\Local\\Temp\\ipykernel_20420\\837272447.py#115\" target=\"_blank\"><span style=\"color: #7f7f7f; text-decoration-color: #7f7f7f\">115</span></a>\n",
       "<span style=\"color: #7fbfbf; text-decoration-color: #7fbfbf\">           </span>                                                                                        <span style=\"color: #7f7f7f; text-decoration-color: #7f7f7f\">                </span>\n",
       "</pre>\n"
      ],
      "text/plain": [
       "\u001b[2;36m[11:33:47]\u001b[0m\u001b[2;36m \u001b[0m\u001b[1m[\u001b[0mSaving Model\u001b[1m]\u001b[0m\u001b[33m...\u001b[0m                                                                       \u001b]8;id=267468;file://C:\\Users\\Administrator\\AppData\\Local\\Temp\\ipykernel_20420\\837272447.py\u001b\\\u001b[2m837272447.py\u001b[0m\u001b]8;;\u001b\\\u001b[2m:\u001b[0m\u001b]8;id=92474;file://C:\\Users\\Administrator\\AppData\\Local\\Temp\\ipykernel_20420\\837272447.py#115\u001b\\\u001b[2m115\u001b[0m\u001b]8;;\u001b\\\n",
       "\u001b[2;36m           \u001b[0m                                                                                        \u001b[2m                \u001b[0m\n"
      ]
     },
     "metadata": {},
     "output_type": "display_data"
    },
    {
     "data": {
      "text/html": [
       "<pre style=\"white-space:pre;overflow-x:auto;line-height:normal;font-family:Menlo,'DejaVu Sans Mono',consolas,'Courier New',monospace\"><span style=\"color: #7fbfbf; text-decoration-color: #7fbfbf\">[11:33:52] </span><span style=\"font-weight: bold\">[</span>Initiating Validation<span style=\"font-weight: bold\">]</span><span style=\"color: #808000; text-decoration-color: #808000\">...</span>                                                              <a href=\"file://C:\\Users\\Administrator\\AppData\\Local\\Temp\\ipykernel_20420\\837272447.py\" target=\"_blank\"><span style=\"color: #7f7f7f; text-decoration-color: #7f7f7f\">837272447.py</span></a><span style=\"color: #7f7f7f; text-decoration-color: #7f7f7f\">:</span><a href=\"file://C:\\Users\\Administrator\\AppData\\Local\\Temp\\ipykernel_20420\\837272447.py#122\" target=\"_blank\"><span style=\"color: #7f7f7f; text-decoration-color: #7f7f7f\">122</span></a>\n",
       "<span style=\"color: #7fbfbf; text-decoration-color: #7fbfbf\">           </span>                                                                                        <span style=\"color: #7f7f7f; text-decoration-color: #7f7f7f\">                </span>\n",
       "</pre>\n"
      ],
      "text/plain": [
       "\u001b[2;36m[11:33:52]\u001b[0m\u001b[2;36m \u001b[0m\u001b[1m[\u001b[0mInitiating Validation\u001b[1m]\u001b[0m\u001b[33m...\u001b[0m                                                              \u001b]8;id=541812;file://C:\\Users\\Administrator\\AppData\\Local\\Temp\\ipykernel_20420\\837272447.py\u001b\\\u001b[2m837272447.py\u001b[0m\u001b]8;;\u001b\\\u001b[2m:\u001b[0m\u001b]8;id=331425;file://C:\\Users\\Administrator\\AppData\\Local\\Temp\\ipykernel_20420\\837272447.py#122\u001b\\\u001b[2m122\u001b[0m\u001b]8;;\u001b\\\n",
       "\u001b[2;36m           \u001b[0m                                                                                        \u001b[2m                \u001b[0m\n"
      ]
     },
     "metadata": {},
     "output_type": "display_data"
    },
    {
     "data": {
      "text/html": [
       "<pre style=\"white-space:pre;overflow-x:auto;line-height:normal;font-family:Menlo,'DejaVu Sans Mono',consolas,'Courier New',monospace\">Completed <span style=\"color: #008080; text-decoration-color: #008080; font-weight: bold\">0</span>\n",
       "</pre>\n"
      ],
      "text/plain": [
       "Completed \u001b[1;36m0\u001b[0m\n"
      ]
     },
     "metadata": {},
     "output_type": "display_data"
    },
    {
     "name": "stdout",
     "output_type": "stream",
     "text": [
      "100 epoch: 2; loss:0.0079; each step's time spent:1.00\n",
      "200 epoch: 2; loss:0.0019; each step's time spent:0.99\n",
      "300 epoch: 2; loss:0.0059; each step's time spent:0.99\n",
      "400 epoch: 2; loss:0.0050; each step's time spent:0.99\n",
      "500 epoch: 2; loss:0.0010; each step's time spent:0.99\n",
      "600 epoch: 2; loss:0.0047; each step's time spent:0.99\n",
      "700 epoch: 2; loss:0.0106; each step's time spent:0.98\n",
      "800 epoch: 2; loss:0.0168; each step's time spent:0.98\n",
      "900 epoch: 2; loss:0.0841; each step's time spent:0.98\n",
      "1000 epoch: 2; loss:0.0576; each step's time spent:0.98\n",
      "1100 epoch: 2; loss:0.0003; each step's time spent:0.98\n",
      "1200 epoch: 2; loss:0.0017; each step's time spent:0.98\n",
      "1300 epoch: 2; loss:0.0854; each step's time spent:0.98\n",
      "1400 epoch: 2; loss:0.0181; each step's time spent:0.98\n",
      "1500 epoch: 2; loss:0.0224; each step's time spent:0.98\n",
      "1600 epoch: 2; loss:0.1780; each step's time spent:0.98\n",
      "1700 epoch: 2; loss:0.1127; each step's time spent:0.97\n",
      "1800 epoch: 2; loss:0.0605; each step's time spent:0.97\n"
     ]
    },
    {
     "data": {
      "text/html": [
       "<pre style=\"white-space:pre;overflow-x:auto;line-height:normal;font-family:Menlo,'DejaVu Sans Mono',consolas,'Courier New',monospace\"><span style=\"color: #7fbfbf; text-decoration-color: #7fbfbf\">[12:11:41] </span><span style=\"font-weight: bold\">[</span>Saving Model<span style=\"font-weight: bold\">]</span><span style=\"color: #808000; text-decoration-color: #808000\">...</span>                                                                       <a href=\"file://C:\\Users\\Administrator\\AppData\\Local\\Temp\\ipykernel_20420\\837272447.py\" target=\"_blank\"><span style=\"color: #7f7f7f; text-decoration-color: #7f7f7f\">837272447.py</span></a><span style=\"color: #7f7f7f; text-decoration-color: #7f7f7f\">:</span><a href=\"file://C:\\Users\\Administrator\\AppData\\Local\\Temp\\ipykernel_20420\\837272447.py#115\" target=\"_blank\"><span style=\"color: #7f7f7f; text-decoration-color: #7f7f7f\">115</span></a>\n",
       "<span style=\"color: #7fbfbf; text-decoration-color: #7fbfbf\">           </span>                                                                                        <span style=\"color: #7f7f7f; text-decoration-color: #7f7f7f\">                </span>\n",
       "</pre>\n"
      ],
      "text/plain": [
       "\u001b[2;36m[12:11:41]\u001b[0m\u001b[2;36m \u001b[0m\u001b[1m[\u001b[0mSaving Model\u001b[1m]\u001b[0m\u001b[33m...\u001b[0m                                                                       \u001b]8;id=463444;file://C:\\Users\\Administrator\\AppData\\Local\\Temp\\ipykernel_20420\\837272447.py\u001b\\\u001b[2m837272447.py\u001b[0m\u001b]8;;\u001b\\\u001b[2m:\u001b[0m\u001b]8;id=314968;file://C:\\Users\\Administrator\\AppData\\Local\\Temp\\ipykernel_20420\\837272447.py#115\u001b\\\u001b[2m115\u001b[0m\u001b]8;;\u001b\\\n",
       "\u001b[2;36m           \u001b[0m                                                                                        \u001b[2m                \u001b[0m\n"
      ]
     },
     "metadata": {},
     "output_type": "display_data"
    },
    {
     "data": {
      "text/html": [
       "<pre style=\"white-space:pre;overflow-x:auto;line-height:normal;font-family:Menlo,'DejaVu Sans Mono',consolas,'Courier New',monospace\"><span style=\"color: #7fbfbf; text-decoration-color: #7fbfbf\">[12:11:47] </span><span style=\"font-weight: bold\">[</span>Initiating Validation<span style=\"font-weight: bold\">]</span><span style=\"color: #808000; text-decoration-color: #808000\">...</span>                                                              <a href=\"file://C:\\Users\\Administrator\\AppData\\Local\\Temp\\ipykernel_20420\\837272447.py\" target=\"_blank\"><span style=\"color: #7f7f7f; text-decoration-color: #7f7f7f\">837272447.py</span></a><span style=\"color: #7f7f7f; text-decoration-color: #7f7f7f\">:</span><a href=\"file://C:\\Users\\Administrator\\AppData\\Local\\Temp\\ipykernel_20420\\837272447.py#122\" target=\"_blank\"><span style=\"color: #7f7f7f; text-decoration-color: #7f7f7f\">122</span></a>\n",
       "<span style=\"color: #7fbfbf; text-decoration-color: #7fbfbf\">           </span>                                                                                        <span style=\"color: #7f7f7f; text-decoration-color: #7f7f7f\">                </span>\n",
       "</pre>\n"
      ],
      "text/plain": [
       "\u001b[2;36m[12:11:47]\u001b[0m\u001b[2;36m \u001b[0m\u001b[1m[\u001b[0mInitiating Validation\u001b[1m]\u001b[0m\u001b[33m...\u001b[0m                                                              \u001b]8;id=951691;file://C:\\Users\\Administrator\\AppData\\Local\\Temp\\ipykernel_20420\\837272447.py\u001b\\\u001b[2m837272447.py\u001b[0m\u001b]8;;\u001b\\\u001b[2m:\u001b[0m\u001b]8;id=728353;file://C:\\Users\\Administrator\\AppData\\Local\\Temp\\ipykernel_20420\\837272447.py#122\u001b\\\u001b[2m122\u001b[0m\u001b]8;;\u001b\\\n",
       "\u001b[2;36m           \u001b[0m                                                                                        \u001b[2m                \u001b[0m\n"
      ]
     },
     "metadata": {},
     "output_type": "display_data"
    },
    {
     "data": {
      "text/html": [
       "<pre style=\"white-space:pre;overflow-x:auto;line-height:normal;font-family:Menlo,'DejaVu Sans Mono',consolas,'Courier New',monospace\">Completed <span style=\"color: #008080; text-decoration-color: #008080; font-weight: bold\">0</span>\n",
       "</pre>\n"
      ],
      "text/plain": [
       "Completed \u001b[1;36m0\u001b[0m\n"
      ]
     },
     "metadata": {},
     "output_type": "display_data"
    },
    {
     "name": "stdout",
     "output_type": "stream",
     "text": [
      "100 epoch: 3; loss:0.0599; each step's time spent:0.97\n",
      "200 epoch: 3; loss:0.0019; each step's time spent:0.97\n",
      "300 epoch: 3; loss:0.0020; each step's time spent:0.97\n",
      "400 epoch: 3; loss:0.0301; each step's time spent:0.97\n",
      "500 epoch: 3; loss:0.0941; each step's time spent:0.97\n",
      "600 epoch: 3; loss:0.0010; each step's time spent:0.97\n",
      "700 epoch: 3; loss:0.0003; each step's time spent:0.97\n",
      "800 epoch: 3; loss:0.0295; each step's time spent:0.97\n",
      "900 epoch: 3; loss:0.0234; each step's time spent:0.97\n",
      "1000 epoch: 3; loss:0.0389; each step's time spent:0.97\n",
      "1100 epoch: 3; loss:0.0014; each step's time spent:0.97\n",
      "1200 epoch: 3; loss:0.0270; each step's time spent:0.97\n",
      "1300 epoch: 3; loss:0.0114; each step's time spent:0.97\n",
      "1400 epoch: 3; loss:0.0002; each step's time spent:0.97\n",
      "1500 epoch: 3; loss:0.0047; each step's time spent:0.97\n",
      "1600 epoch: 3; loss:0.0004; each step's time spent:0.97\n",
      "1700 epoch: 3; loss:0.0536; each step's time spent:0.97\n",
      "1800 epoch: 3; loss:0.0716; each step's time spent:0.97\n"
     ]
    },
    {
     "data": {
      "text/html": [
       "<pre style=\"white-space:pre;overflow-x:auto;line-height:normal;font-family:Menlo,'DejaVu Sans Mono',consolas,'Courier New',monospace\"><span style=\"color: #7fbfbf; text-decoration-color: #7fbfbf\">[12:49:27] </span><span style=\"font-weight: bold\">[</span>Saving Model<span style=\"font-weight: bold\">]</span><span style=\"color: #808000; text-decoration-color: #808000\">...</span>                                                                       <a href=\"file://C:\\Users\\Administrator\\AppData\\Local\\Temp\\ipykernel_20420\\837272447.py\" target=\"_blank\"><span style=\"color: #7f7f7f; text-decoration-color: #7f7f7f\">837272447.py</span></a><span style=\"color: #7f7f7f; text-decoration-color: #7f7f7f\">:</span><a href=\"file://C:\\Users\\Administrator\\AppData\\Local\\Temp\\ipykernel_20420\\837272447.py#115\" target=\"_blank\"><span style=\"color: #7f7f7f; text-decoration-color: #7f7f7f\">115</span></a>\n",
       "<span style=\"color: #7fbfbf; text-decoration-color: #7fbfbf\">           </span>                                                                                        <span style=\"color: #7f7f7f; text-decoration-color: #7f7f7f\">                </span>\n",
       "</pre>\n"
      ],
      "text/plain": [
       "\u001b[2;36m[12:49:27]\u001b[0m\u001b[2;36m \u001b[0m\u001b[1m[\u001b[0mSaving Model\u001b[1m]\u001b[0m\u001b[33m...\u001b[0m                                                                       \u001b]8;id=631777;file://C:\\Users\\Administrator\\AppData\\Local\\Temp\\ipykernel_20420\\837272447.py\u001b\\\u001b[2m837272447.py\u001b[0m\u001b]8;;\u001b\\\u001b[2m:\u001b[0m\u001b]8;id=309099;file://C:\\Users\\Administrator\\AppData\\Local\\Temp\\ipykernel_20420\\837272447.py#115\u001b\\\u001b[2m115\u001b[0m\u001b]8;;\u001b\\\n",
       "\u001b[2;36m           \u001b[0m                                                                                        \u001b[2m                \u001b[0m\n"
      ]
     },
     "metadata": {},
     "output_type": "display_data"
    },
    {
     "data": {
      "text/html": [
       "<pre style=\"white-space:pre;overflow-x:auto;line-height:normal;font-family:Menlo,'DejaVu Sans Mono',consolas,'Courier New',monospace\"><span style=\"color: #7fbfbf; text-decoration-color: #7fbfbf\">[12:49:33] </span><span style=\"font-weight: bold\">[</span>Initiating Validation<span style=\"font-weight: bold\">]</span><span style=\"color: #808000; text-decoration-color: #808000\">...</span>                                                              <a href=\"file://C:\\Users\\Administrator\\AppData\\Local\\Temp\\ipykernel_20420\\837272447.py\" target=\"_blank\"><span style=\"color: #7f7f7f; text-decoration-color: #7f7f7f\">837272447.py</span></a><span style=\"color: #7f7f7f; text-decoration-color: #7f7f7f\">:</span><a href=\"file://C:\\Users\\Administrator\\AppData\\Local\\Temp\\ipykernel_20420\\837272447.py#122\" target=\"_blank\"><span style=\"color: #7f7f7f; text-decoration-color: #7f7f7f\">122</span></a>\n",
       "<span style=\"color: #7fbfbf; text-decoration-color: #7fbfbf\">           </span>                                                                                        <span style=\"color: #7f7f7f; text-decoration-color: #7f7f7f\">                </span>\n",
       "</pre>\n"
      ],
      "text/plain": [
       "\u001b[2;36m[12:49:33]\u001b[0m\u001b[2;36m \u001b[0m\u001b[1m[\u001b[0mInitiating Validation\u001b[1m]\u001b[0m\u001b[33m...\u001b[0m                                                              \u001b]8;id=447973;file://C:\\Users\\Administrator\\AppData\\Local\\Temp\\ipykernel_20420\\837272447.py\u001b\\\u001b[2m837272447.py\u001b[0m\u001b]8;;\u001b\\\u001b[2m:\u001b[0m\u001b]8;id=711628;file://C:\\Users\\Administrator\\AppData\\Local\\Temp\\ipykernel_20420\\837272447.py#122\u001b\\\u001b[2m122\u001b[0m\u001b]8;;\u001b\\\n",
       "\u001b[2;36m           \u001b[0m                                                                                        \u001b[2m                \u001b[0m\n"
      ]
     },
     "metadata": {},
     "output_type": "display_data"
    },
    {
     "data": {
      "text/html": [
       "<pre style=\"white-space:pre;overflow-x:auto;line-height:normal;font-family:Menlo,'DejaVu Sans Mono',consolas,'Courier New',monospace\">Completed <span style=\"color: #008080; text-decoration-color: #008080; font-weight: bold\">0</span>\n",
       "</pre>\n"
      ],
      "text/plain": [
       "Completed \u001b[1;36m0\u001b[0m\n"
      ]
     },
     "metadata": {},
     "output_type": "display_data"
    },
    {
     "name": "stdout",
     "output_type": "stream",
     "text": [
      "100 epoch: 4; loss:0.0105; each step's time spent:0.98\n",
      "200 epoch: 4; loss:0.0112; each step's time spent:0.97\n",
      "300 epoch: 4; loss:0.0011; each step's time spent:0.97\n",
      "400 epoch: 4; loss:0.0066; each step's time spent:0.97\n",
      "500 epoch: 4; loss:0.0027; each step's time spent:0.97\n",
      "600 epoch: 4; loss:0.0264; each step's time spent:0.97\n",
      "700 epoch: 4; loss:0.0006; each step's time spent:0.97\n",
      "800 epoch: 4; loss:0.0177; each step's time spent:0.97\n",
      "900 epoch: 4; loss:0.0057; each step's time spent:0.97\n",
      "1000 epoch: 4; loss:0.0002; each step's time spent:0.97\n",
      "1100 epoch: 4; loss:0.0024; each step's time spent:0.97\n",
      "1200 epoch: 4; loss:0.0001; each step's time spent:0.97\n",
      "1300 epoch: 4; loss:0.0283; each step's time spent:0.96\n",
      "1400 epoch: 4; loss:0.0171; each step's time spent:0.96\n",
      "1500 epoch: 4; loss:0.0134; each step's time spent:0.96\n",
      "1600 epoch: 4; loss:0.0376; each step's time spent:0.96\n",
      "1700 epoch: 4; loss:0.0012; each step's time spent:0.96\n",
      "1800 epoch: 4; loss:0.0460; each step's time spent:0.96\n"
     ]
    },
    {
     "data": {
      "text/html": [
       "<pre style=\"white-space:pre;overflow-x:auto;line-height:normal;font-family:Menlo,'DejaVu Sans Mono',consolas,'Courier New',monospace\"><span style=\"color: #7fbfbf; text-decoration-color: #7fbfbf\">[13:27:05] </span><span style=\"font-weight: bold\">[</span>Saving Model<span style=\"font-weight: bold\">]</span><span style=\"color: #808000; text-decoration-color: #808000\">...</span>                                                                       <a href=\"file://C:\\Users\\Administrator\\AppData\\Local\\Temp\\ipykernel_20420\\837272447.py\" target=\"_blank\"><span style=\"color: #7f7f7f; text-decoration-color: #7f7f7f\">837272447.py</span></a><span style=\"color: #7f7f7f; text-decoration-color: #7f7f7f\">:</span><a href=\"file://C:\\Users\\Administrator\\AppData\\Local\\Temp\\ipykernel_20420\\837272447.py#115\" target=\"_blank\"><span style=\"color: #7f7f7f; text-decoration-color: #7f7f7f\">115</span></a>\n",
       "<span style=\"color: #7fbfbf; text-decoration-color: #7fbfbf\">           </span>                                                                                        <span style=\"color: #7f7f7f; text-decoration-color: #7f7f7f\">                </span>\n",
       "</pre>\n"
      ],
      "text/plain": [
       "\u001b[2;36m[13:27:05]\u001b[0m\u001b[2;36m \u001b[0m\u001b[1m[\u001b[0mSaving Model\u001b[1m]\u001b[0m\u001b[33m...\u001b[0m                                                                       \u001b]8;id=166984;file://C:\\Users\\Administrator\\AppData\\Local\\Temp\\ipykernel_20420\\837272447.py\u001b\\\u001b[2m837272447.py\u001b[0m\u001b]8;;\u001b\\\u001b[2m:\u001b[0m\u001b]8;id=295259;file://C:\\Users\\Administrator\\AppData\\Local\\Temp\\ipykernel_20420\\837272447.py#115\u001b\\\u001b[2m115\u001b[0m\u001b]8;;\u001b\\\n",
       "\u001b[2;36m           \u001b[0m                                                                                        \u001b[2m                \u001b[0m\n"
      ]
     },
     "metadata": {},
     "output_type": "display_data"
    },
    {
     "data": {
      "text/html": [
       "<pre style=\"white-space:pre;overflow-x:auto;line-height:normal;font-family:Menlo,'DejaVu Sans Mono',consolas,'Courier New',monospace\"><span style=\"color: #7fbfbf; text-decoration-color: #7fbfbf\">[13:27:11] </span><span style=\"font-weight: bold\">[</span>Initiating Validation<span style=\"font-weight: bold\">]</span><span style=\"color: #808000; text-decoration-color: #808000\">...</span>                                                              <a href=\"file://C:\\Users\\Administrator\\AppData\\Local\\Temp\\ipykernel_20420\\837272447.py\" target=\"_blank\"><span style=\"color: #7f7f7f; text-decoration-color: #7f7f7f\">837272447.py</span></a><span style=\"color: #7f7f7f; text-decoration-color: #7f7f7f\">:</span><a href=\"file://C:\\Users\\Administrator\\AppData\\Local\\Temp\\ipykernel_20420\\837272447.py#122\" target=\"_blank\"><span style=\"color: #7f7f7f; text-decoration-color: #7f7f7f\">122</span></a>\n",
       "<span style=\"color: #7fbfbf; text-decoration-color: #7fbfbf\">           </span>                                                                                        <span style=\"color: #7f7f7f; text-decoration-color: #7f7f7f\">                </span>\n",
       "</pre>\n"
      ],
      "text/plain": [
       "\u001b[2;36m[13:27:11]\u001b[0m\u001b[2;36m \u001b[0m\u001b[1m[\u001b[0mInitiating Validation\u001b[1m]\u001b[0m\u001b[33m...\u001b[0m                                                              \u001b]8;id=439676;file://C:\\Users\\Administrator\\AppData\\Local\\Temp\\ipykernel_20420\\837272447.py\u001b\\\u001b[2m837272447.py\u001b[0m\u001b]8;;\u001b\\\u001b[2m:\u001b[0m\u001b]8;id=149431;file://C:\\Users\\Administrator\\AppData\\Local\\Temp\\ipykernel_20420\\837272447.py#122\u001b\\\u001b[2m122\u001b[0m\u001b]8;;\u001b\\\n",
       "\u001b[2;36m           \u001b[0m                                                                                        \u001b[2m                \u001b[0m\n"
      ]
     },
     "metadata": {},
     "output_type": "display_data"
    },
    {
     "data": {
      "text/html": [
       "<pre style=\"white-space:pre;overflow-x:auto;line-height:normal;font-family:Menlo,'DejaVu Sans Mono',consolas,'Courier New',monospace\">Completed <span style=\"color: #008080; text-decoration-color: #008080; font-weight: bold\">0</span>\n",
       "</pre>\n"
      ],
      "text/plain": [
       "Completed \u001b[1;36m0\u001b[0m\n"
      ]
     },
     "metadata": {},
     "output_type": "display_data"
    },
    {
     "name": "stdout",
     "output_type": "stream",
     "text": [
      "100 epoch: 5; loss:0.0382; each step's time spent:0.98\n",
      "200 epoch: 5; loss:0.0013; each step's time spent:0.98\n",
      "300 epoch: 5; loss:0.0021; each step's time spent:0.97\n",
      "400 epoch: 5; loss:0.0055; each step's time spent:0.97\n",
      "500 epoch: 5; loss:0.0239; each step's time spent:0.97\n",
      "600 epoch: 5; loss:0.0008; each step's time spent:0.97\n",
      "700 epoch: 5; loss:0.0010; each step's time spent:0.97\n",
      "800 epoch: 5; loss:0.0193; each step's time spent:0.97\n",
      "900 epoch: 5; loss:0.0023; each step's time spent:0.97\n",
      "1000 epoch: 5; loss:0.0044; each step's time spent:0.97\n",
      "1100 epoch: 5; loss:0.0006; each step's time spent:0.97\n",
      "1200 epoch: 5; loss:0.0013; each step's time spent:0.97\n",
      "1300 epoch: 5; loss:0.0039; each step's time spent:0.97\n",
      "1400 epoch: 5; loss:0.0016; each step's time spent:0.97\n",
      "1500 epoch: 5; loss:0.0000; each step's time spent:0.97\n",
      "1600 epoch: 5; loss:0.0000; each step's time spent:0.97\n",
      "1700 epoch: 5; loss:0.0004; each step's time spent:0.97\n",
      "1800 epoch: 5; loss:0.0506; each step's time spent:0.97\n"
     ]
    },
    {
     "data": {
      "text/html": [
       "<pre style=\"white-space:pre;overflow-x:auto;line-height:normal;font-family:Menlo,'DejaVu Sans Mono',consolas,'Courier New',monospace\"><span style=\"color: #7fbfbf; text-decoration-color: #7fbfbf\">[14:04:53] </span><span style=\"font-weight: bold\">[</span>Saving Model<span style=\"font-weight: bold\">]</span><span style=\"color: #808000; text-decoration-color: #808000\">...</span>                                                                       <a href=\"file://C:\\Users\\Administrator\\AppData\\Local\\Temp\\ipykernel_20420\\837272447.py\" target=\"_blank\"><span style=\"color: #7f7f7f; text-decoration-color: #7f7f7f\">837272447.py</span></a><span style=\"color: #7f7f7f; text-decoration-color: #7f7f7f\">:</span><a href=\"file://C:\\Users\\Administrator\\AppData\\Local\\Temp\\ipykernel_20420\\837272447.py#115\" target=\"_blank\"><span style=\"color: #7f7f7f; text-decoration-color: #7f7f7f\">115</span></a>\n",
       "<span style=\"color: #7fbfbf; text-decoration-color: #7fbfbf\">           </span>                                                                                        <span style=\"color: #7f7f7f; text-decoration-color: #7f7f7f\">                </span>\n",
       "</pre>\n"
      ],
      "text/plain": [
       "\u001b[2;36m[14:04:53]\u001b[0m\u001b[2;36m \u001b[0m\u001b[1m[\u001b[0mSaving Model\u001b[1m]\u001b[0m\u001b[33m...\u001b[0m                                                                       \u001b]8;id=232873;file://C:\\Users\\Administrator\\AppData\\Local\\Temp\\ipykernel_20420\\837272447.py\u001b\\\u001b[2m837272447.py\u001b[0m\u001b]8;;\u001b\\\u001b[2m:\u001b[0m\u001b]8;id=406986;file://C:\\Users\\Administrator\\AppData\\Local\\Temp\\ipykernel_20420\\837272447.py#115\u001b\\\u001b[2m115\u001b[0m\u001b]8;;\u001b\\\n",
       "\u001b[2;36m           \u001b[0m                                                                                        \u001b[2m                \u001b[0m\n"
      ]
     },
     "metadata": {},
     "output_type": "display_data"
    },
    {
     "data": {
      "text/html": [
       "<pre style=\"white-space:pre;overflow-x:auto;line-height:normal;font-family:Menlo,'DejaVu Sans Mono',consolas,'Courier New',monospace\"><span style=\"color: #7fbfbf; text-decoration-color: #7fbfbf\">[14:04:58] </span><span style=\"font-weight: bold\">[</span>Initiating Validation<span style=\"font-weight: bold\">]</span><span style=\"color: #808000; text-decoration-color: #808000\">...</span>                                                              <a href=\"file://C:\\Users\\Administrator\\AppData\\Local\\Temp\\ipykernel_20420\\837272447.py\" target=\"_blank\"><span style=\"color: #7f7f7f; text-decoration-color: #7f7f7f\">837272447.py</span></a><span style=\"color: #7f7f7f; text-decoration-color: #7f7f7f\">:</span><a href=\"file://C:\\Users\\Administrator\\AppData\\Local\\Temp\\ipykernel_20420\\837272447.py#122\" target=\"_blank\"><span style=\"color: #7f7f7f; text-decoration-color: #7f7f7f\">122</span></a>\n",
       "<span style=\"color: #7fbfbf; text-decoration-color: #7fbfbf\">           </span>                                                                                        <span style=\"color: #7f7f7f; text-decoration-color: #7f7f7f\">                </span>\n",
       "</pre>\n"
      ],
      "text/plain": [
       "\u001b[2;36m[14:04:58]\u001b[0m\u001b[2;36m \u001b[0m\u001b[1m[\u001b[0mInitiating Validation\u001b[1m]\u001b[0m\u001b[33m...\u001b[0m                                                              \u001b]8;id=189232;file://C:\\Users\\Administrator\\AppData\\Local\\Temp\\ipykernel_20420\\837272447.py\u001b\\\u001b[2m837272447.py\u001b[0m\u001b]8;;\u001b\\\u001b[2m:\u001b[0m\u001b]8;id=785202;file://C:\\Users\\Administrator\\AppData\\Local\\Temp\\ipykernel_20420\\837272447.py#122\u001b\\\u001b[2m122\u001b[0m\u001b]8;;\u001b\\\n",
       "\u001b[2;36m           \u001b[0m                                                                                        \u001b[2m                \u001b[0m\n"
      ]
     },
     "metadata": {},
     "output_type": "display_data"
    },
    {
     "data": {
      "text/html": [
       "<pre style=\"white-space:pre;overflow-x:auto;line-height:normal;font-family:Menlo,'DejaVu Sans Mono',consolas,'Courier New',monospace\">Completed <span style=\"color: #008080; text-decoration-color: #008080; font-weight: bold\">0</span>\n",
       "</pre>\n"
      ],
      "text/plain": [
       "Completed \u001b[1;36m0\u001b[0m\n"
      ]
     },
     "metadata": {},
     "output_type": "display_data"
    },
    {
     "name": "stdout",
     "output_type": "stream",
     "text": [
      "100 epoch: 6; loss:0.0076; each step's time spent:0.98\n",
      "200 epoch: 6; loss:0.0027; each step's time spent:0.97\n",
      "300 epoch: 6; loss:0.0009; each step's time spent:0.97\n",
      "400 epoch: 6; loss:0.0366; each step's time spent:0.97\n",
      "500 epoch: 6; loss:0.0023; each step's time spent:0.97\n",
      "600 epoch: 6; loss:0.0005; each step's time spent:0.97\n",
      "700 epoch: 6; loss:0.0006; each step's time spent:0.97\n",
      "800 epoch: 6; loss:0.0036; each step's time spent:0.97\n",
      "900 epoch: 6; loss:0.0011; each step's time spent:0.97\n",
      "1000 epoch: 6; loss:0.0056; each step's time spent:0.97\n",
      "1100 epoch: 6; loss:0.0205; each step's time spent:0.97\n",
      "1200 epoch: 6; loss:0.0181; each step's time spent:0.97\n",
      "1300 epoch: 6; loss:0.0004; each step's time spent:0.97\n",
      "1400 epoch: 6; loss:0.0005; each step's time spent:0.97\n",
      "1500 epoch: 6; loss:0.0032; each step's time spent:0.97\n",
      "1600 epoch: 6; loss:0.0018; each step's time spent:0.97\n",
      "1700 epoch: 6; loss:0.0160; each step's time spent:0.97\n",
      "1800 epoch: 6; loss:0.0002; each step's time spent:0.97\n"
     ]
    },
    {
     "data": {
      "text/html": [
       "<pre style=\"white-space:pre;overflow-x:auto;line-height:normal;font-family:Menlo,'DejaVu Sans Mono',consolas,'Courier New',monospace\"><span style=\"color: #7fbfbf; text-decoration-color: #7fbfbf\">[14:42:47] </span><span style=\"font-weight: bold\">[</span>Saving Model<span style=\"font-weight: bold\">]</span><span style=\"color: #808000; text-decoration-color: #808000\">...</span>                                                                       <a href=\"file://C:\\Users\\Administrator\\AppData\\Local\\Temp\\ipykernel_20420\\837272447.py\" target=\"_blank\"><span style=\"color: #7f7f7f; text-decoration-color: #7f7f7f\">837272447.py</span></a><span style=\"color: #7f7f7f; text-decoration-color: #7f7f7f\">:</span><a href=\"file://C:\\Users\\Administrator\\AppData\\Local\\Temp\\ipykernel_20420\\837272447.py#115\" target=\"_blank\"><span style=\"color: #7f7f7f; text-decoration-color: #7f7f7f\">115</span></a>\n",
       "<span style=\"color: #7fbfbf; text-decoration-color: #7fbfbf\">           </span>                                                                                        <span style=\"color: #7f7f7f; text-decoration-color: #7f7f7f\">                </span>\n",
       "</pre>\n"
      ],
      "text/plain": [
       "\u001b[2;36m[14:42:47]\u001b[0m\u001b[2;36m \u001b[0m\u001b[1m[\u001b[0mSaving Model\u001b[1m]\u001b[0m\u001b[33m...\u001b[0m                                                                       \u001b]8;id=459562;file://C:\\Users\\Administrator\\AppData\\Local\\Temp\\ipykernel_20420\\837272447.py\u001b\\\u001b[2m837272447.py\u001b[0m\u001b]8;;\u001b\\\u001b[2m:\u001b[0m\u001b]8;id=861674;file://C:\\Users\\Administrator\\AppData\\Local\\Temp\\ipykernel_20420\\837272447.py#115\u001b\\\u001b[2m115\u001b[0m\u001b]8;;\u001b\\\n",
       "\u001b[2;36m           \u001b[0m                                                                                        \u001b[2m                \u001b[0m\n"
      ]
     },
     "metadata": {},
     "output_type": "display_data"
    },
    {
     "data": {
      "text/html": [
       "<pre style=\"white-space:pre;overflow-x:auto;line-height:normal;font-family:Menlo,'DejaVu Sans Mono',consolas,'Courier New',monospace\"><span style=\"color: #7fbfbf; text-decoration-color: #7fbfbf\">[14:42:53] </span><span style=\"font-weight: bold\">[</span>Initiating Validation<span style=\"font-weight: bold\">]</span><span style=\"color: #808000; text-decoration-color: #808000\">...</span>                                                              <a href=\"file://C:\\Users\\Administrator\\AppData\\Local\\Temp\\ipykernel_20420\\837272447.py\" target=\"_blank\"><span style=\"color: #7f7f7f; text-decoration-color: #7f7f7f\">837272447.py</span></a><span style=\"color: #7f7f7f; text-decoration-color: #7f7f7f\">:</span><a href=\"file://C:\\Users\\Administrator\\AppData\\Local\\Temp\\ipykernel_20420\\837272447.py#122\" target=\"_blank\"><span style=\"color: #7f7f7f; text-decoration-color: #7f7f7f\">122</span></a>\n",
       "<span style=\"color: #7fbfbf; text-decoration-color: #7fbfbf\">           </span>                                                                                        <span style=\"color: #7f7f7f; text-decoration-color: #7f7f7f\">                </span>\n",
       "</pre>\n"
      ],
      "text/plain": [
       "\u001b[2;36m[14:42:53]\u001b[0m\u001b[2;36m \u001b[0m\u001b[1m[\u001b[0mInitiating Validation\u001b[1m]\u001b[0m\u001b[33m...\u001b[0m                                                              \u001b]8;id=773159;file://C:\\Users\\Administrator\\AppData\\Local\\Temp\\ipykernel_20420\\837272447.py\u001b\\\u001b[2m837272447.py\u001b[0m\u001b]8;;\u001b\\\u001b[2m:\u001b[0m\u001b]8;id=849710;file://C:\\Users\\Administrator\\AppData\\Local\\Temp\\ipykernel_20420\\837272447.py#122\u001b\\\u001b[2m122\u001b[0m\u001b]8;;\u001b\\\n",
       "\u001b[2;36m           \u001b[0m                                                                                        \u001b[2m                \u001b[0m\n"
      ]
     },
     "metadata": {},
     "output_type": "display_data"
    },
    {
     "data": {
      "text/html": [
       "<pre style=\"white-space:pre;overflow-x:auto;line-height:normal;font-family:Menlo,'DejaVu Sans Mono',consolas,'Courier New',monospace\">Completed <span style=\"color: #008080; text-decoration-color: #008080; font-weight: bold\">0</span>\n",
       "</pre>\n"
      ],
      "text/plain": [
       "Completed \u001b[1;36m0\u001b[0m\n"
      ]
     },
     "metadata": {},
     "output_type": "display_data"
    },
    {
     "data": {
      "text/html": [
       "<pre style=\"white-space:pre;overflow-x:auto;line-height:normal;font-family:Menlo,'DejaVu Sans Mono',consolas,'Courier New',monospace\"><span style=\"color: #7fbfbf; text-decoration-color: #7fbfbf\">[14:50:59] </span><span style=\"font-weight: bold\">[</span>Validation Completed.<span style=\"font-weight: bold\">]</span>                                                                 <a href=\"file://C:\\Users\\Administrator\\AppData\\Local\\Temp\\ipykernel_20420\\837272447.py\" target=\"_blank\"><span style=\"color: #7f7f7f; text-decoration-color: #7f7f7f\">837272447.py</span></a><span style=\"color: #7f7f7f; text-decoration-color: #7f7f7f\">:</span><a href=\"file://C:\\Users\\Administrator\\AppData\\Local\\Temp\\ipykernel_20420\\837272447.py#131\" target=\"_blank\"><span style=\"color: #7f7f7f; text-decoration-color: #7f7f7f\">131</span></a>\n",
       "<span style=\"color: #7fbfbf; text-decoration-color: #7fbfbf\">           </span>                                                                                        <span style=\"color: #7f7f7f; text-decoration-color: #7f7f7f\">                </span>\n",
       "</pre>\n"
      ],
      "text/plain": [
       "\u001b[2;36m[14:50:59]\u001b[0m\u001b[2;36m \u001b[0m\u001b[1m[\u001b[0mValidation Completed.\u001b[1m]\u001b[0m                                                                 \u001b]8;id=378196;file://C:\\Users\\Administrator\\AppData\\Local\\Temp\\ipykernel_20420\\837272447.py\u001b\\\u001b[2m837272447.py\u001b[0m\u001b]8;;\u001b\\\u001b[2m:\u001b[0m\u001b]8;id=933664;file://C:\\Users\\Administrator\\AppData\\Local\\Temp\\ipykernel_20420\\837272447.py#131\u001b\\\u001b[2m131\u001b[0m\u001b]8;;\u001b\\\n",
       "\u001b[2;36m           \u001b[0m                                                                                        \u001b[2m                \u001b[0m\n"
      ]
     },
     "metadata": {},
     "output_type": "display_data"
    },
    {
     "data": {
      "text/html": [
       "<pre style=\"white-space:pre;overflow-x:auto;line-height:normal;font-family:Menlo,'DejaVu Sans Mono',consolas,'Courier New',monospace\"><span style=\"font-weight: bold\">[</span>Model<span style=\"font-weight: bold\">]</span> Model saved @ output/prompt/model_files\n",
       "\n",
       "</pre>\n"
      ],
      "text/plain": [
       "\u001b[1m[\u001b[0mModel\u001b[1m]\u001b[0m Model saved @ output/prompt/model_files\n",
       "\n"
      ]
     },
     "metadata": {},
     "output_type": "display_data"
    },
    {
     "data": {
      "text/html": [
       "<pre style=\"white-space:pre;overflow-x:auto;line-height:normal;font-family:Menlo,'DejaVu Sans Mono',consolas,'Courier New',monospace\"><span style=\"font-weight: bold\">[</span>Validation<span style=\"font-weight: bold\">]</span> Generation on Validation data saved @ output/prompt/predictions.csv\n",
       "\n",
       "</pre>\n"
      ],
      "text/plain": [
       "\u001b[1m[\u001b[0mValidation\u001b[1m]\u001b[0m Generation on Validation data saved @ output/prompt/predictions.csv\n",
       "\n"
      ]
     },
     "metadata": {},
     "output_type": "display_data"
    },
    {
     "data": {
      "text/html": [
       "<pre style=\"white-space:pre;overflow-x:auto;line-height:normal;font-family:Menlo,'DejaVu Sans Mono',consolas,'Courier New',monospace\"><span style=\"font-weight: bold\">[</span>Logs<span style=\"font-weight: bold\">]</span> Logs saved @ output/prompt/logs.txt\n",
       "\n",
       "</pre>\n"
      ],
      "text/plain": [
       "\u001b[1m[\u001b[0mLogs\u001b[1m]\u001b[0m Logs saved @ output/prompt/logs.txt\n",
       "\n"
      ]
     },
     "metadata": {},
     "output_type": "display_data"
    },
    {
     "name": "stdout",
     "output_type": "stream",
     "text": [
      "end..\n"
     ]
    }
   ],
   "source": [
    "# 训练模型\n",
    "# 使用 pCLUE:1200000+多任务提示学习数据集 的部分数据\n",
    "# dataframe必须有2列: \n",
    "#   - input: 文本输入\n",
    "#   - target: 目标输出\n",
    "df = pd.read_csv('data/prompt/train6452_prompt.tsv', sep='\\t', encoding='utf8')  # 数据量：1200k数据。\n",
    "# df = df.sample(frac=0.01) # TODO  取消本行代码，如果你需要更多数据训练\n",
    "print(\"df.head:\",df.head(n=5))\n",
    "print(\"df.shape:\",df.shape)\n",
    "# 显存占用说明：如果运行现在显存不足，请使用nvidia-smi查看显存；如果显卡多数被占用了，请重启colab程序\n",
    "T5Trainer(\n",
    "    dataframe=df,\n",
    "    source_text=\"input\",\n",
    "    target_text=\"target\",\n",
    "    model_params=model_params,\n",
    "    output_dir=\"output/prompt/\",\n",
    ")\n",
    "\n",
    "torch.cuda.empty_cache()\n",
    "print(\"end..\")"
   ]
  },
  {
   "cell_type": "markdown",
   "id": "abec9b9e-97ae-4542-a326-a3aee5cccd52",
   "metadata": {},
   "source": [
    "# 预测 Test"
   ]
  },
  {
   "cell_type": "code",
   "execution_count": 10,
   "id": "153d4253-be9f-4cba-8e32-c59b438ae120",
   "metadata": {},
   "outputs": [
    {
     "name": "stdout",
     "output_type": "stream",
     "text": [
      "end...\n"
     ]
    }
   ],
   "source": [
    "def testing(tokenizer, model, device, loader, max_length):\n",
    "\n",
    "    \"\"\"\n",
    "    用于预测的方法：输入用于预测的数据，返回模型预测的结果\n",
    "    Function for predictions\n",
    "\n",
    "    \"\"\"\n",
    "    \n",
    "    model.eval()\n",
    "    predictions = []\n",
    "    with torch.no_grad():\n",
    "        for _, data in enumerate(loader, 0):\n",
    "            ids = data['source_ids'].to(device, dtype = torch.long)\n",
    "            mask = data['source_mask'].to(device, dtype = torch.long)\n",
    "\n",
    "            generated_ids = model.generate(\n",
    "                input_ids = ids,\n",
    "                attention_mask = mask, \n",
    "                max_length=max_length, \n",
    "                num_beams=2,\n",
    "                repetition_penalty=2.5, \n",
    "                length_penalty=1.0,\n",
    "                early_stopping=True\n",
    "            )\n",
    "            preds = [tokenizer.decode(g, skip_special_tokens=True, clean_up_tokenization_spaces=True) for g in generated_ids]\n",
    "            if _%1000==0:\n",
    "                console.print(f'Completed {_}')\n",
    "\n",
    "            predictions.extend(preds)\n",
    "    return predictions\n",
    "print(\"end...\")"
   ]
  },
  {
   "cell_type": "code",
   "execution_count": 11,
   "id": "db1772d9-e5b0-4926-9614-12e9329dfe22",
   "metadata": {},
   "outputs": [
    {
     "name": "stdout",
     "output_type": "stream",
     "text": [
      "end...\n"
     ]
    }
   ],
   "source": [
    "# 训练类：整合数据集类、训练方法、验证方法，加载数据进行训练并验证训练过程的效果\n",
    "def T5Tester(\n",
    "    dataframe, source_text, model_params, output_dir=\"./outputs/prompt/\"\n",
    "):\n",
    "    \"\"\"\n",
    "    T5 tester\n",
    "    \"\"\"\n",
    "    n_gpu = torch.cuda.device_count()\n",
    "    \n",
    "    # Set random seeds and deterministic pytorch for reproducibility\n",
    "    torch.manual_seed(model_params[\"SEED\"])  # pytorch random seed\n",
    "    np.random.seed(model_params[\"SEED\"])  # numpy random seed\n",
    "    torch.backends.cudnn.deterministic = True\n",
    "    \n",
    "    if n_gpu > 0:\n",
    "        torch.cuda.manual_seed_all(model_params[\"SEED\"])\n",
    "\n",
    "    # logging\n",
    "    console.log(f\"\"\"[Model]: Loading {model_params[\"MODEL\"]}...\\n\"\"\")\n",
    "\n",
    "    # tokenzier for encoding the text\n",
    "    tokenizer = T5Tokenizer.from_pretrained(model_params[\"MODEL\"])\n",
    "\n",
    "    # Defining the model. We are using PromptCLUE model and added a Language model layer on top for generation of prediction.\n",
    "    # Further this model is sent to device (GPU/TPU) for using the hardware.\n",
    "    model = T5ForConditionalGeneration.from_pretrained(model_params[\"MODEL\"])\n",
    "    model = model.to(device)\n",
    "    \n",
    "    if n_gpu > 1:\n",
    "        model = torch.nn.DataParallel(model)\n",
    "        model = model.module.cuda()\n",
    "\n",
    "    # logging\n",
    "    console.log(f\"[Data]: Reading data...\\n\")\n",
    "\n",
    "    # Importing the raw dataset\n",
    "    # dataframe = dataframe[source_text]\n",
    "    # display_df(dataframe.head(2))\n",
    "\n",
    "    # Creation of Dataset and Dataloader\n",
    "    # Defining the train size So 94% of the data will be used for training and the rest for validation.\n",
    "    test_dataset = dataframe\n",
    "    \n",
    "    # 打印数据集相关日志：数据量、训练步数\n",
    "    console.print(f\"FULL Dataset: {dataframe.shape}\")\n",
    "    console.print(f\"TEST Dataset: {test_dataset.shape}\")\n",
    "\n",
    "    # Creating the Training and Validation dataset for further creation of Dataloader\n",
    "    testing_set = SmallSampleDataSetClass(\n",
    "        test_dataset,\n",
    "        tokenizer,\n",
    "        model_params[\"MAX_SOURCE_TEXT_LENGTH\"],\n",
    "        model_params[\"MAX_TARGET_TEXT_LENGTH\"],\n",
    "        source_text=source_text,\n",
    "        target_text=None\n",
    "    )\n",
    "\n",
    "    # Defining the parameters for creation of dataloaders\n",
    "    test_params = {\n",
    "        \"batch_size\": model_params[\"TEST_BATCH_SIZE\"],\n",
    "        \"shuffle\": False,\n",
    "        \"num_workers\": 0\n",
    "    }\n",
    "\n",
    "    # Creation of Dataloaders for testing and validation. This will be used down for training and validation stage for the model.\n",
    "    testing_loader = DataLoader(testing_set, **test_params)\n",
    "    \n",
    "    # 3) evaluating test dataset\n",
    "    console.log(f\"[Initiating Prediction]...\\n\")\n",
    "    with torch.no_grad(): # add 2022.10.4\n",
    "        #for epoch in range(model_params[\"VAL_EPOCHS\"]):\n",
    "        predictions = testing(tokenizer, model, device, testing_loader, model_params[\"MAX_TARGET_TEXT_LENGTH\"])\n",
    "        final_df = pd.DataFrame({\"Generated Text\": predictions})\n",
    "        final_df.to_csv(os.path.join(output_dir, \"predictions.csv\"), encoding='utf8', index=None)\n",
    "\n",
    "    console.save_text(os.path.join(output_dir, \"logs.txt\"))\n",
    "\n",
    "    console.log(f\"[Prediction Completed.]\\n\")\n",
    "    console.print(\n",
    "        f\"\"\"[Prediction] Generation on Testing data saved @ {os.path.join(output_dir,'predictions.csv')}\\n\"\"\"\n",
    "    )\n",
    "    console.print(f\"\"\"[Logs] Logs saved @ {os.path.join(output_dir,'logs.txt')}\\n\"\"\")\n",
    "print(\"end...\")"
   ]
  },
  {
   "cell_type": "code",
   "execution_count": 12,
   "id": "ca3f1a35-b379-49b7-96aa-36cd3ce2bd2a",
   "metadata": {},
   "outputs": [
    {
     "name": "stdout",
     "output_type": "stream",
     "text": [
      "end...\n"
     ]
    }
   ],
   "source": [
    "# 定义模型的参数 let's define model parameters specific to T5\n",
    "model_params = {\n",
    "    \"MODEL\": \"output/prompt/model_files/\",  # model_type\n",
    "    \"TEST_BATCH_SIZE\": 64,  # training batch size, 8\n",
    "    \"MAX_SOURCE_TEXT_LENGTH\": 1024,  # max length of source text, 512\n",
    "    \"MAX_TARGET_TEXT_LENGTH\": 10,  # max length of target text,64\n",
    "    \"SEED\": 2022,  # set seed for reproducibility\n",
    "}\n",
    "print(\"end...\")"
   ]
  },
  {
   "cell_type": "code",
   "execution_count": 13,
   "id": "ccc9dc41-12c5-485f-a31e-135f19eb4b42",
   "metadata": {},
   "outputs": [
    {
     "name": "stdout",
     "output_type": "stream",
     "text": [
      "df.head:                                                input\n",
      "0  这是哪种类别的专利？_一种耐磨、抗粘钢复合涂层、制备方法及应用。_本发明公开了一种耐磨、抗粘...\n",
      "1  这是哪种类别的专利？_一种用于提高橡胶抗湿滑性的树脂的制备方法及其应用。_本发明公开了一种用...\n",
      "2  这是哪种类别的专利？_有机硅改性丙烯酸树脂超亲水防雾涂料及其制作方法。_本发明涉及涂料制造领...\n",
      "3  这是哪种类别的专利？_一种空调系统及其控制方法、控制装置。_本发明涉及空调领域，公开了一种空...\n",
      "4  这是哪种类别的专利？_资源申请、分配方法，UE及网络控制单元。_本发明实施例公开了一种资源申...\n",
      "df.shape: (20839, 1)\n"
     ]
    },
    {
     "data": {
      "text/html": [
       "<pre style=\"white-space:pre;overflow-x:auto;line-height:normal;font-family:Menlo,'DejaVu Sans Mono',consolas,'Courier New',monospace\"><span style=\"color: #7fbfbf; text-decoration-color: #7fbfbf\">[14:51:01] </span><span style=\"font-weight: bold\">[</span>Model<span style=\"font-weight: bold\">]</span>: Loading output/prompt/model_files/<span style=\"color: #808000; text-decoration-color: #808000\">...</span>                                          <a href=\"file://C:\\Users\\Administrator\\AppData\\Local\\Temp\\ipykernel_20420\\2593043512.py\" target=\"_blank\"><span style=\"color: #7f7f7f; text-decoration-color: #7f7f7f\">2593043512.py</span></a><span style=\"color: #7f7f7f; text-decoration-color: #7f7f7f\">:</span><a href=\"file://C:\\Users\\Administrator\\AppData\\Local\\Temp\\ipykernel_20420\\2593043512.py#19\" target=\"_blank\"><span style=\"color: #7f7f7f; text-decoration-color: #7f7f7f\">19</span></a>\n",
       "<span style=\"color: #7fbfbf; text-decoration-color: #7fbfbf\">           </span>                                                                                        <span style=\"color: #7f7f7f; text-decoration-color: #7f7f7f\">                </span>\n",
       "</pre>\n"
      ],
      "text/plain": [
       "\u001b[2;36m[14:51:01]\u001b[0m\u001b[2;36m \u001b[0m\u001b[1m[\u001b[0mModel\u001b[1m]\u001b[0m: Loading output/prompt/model_files/\u001b[33m...\u001b[0m                                          \u001b]8;id=669311;file://C:\\Users\\Administrator\\AppData\\Local\\Temp\\ipykernel_20420\\2593043512.py\u001b\\\u001b[2m2593043512.py\u001b[0m\u001b]8;;\u001b\\\u001b[2m:\u001b[0m\u001b]8;id=474705;file://C:\\Users\\Administrator\\AppData\\Local\\Temp\\ipykernel_20420\\2593043512.py#19\u001b\\\u001b[2m19\u001b[0m\u001b]8;;\u001b\\\n",
       "\u001b[2;36m           \u001b[0m                                                                                        \u001b[2m                \u001b[0m\n"
      ]
     },
     "metadata": {},
     "output_type": "display_data"
    },
    {
     "data": {
      "text/html": [
       "<pre style=\"white-space:pre;overflow-x:auto;line-height:normal;font-family:Menlo,'DejaVu Sans Mono',consolas,'Courier New',monospace\"><span style=\"color: #7fbfbf; text-decoration-color: #7fbfbf\">[14:51:07] </span><span style=\"font-weight: bold\">[</span>Data<span style=\"font-weight: bold\">]</span>: Reading data<span style=\"color: #808000; text-decoration-color: #808000\">...</span>                                                                 <a href=\"file://C:\\Users\\Administrator\\AppData\\Local\\Temp\\ipykernel_20420\\2593043512.py\" target=\"_blank\"><span style=\"color: #7f7f7f; text-decoration-color: #7f7f7f\">2593043512.py</span></a><span style=\"color: #7f7f7f; text-decoration-color: #7f7f7f\">:</span><a href=\"file://C:\\Users\\Administrator\\AppData\\Local\\Temp\\ipykernel_20420\\2593043512.py#34\" target=\"_blank\"><span style=\"color: #7f7f7f; text-decoration-color: #7f7f7f\">34</span></a>\n",
       "<span style=\"color: #7fbfbf; text-decoration-color: #7fbfbf\">           </span>                                                                                        <span style=\"color: #7f7f7f; text-decoration-color: #7f7f7f\">                </span>\n",
       "</pre>\n"
      ],
      "text/plain": [
       "\u001b[2;36m[14:51:07]\u001b[0m\u001b[2;36m \u001b[0m\u001b[1m[\u001b[0mData\u001b[1m]\u001b[0m: Reading data\u001b[33m...\u001b[0m                                                                 \u001b]8;id=578333;file://C:\\Users\\Administrator\\AppData\\Local\\Temp\\ipykernel_20420\\2593043512.py\u001b\\\u001b[2m2593043512.py\u001b[0m\u001b]8;;\u001b\\\u001b[2m:\u001b[0m\u001b]8;id=825233;file://C:\\Users\\Administrator\\AppData\\Local\\Temp\\ipykernel_20420\\2593043512.py#34\u001b\\\u001b[2m34\u001b[0m\u001b]8;;\u001b\\\n",
       "\u001b[2;36m           \u001b[0m                                                                                        \u001b[2m                \u001b[0m\n"
      ]
     },
     "metadata": {},
     "output_type": "display_data"
    },
    {
     "data": {
      "text/html": [
       "<pre style=\"white-space:pre;overflow-x:auto;line-height:normal;font-family:Menlo,'DejaVu Sans Mono',consolas,'Courier New',monospace\">FULL Dataset: <span style=\"font-weight: bold\">(</span><span style=\"color: #008080; text-decoration-color: #008080; font-weight: bold\">20839</span>, <span style=\"color: #008080; text-decoration-color: #008080; font-weight: bold\">1</span><span style=\"font-weight: bold\">)</span>\n",
       "</pre>\n"
      ],
      "text/plain": [
       "FULL Dataset: \u001b[1m(\u001b[0m\u001b[1;36m20839\u001b[0m, \u001b[1;36m1\u001b[0m\u001b[1m)\u001b[0m\n"
      ]
     },
     "metadata": {},
     "output_type": "display_data"
    },
    {
     "data": {
      "text/html": [
       "<pre style=\"white-space:pre;overflow-x:auto;line-height:normal;font-family:Menlo,'DejaVu Sans Mono',consolas,'Courier New',monospace\">TEST Dataset: <span style=\"font-weight: bold\">(</span><span style=\"color: #008080; text-decoration-color: #008080; font-weight: bold\">20839</span>, <span style=\"color: #008080; text-decoration-color: #008080; font-weight: bold\">1</span><span style=\"font-weight: bold\">)</span>\n",
       "</pre>\n"
      ],
      "text/plain": [
       "TEST Dataset: \u001b[1m(\u001b[0m\u001b[1;36m20839\u001b[0m, \u001b[1;36m1\u001b[0m\u001b[1m)\u001b[0m\n"
      ]
     },
     "metadata": {},
     "output_type": "display_data"
    },
    {
     "data": {
      "text/html": [
       "<pre style=\"white-space:pre;overflow-x:auto;line-height:normal;font-family:Menlo,'DejaVu Sans Mono',consolas,'Courier New',monospace\"><span style=\"color: #7fbfbf; text-decoration-color: #7fbfbf\">           </span><span style=\"font-weight: bold\">[</span>Initiating Prediction<span style=\"font-weight: bold\">]</span><span style=\"color: #808000; text-decoration-color: #808000\">...</span>                                                              <a href=\"file://C:\\Users\\Administrator\\AppData\\Local\\Temp\\ipykernel_20420\\2593043512.py\" target=\"_blank\"><span style=\"color: #7f7f7f; text-decoration-color: #7f7f7f\">2593043512.py</span></a><span style=\"color: #7f7f7f; text-decoration-color: #7f7f7f\">:</span><a href=\"file://C:\\Users\\Administrator\\AppData\\Local\\Temp\\ipykernel_20420\\2593043512.py#69\" target=\"_blank\"><span style=\"color: #7f7f7f; text-decoration-color: #7f7f7f\">69</span></a>\n",
       "<span style=\"color: #7fbfbf; text-decoration-color: #7fbfbf\">           </span>                                                                                        <span style=\"color: #7f7f7f; text-decoration-color: #7f7f7f\">                </span>\n",
       "</pre>\n"
      ],
      "text/plain": [
       "\u001b[2;36m          \u001b[0m\u001b[2;36m \u001b[0m\u001b[1m[\u001b[0mInitiating Prediction\u001b[1m]\u001b[0m\u001b[33m...\u001b[0m                                                              \u001b]8;id=91855;file://C:\\Users\\Administrator\\AppData\\Local\\Temp\\ipykernel_20420\\2593043512.py\u001b\\\u001b[2m2593043512.py\u001b[0m\u001b]8;;\u001b\\\u001b[2m:\u001b[0m\u001b]8;id=636311;file://C:\\Users\\Administrator\\AppData\\Local\\Temp\\ipykernel_20420\\2593043512.py#69\u001b\\\u001b[2m69\u001b[0m\u001b]8;;\u001b\\\n",
       "\u001b[2;36m           \u001b[0m                                                                                        \u001b[2m                \u001b[0m\n"
      ]
     },
     "metadata": {},
     "output_type": "display_data"
    },
    {
     "data": {
      "text/html": [
       "<pre style=\"white-space:pre;overflow-x:auto;line-height:normal;font-family:Menlo,'DejaVu Sans Mono',consolas,'Courier New',monospace\">Completed <span style=\"color: #008080; text-decoration-color: #008080; font-weight: bold\">0</span>\n",
       "</pre>\n"
      ],
      "text/plain": [
       "Completed \u001b[1;36m0\u001b[0m\n"
      ]
     },
     "metadata": {},
     "output_type": "display_data"
    },
    {
     "data": {
      "text/html": [
       "<pre style=\"white-space:pre;overflow-x:auto;line-height:normal;font-family:Menlo,'DejaVu Sans Mono',consolas,'Courier New',monospace\"><span style=\"color: #7fbfbf; text-decoration-color: #7fbfbf\">[15:16:42] </span><span style=\"font-weight: bold\">[</span>Prediction Completed.<span style=\"font-weight: bold\">]</span>                                                                 <a href=\"file://C:\\Users\\Administrator\\AppData\\Local\\Temp\\ipykernel_20420\\2593043512.py\" target=\"_blank\"><span style=\"color: #7f7f7f; text-decoration-color: #7f7f7f\">2593043512.py</span></a><span style=\"color: #7f7f7f; text-decoration-color: #7f7f7f\">:</span><a href=\"file://C:\\Users\\Administrator\\AppData\\Local\\Temp\\ipykernel_20420\\2593043512.py#78\" target=\"_blank\"><span style=\"color: #7f7f7f; text-decoration-color: #7f7f7f\">78</span></a>\n",
       "<span style=\"color: #7fbfbf; text-decoration-color: #7fbfbf\">           </span>                                                                                        <span style=\"color: #7f7f7f; text-decoration-color: #7f7f7f\">                </span>\n",
       "</pre>\n"
      ],
      "text/plain": [
       "\u001b[2;36m[15:16:42]\u001b[0m\u001b[2;36m \u001b[0m\u001b[1m[\u001b[0mPrediction Completed.\u001b[1m]\u001b[0m                                                                 \u001b]8;id=908728;file://C:\\Users\\Administrator\\AppData\\Local\\Temp\\ipykernel_20420\\2593043512.py\u001b\\\u001b[2m2593043512.py\u001b[0m\u001b]8;;\u001b\\\u001b[2m:\u001b[0m\u001b]8;id=37155;file://C:\\Users\\Administrator\\AppData\\Local\\Temp\\ipykernel_20420\\2593043512.py#78\u001b\\\u001b[2m78\u001b[0m\u001b]8;;\u001b\\\n",
       "\u001b[2;36m           \u001b[0m                                                                                        \u001b[2m                \u001b[0m\n"
      ]
     },
     "metadata": {},
     "output_type": "display_data"
    },
    {
     "data": {
      "text/html": [
       "<pre style=\"white-space:pre;overflow-x:auto;line-height:normal;font-family:Menlo,'DejaVu Sans Mono',consolas,'Courier New',monospace\"><span style=\"font-weight: bold\">[</span>Prediction<span style=\"font-weight: bold\">]</span> Generation on Testing data saved @ output/prompt/prediction/predictions.csv\n",
       "\n",
       "</pre>\n"
      ],
      "text/plain": [
       "\u001b[1m[\u001b[0mPrediction\u001b[1m]\u001b[0m Generation on Testing data saved @ output/prompt/prediction/predictions.csv\n",
       "\n"
      ]
     },
     "metadata": {},
     "output_type": "display_data"
    },
    {
     "data": {
      "text/html": [
       "<pre style=\"white-space:pre;overflow-x:auto;line-height:normal;font-family:Menlo,'DejaVu Sans Mono',consolas,'Courier New',monospace\"><span style=\"font-weight: bold\">[</span>Logs<span style=\"font-weight: bold\">]</span> Logs saved @ output/prompt/prediction/logs.txt\n",
       "\n",
       "</pre>\n"
      ],
      "text/plain": [
       "\u001b[1m[\u001b[0mLogs\u001b[1m]\u001b[0m Logs saved @ output/prompt/prediction/logs.txt\n",
       "\n"
      ]
     },
     "metadata": {},
     "output_type": "display_data"
    },
    {
     "name": "stdout",
     "output_type": "stream",
     "text": [
      "end..\n"
     ]
    }
   ],
   "source": [
    "# 训练模型\n",
    "# 使用 pCLUE:1200000+多任务提示学习数据集 的部分数据\n",
    "# dataframe必须有2列: \n",
    "#   - input: 文本输入\n",
    "#   - target: 目标输出\n",
    "df = pd.read_csv('data/prompt/testA_prompt.tsv', sep='\\t', encoding='utf8', header=0, names=[\"input\"])  # 数据量：1200k数据。\n",
    "# df = df.sample(frac=0.01) # TODO  取消本行代码，如果你需要更多数据训练\n",
    "print(\"df.head:\",df.head(n=5))\n",
    "print(\"df.shape:\",df.shape)\n",
    "# 显存占用说明：如果运行现在显存不足，请使用nvidia-smi查看显存；如果显卡多数被占用了，请重启colab程序\n",
    "T5Tester(\n",
    "    dataframe=df,\n",
    "    source_text=\"input\",\n",
    "    model_params=model_params,\n",
    "    output_dir=\"output/prompt/prediction/\",\n",
    ")\n",
    "torch.cuda.empty_cache() \n",
    "print(\"end..\")"
   ]
  },
  {
   "cell_type": "code",
   "execution_count": null,
   "id": "f370954d-2cf5-4657-87f6-76bb45863340",
   "metadata": {},
   "outputs": [],
   "source": [
    "# 查看训练后显存占用情况。如果显存被占用，可以kill掉相关的进程\n",
    "!nvidia-smi\n",
    "# !fuser -v /dev/nvidia*"
   ]
  },
  {
   "cell_type": "code",
   "execution_count": 18,
   "id": "998828ad-ad79-4f9e-b414-919edc986962",
   "metadata": {},
   "outputs": [],
   "source": [
    "# !nvidia-smi -r \n",
    "# 使用以下命令清除训练中残存的GPU显存缓存\n",
    "torch.cuda.empty_cache() \n",
    "torch.cuda.empty_cache() \n",
    "torch.cuda.empty_cache() \n",
    "torch.cuda.empty_cache() \n",
    "torch.cuda.empty_cache() \n",
    "torch.cuda.empty_cache() \n",
    "torch.cuda.empty_cache() \n",
    "torch.cuda.empty_cache() \n",
    "torch.cuda.empty_cache() \n",
    "torch.cuda.empty_cache() \n",
    "torch.cuda.empty_cache() \n",
    "torch.cuda.empty_cache() \n",
    "torch.cuda.empty_cache() \n",
    "torch.cuda.empty_cache()\n",
    "torch.cuda.empty_cache() \n",
    "torch.cuda.empty_cache() \n",
    "torch.cuda.empty_cache() \n",
    "torch.cuda.empty_cache() \n",
    "torch.cuda.empty_cache() \n",
    "torch.cuda.empty_cache() \n",
    "torch.cuda.empty_cache() \n",
    "torch.cuda.empty_cache() \n",
    "torch.cuda.empty_cache() \n",
    "torch.cuda.empty_cache() \n",
    "torch.cuda.empty_cache() \n",
    "torch.cuda.empty_cache() \n",
    "torch.cuda.empty_cache() \n",
    "torch.cuda.empty_cache()  "
   ]
  },
  {
   "cell_type": "code",
   "execution_count": null,
   "id": "e839dd22-938e-4f30-9623-0f1d020cd270",
   "metadata": {},
   "outputs": [],
   "source": []
  }
 ],
 "metadata": {
  "kernelspec": {
   "display_name": "Python 3 (ipykernel)",
   "language": "python",
   "name": "python3"
  },
  "language_info": {
   "codemirror_mode": {
    "name": "ipython",
    "version": 3
   },
   "file_extension": ".py",
   "mimetype": "text/x-python",
   "name": "python",
   "nbconvert_exporter": "python",
   "pygments_lexer": "ipython3",
   "version": "3.9.13"
  }
 },
 "nbformat": 4,
 "nbformat_minor": 5
}
