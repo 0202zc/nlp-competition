{
 "cells": [
  {
   "cell_type": "markdown",
   "id": "9f250046-64f3-4bd8-89a0-022f154cacb9",
   "metadata": {
    "pycharm": {
     "name": "#%% md\n"
    }
   },
   "source": [
    "# 小样本数据分类任务"
   ]
  },
  {
   "cell_type": "code",
   "execution_count": null,
   "id": "fce5038d-edde-41d6-95bc-5d9be80052f3",
   "metadata": {
    "pycharm": {
     "is_executing": true,
     "name": "#%%\n"
    },
    "scrolled": true,
    "tags": []
   },
   "outputs": [],
   "source": [
    "!set CUDA_VISIBLE_DEVICES=0,1\n",
    "!python small_sample_classifier_kfold_prefix_tuning_roberta.py \\\n",
    "  --task_name=text-clf \\\n",
    "  --do_train \\\n",
    "  --data_dir=data/translation/ \\\n",
    "  --bert_model=pretrained_models/chinese-roberta-wwm-ext \\\n",
    "  --max_seq_length=496 \\\n",
    "  --train_batch_size=32 \\\n",
    "  --learning_rate=2e-5  \\\n",
    "  --num_train_epochs=7.0 \\\n",
    "  --output_dir=output/kfold/13/1/\n",
    "  # --warmup_proportion=0.2"
   ]
  },
  {
   "cell_type": "code",
   "execution_count": null,
   "id": "f4a135bc-414a-46a3-943d-36b42c345ad7",
   "metadata": {
    "scrolled": true,
    "tags": []
   },
   "outputs": [],
   "source": [
    "!set CUDA_VISIBLE_DEVICES=0,1\n",
    "!python small_sample_classifier_kfold_prefix_tuning_xlnet.py \\\n",
    "  --task_name=text-clf \\\n",
    "  --do_train \\\n",
    "  --data_dir=data/labeled_train/train/ \\\n",
    "  --bert_model=pretrained_models/chinese-xlnet-base/ \\\n",
    "  --max_seq_length=496 \\\n",
    "  --train_batch_size=32 \\\n",
    "  --learning_rate=3e-5  \\\n",
    "  --num_train_epochs=3.0 \\\n",
    "  --output_dir=output/xlnet/28(train6403_49oversampling_3epochs)/\n",
    "  # --warmup_proportion=0.2"
   ]
  },
  {
   "cell_type": "code",
   "execution_count": null,
   "id": "41bb4c94-7ddf-42a1-861d-c37bf113b469",
   "metadata": {},
   "outputs": [],
   "source": [
    "!set CUDA_VISIBLE_DEVICES=0,1\n",
    "!python small_sample_classifier_kfold_prefix_tuning.py \\\n",
    "  --task_name=text-clf \\\n",
    "  --do_train \\\n",
    "  --data_dir=data/translation/ \\\n",
    "  --bert_model=pretrained_models/nezha-large-wwm \\\n",
    "  --max_seq_length=496 \\\n",
    "  --train_batch_size=8 \\\n",
    "  --learning_rate=3e-5  \\\n",
    "  --num_train_epochs=8.0 \\\n",
    "  --output_dir=output/kfold/15/\n",
    "  # --warmup_proportion=0.2"
   ]
  },
  {
   "cell_type": "code",
   "execution_count": null,
   "id": "db28a0fa-e945-4235-82c7-c45fcef3c2aa",
   "metadata": {},
   "outputs": [],
   "source": [
    "!set CUDA_VISIBLE_DEVICES=0,1\n",
    "!python small_sample_classifier_kfold_prefix_tuning_bert.py \\\n",
    "  --task_name=text-clf \\\n",
    "  --do_train \\\n",
    "  --data_dir=data/ \\\n",
    "  --bert_model=pretrained_models/chinese-bert-wwm/ \\\n",
    "  --max_seq_length=496 \\\n",
    "  --train_batch_size=32 \\\n",
    "  --learning_rate=2e-5  \\\n",
    "  --num_train_epochs=6.0 \\\n",
    "  --output_dir=output/kfold/13/3/\n",
    "  # --warmup_proportion=0.2"
   ]
  },
  {
   "cell_type": "code",
   "execution_count": null,
   "id": "4e748aea-e40e-44d6-a1f5-eb8e64a4ecc0",
   "metadata": {
    "pycharm": {
     "name": "#%%\n"
    },
    "scrolled": true,
    "tags": []
   },
   "outputs": [],
   "source": [
    "!set CUDA_VISIBLE_DEVICES=0,1\n",
    "!python small_sample_classifier_kfold_prefix_tuning.py \\\n",
    "  --task_name=text-clf \\\n",
    "  --do_train \\\n",
    "  --data_dir=data/ \\\n",
    "  --bert_model=pretrained_models/nezha-base-wwm \\\n",
    "  --max_seq_length=496 \\\n",
    "  --train_batch_size=32 \\\n",
    "  --learning_rate=2e-5  \\\n",
    "  --num_train_epochs=6.0 \\\n",
    "  --output_dir=output/kfold/23/ \\\n",
    "  --seed=2022\n",
    "  # --warmup_proportion=0.2"
   ]
  },
  {
   "cell_type": "code",
   "execution_count": null,
   "id": "a47bd336-823f-4680-9d66-0464d0dfb155",
   "metadata": {
    "pycharm": {
     "name": "#%%\n"
    }
   },
   "outputs": [],
   "source": [
    "!set CUDA_VISIBLE_DEVICES=0,1\n",
    "!python small_sample_classifier_kfold.py \\\n",
    "  --task_name=text-clf \\\n",
    "  --do_train \\\n",
    "  --data_dir=data/ \\\n",
    "  --bert_model=pretrained_models/nezha-base-wwm \\\n",
    "  --max_seq_length=512 \\\n",
    "  --train_batch_size=16 \\\n",
    "  --learning_rate=2e-5  \\\n",
    "  --num_train_epochs=8.0 \\\n",
    "  --output_dir=output/kfold/8/2/\n",
    "  # --warmup_proportion=0.2"
   ]
  },
  {
   "cell_type": "code",
   "execution_count": null,
   "id": "eb770afe-eeeb-47be-9e86-3074763b8b53",
   "metadata": {
    "pycharm": {
     "name": "#%%\n"
    }
   },
   "outputs": [],
   "source": [
    "!set CUDA_VISIBLE_DEVICES=0,1\n",
    "!python small_sample_classifier_kfold_test.py \\\n",
    "  --task_name=text-clf \\\n",
    "  --do_train \\\n",
    "  --data_dir=data/ \\\n",
    "  --bert_model=pretrained_models/nezha-base-wwm \\\n",
    "  --max_seq_length=512 \\\n",
    "  --train_batch_size=40 \\\n",
    "  --learning_rate=2e-5  \\\n",
    "  --num_train_epochs=10.0 \\\n",
    "  --output_dir=output/kfold/test/\n",
    "  # --warmup_proportion=0.2"
   ]
  },
  {
   "cell_type": "code",
   "execution_count": null,
   "id": "5d7b8fda-db52-4b18-80e8-2a6f673fda18",
   "metadata": {
    "pycharm": {
     "name": "#%%\n"
    }
   },
   "outputs": [],
   "source": [
    "!set CUDA_VISIBLE_DEVICES=0,1\n",
    "!python small_sample_classifier_kfold_prefix_tuning.py \\\n",
    "  --task_name=text-clf \\\n",
    "  --do_train \\\n",
    "  --data_dir=data/ \\\n",
    "  --bert_model=pretrained_models/nezha-base-wwm-pretraining \\\n",
    "  --max_seq_length=496 \\\n",
    "  --train_batch_size=32 \\\n",
    "  --learning_rate=2e-5  \\\n",
    "  --num_train_epochs=6.0 \\\n",
    "  --output_dir=output/kfold/24/\n",
    "  # --warmup_proportion=0.2"
   ]
  },
  {
   "cell_type": "code",
   "execution_count": null,
   "id": "2ccaa96d-7bfd-4794-b74d-55f04f36e1a2",
   "metadata": {
    "pycharm": {
     "name": "#%%\n"
    }
   },
   "outputs": [],
   "source": [
    "!python small_sample_pred.py \\\n",
    "  --data_dir=data/ \\\n",
    "  --trained_model_dir=\"output/kfold/22/\" \\\n",
    "  --output_dir=\"output/kfold/22/predict/\" \\\n",
    "  --eval_batch_size=256 \\\n",
    "  --max_seq_length=496"
   ]
  },
  {
   "cell_type": "markdown",
   "id": "18806bad-d3e2-4a17-988e-aba7d8f13428",
   "metadata": {
    "pycharm": {
     "name": "#%% md\n"
    }
   },
   "source": [
    "## 结果输出"
   ]
  },
  {
   "cell_type": "code",
   "execution_count": null,
   "id": "fef10979-68bf-452e-83b8-0e21afcff025",
   "metadata": {
    "pycharm": {
     "name": "#%%\n"
    }
   },
   "outputs": [],
   "source": [
    "import json\n",
    "import pandas as pd\n",
    "\n",
    "df = pd.read_json('data/testA.json', encoding='utf8', lines=True)\n",
    "labels = pd.read_csv(\"output/kfold/1/test_results_1.txt\", encoding='utf8', header=None, names=['labels'])\n",
    "\n",
    "results = pd.concat([df['id'], labels['labels']], axis=1)\n",
    "results.to_csv('submit.csv', encoding='utf8', sep=',', header=['id', 'label'], index=None)\n",
    "results"
   ]
  },
  {
   "cell_type": "markdown",
   "id": "b809d5df-7e61-4abb-9d9e-a39022ca7948",
   "metadata": {
    "pycharm": {
     "name": "#%% md\n"
    }
   },
   "source": [
    "# 继续预训练"
   ]
  },
  {
   "cell_type": "code",
   "execution_count": null,
   "id": "054f914b-6651-42dd-9891-9192e73f87f9",
   "metadata": {
    "pycharm": {
     "name": "#%%\n"
    },
    "tags": []
   },
   "outputs": [],
   "source": [
    "!set CUDA_VISIBLE_DEVICES=0,1\n",
    "!python small_sample_for_pretraining.py \\\n",
    "  --task_name=text-clf \\\n",
    "  --do_train \\\n",
    "  --data_dir=data/data_for_pretraining/ \\\n",
    "  --bert_model=pretrained_models/nezha-base-wwm \\\n",
    "  --max_seq_length=496 \\\n",
    "  --train_batch_size=28 \\\n",
    "  --learning_rate=3e-5  \\\n",
    "  --num_train_epochs=10.0 \\\n",
    "  --output_dir=output/continual_pretraining/3/ \\\n",
    "  --seed=2022"
   ]
  },
  {
   "cell_type": "code",
   "execution_count": null,
   "id": "1a006e94-cec3-4a03-bd2e-240a466950d6",
   "metadata": {
    "pycharm": {
     "name": "#%%\n"
    }
   },
   "outputs": [],
   "source": []
  }
 ],
 "metadata": {
  "kernelspec": {
   "display_name": "Python 3 (ipykernel)",
   "language": "python",
   "name": "python3"
  },
  "language_info": {
   "codemirror_mode": {
    "name": "ipython",
    "version": 3
   },
   "file_extension": ".py",
   "mimetype": "text/x-python",
   "name": "python",
   "nbconvert_exporter": "python",
   "pygments_lexer": "ipython3",
   "version": "3.9.13"
  }
 },
 "nbformat": 4,
 "nbformat_minor": 5
}
