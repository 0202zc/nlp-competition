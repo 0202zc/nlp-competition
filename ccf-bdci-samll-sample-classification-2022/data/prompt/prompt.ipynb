{
 "cells": [
  {
   "cell_type": "code",
   "execution_count": 1,
   "metadata": {
    "collapsed": true
   },
   "outputs": [
    {
     "data": {
      "text/plain": "     label_id                                               text\n0           0  一种信号的发送方法及基站、用户设备_一种信号的发送方法及基站、用户设备。在一个子帧中为多个用...\n1           0  一种5G通信电缆故障监测系统_本发明公开了一种5G通信电缆故障监测系统，包括信号采样模块和补...\n2           0  测试方法及电子装置_本发明提供一种测试方法及电子装置。该方法包括以下步骤：根据选择的测试任务...\n3           0  天线方位调整装置_一种天线方位角调节装置，包括两个相对的8字形支架（101）、动力输入电机（...\n4           0  光纤老化预测方法及装置_本申请提供一种光纤老化预测方法及其装置。该方法包括：获取待测光纤模块...\n..        ...                                                ...\n955        35  一种广告投放控制方法及装置_本发明公开了一种广告投放控制方法及装置，以解决现有技术中基于地域...\n954        35  一种适用于安防的广告机_本实用新型公开了一种适用于安防的广告机，包括支撑架，支撑架的上端设置...\n953        35  一种信息处理方法及装置_本发明公开了一种信息处理方法，所述方法包括：第一进程获取来自多个查询...\n960        35  本发明涉及一种广告投放控制方法及装置_本发明公开了一种广告投放控制方法及装置，用于解决现有技...\n957        35  基于大数据的广告推送系统_本发明公开了一种基于大数据的广告推送系统，包括用户信息采集模块、大...\n\n[2049 rows x 2 columns]",
      "text/html": "<div>\n<style scoped>\n    .dataframe tbody tr th:only-of-type {\n        vertical-align: middle;\n    }\n\n    .dataframe tbody tr th {\n        vertical-align: top;\n    }\n\n    .dataframe thead th {\n        text-align: right;\n    }\n</style>\n<table border=\"1\" class=\"dataframe\">\n  <thead>\n    <tr style=\"text-align: right;\">\n      <th></th>\n      <th>label_id</th>\n      <th>text</th>\n    </tr>\n  </thead>\n  <tbody>\n    <tr>\n      <th>0</th>\n      <td>0</td>\n      <td>一种信号的发送方法及基站、用户设备_一种信号的发送方法及基站、用户设备。在一个子帧中为多个用...</td>\n    </tr>\n    <tr>\n      <th>1</th>\n      <td>0</td>\n      <td>一种5G通信电缆故障监测系统_本发明公开了一种5G通信电缆故障监测系统，包括信号采样模块和补...</td>\n    </tr>\n    <tr>\n      <th>2</th>\n      <td>0</td>\n      <td>测试方法及电子装置_本发明提供一种测试方法及电子装置。该方法包括以下步骤：根据选择的测试任务...</td>\n    </tr>\n    <tr>\n      <th>3</th>\n      <td>0</td>\n      <td>天线方位调整装置_一种天线方位角调节装置，包括两个相对的8字形支架（101）、动力输入电机（...</td>\n    </tr>\n    <tr>\n      <th>4</th>\n      <td>0</td>\n      <td>光纤老化预测方法及装置_本申请提供一种光纤老化预测方法及其装置。该方法包括：获取待测光纤模块...</td>\n    </tr>\n    <tr>\n      <th>...</th>\n      <td>...</td>\n      <td>...</td>\n    </tr>\n    <tr>\n      <th>955</th>\n      <td>35</td>\n      <td>一种广告投放控制方法及装置_本发明公开了一种广告投放控制方法及装置，以解决现有技术中基于地域...</td>\n    </tr>\n    <tr>\n      <th>954</th>\n      <td>35</td>\n      <td>一种适用于安防的广告机_本实用新型公开了一种适用于安防的广告机，包括支撑架，支撑架的上端设置...</td>\n    </tr>\n    <tr>\n      <th>953</th>\n      <td>35</td>\n      <td>一种信息处理方法及装置_本发明公开了一种信息处理方法，所述方法包括：第一进程获取来自多个查询...</td>\n    </tr>\n    <tr>\n      <th>960</th>\n      <td>35</td>\n      <td>本发明涉及一种广告投放控制方法及装置_本发明公开了一种广告投放控制方法及装置，用于解决现有技...</td>\n    </tr>\n    <tr>\n      <th>957</th>\n      <td>35</td>\n      <td>基于大数据的广告推送系统_本发明公开了一种基于大数据的广告推送系统，包括用户信息采集模块、大...</td>\n    </tr>\n  </tbody>\n</table>\n<p>2049 rows × 2 columns</p>\n</div>"
     },
     "execution_count": 1,
     "metadata": {},
     "output_type": "execute_result"
    }
   ],
   "source": [
    "import numpy as np\n",
    "import pandas as pd\n",
    "\n",
    "# train_df = pd.read_json('../train.json', encoding='utf8', lines=True)\n",
    "train_df = pd.read_csv('../train_xlnet.tsv', encoding='utf8', sep='\\t')\n",
    "\n",
    "train_df['text'] = train_df['text'].apply(lambda x: x.replace('<sep>', '_'))\n",
    "train_trans_back_df = pd.read_csv('../translation/zh-CN/trainA_trans.tsv', encoding='utf8', sep='\\t')\n",
    "train_trans_back_df['text'] = train_trans_back_df['text'].apply(lambda x: x.replace('<sep>', '_'))\n",
    "\n",
    "train_df = pd.concat((train_df, train_trans_back_df), axis=0).sort_values('label_id')\n",
    "# train_df.to_csv('train_backtrans_prompt.tsv', encoding='utf8', sep='\\t', index=None)\n",
    "train_df"
   ]
  },
  {
   "cell_type": "code",
   "execution_count": 2,
   "outputs": [
    {
     "data": {
      "text/plain": "    label_id name_0 name_1 name_2      name\n0          0     通信     信号     天线  通信/信号/天线\n1          1     农业     基因     养殖  农业/基因/养殖\n2          2     服装     基建     机械  服装/基建/机械\n3          3     存储     数据     信息  存储/数据/信息\n4          4     精算     终端     交通  精算/终端/交通\n5          5     材料     化学     生物  材料/化学/生物\n6          6     智能     科技     算法  智能/科技/算法\n7          7     监测     杀菌     环保  监测/杀菌/环保\n8          8     医疗     疾病     细胞  医疗/疾病/细胞\n9          9     图像     视频     画面  图像/视频/画面\n10        10     光电     电子     元件  光电/电子/元件\n11        11     焊接     机械     制造  焊接/机械/制造\n12        12     传感     显示     三维  传感/显示/三维\n13        13     冶炼     化合     制备  冶炼/化合/制备\n14        14     石油     降解     回收  石油/降解/回收\n15        15     电力     设备     电缆  电力/设备/电缆\n16        16     光伏     发电     配件  光伏/发电/配件\n17        17     电池     驱动     工装  电池/驱动/工装\n18        18     无机     制备     涂层  无机/制备/涂层\n19        19     风电     监测     控制  风电/监测/控制\n20        20     药物     合成     生物  药物/合成/生物\n21        21     复合     纳米     超导  复合/纳米/超导\n22        22     建筑     测定     试验  建筑/测定/试验\n23        23     钢材     腐蚀     生产  钢材/腐蚀/生产\n24        24     车辆     轨道     列车  车辆/轨道/列车\n25        25     聚合     纤维     材料  聚合/纤维/材料\n26        26     导航     接收     航天  导航/接收/航天\n27        27     矿产     水利     岩土  矿产/水利/岩土\n28        28     烧结     锅炉     洗砂  烧结/锅炉/洗砂\n29        29     能源     充电     调度  能源/充电/调度\n30        30     食品     水产     加工  食品/水产/加工\n31        31     技术     装置     系统  技术/装置/系统\n32        32     设备     方法     装置  设备/方法/装置\n33        33     海洋     开采     机械  海洋/开采/机械\n34        34     航空     航天     控制  航空/航天/控制\n35        35     数据     广告     信息  数据/广告/信息",
      "text/html": "<div>\n<style scoped>\n    .dataframe tbody tr th:only-of-type {\n        vertical-align: middle;\n    }\n\n    .dataframe tbody tr th {\n        vertical-align: top;\n    }\n\n    .dataframe thead th {\n        text-align: right;\n    }\n</style>\n<table border=\"1\" class=\"dataframe\">\n  <thead>\n    <tr style=\"text-align: right;\">\n      <th></th>\n      <th>label_id</th>\n      <th>name_0</th>\n      <th>name_1</th>\n      <th>name_2</th>\n      <th>name</th>\n    </tr>\n  </thead>\n  <tbody>\n    <tr>\n      <th>0</th>\n      <td>0</td>\n      <td>通信</td>\n      <td>信号</td>\n      <td>天线</td>\n      <td>通信/信号/天线</td>\n    </tr>\n    <tr>\n      <th>1</th>\n      <td>1</td>\n      <td>农业</td>\n      <td>基因</td>\n      <td>养殖</td>\n      <td>农业/基因/养殖</td>\n    </tr>\n    <tr>\n      <th>2</th>\n      <td>2</td>\n      <td>服装</td>\n      <td>基建</td>\n      <td>机械</td>\n      <td>服装/基建/机械</td>\n    </tr>\n    <tr>\n      <th>3</th>\n      <td>3</td>\n      <td>存储</td>\n      <td>数据</td>\n      <td>信息</td>\n      <td>存储/数据/信息</td>\n    </tr>\n    <tr>\n      <th>4</th>\n      <td>4</td>\n      <td>精算</td>\n      <td>终端</td>\n      <td>交通</td>\n      <td>精算/终端/交通</td>\n    </tr>\n    <tr>\n      <th>5</th>\n      <td>5</td>\n      <td>材料</td>\n      <td>化学</td>\n      <td>生物</td>\n      <td>材料/化学/生物</td>\n    </tr>\n    <tr>\n      <th>6</th>\n      <td>6</td>\n      <td>智能</td>\n      <td>科技</td>\n      <td>算法</td>\n      <td>智能/科技/算法</td>\n    </tr>\n    <tr>\n      <th>7</th>\n      <td>7</td>\n      <td>监测</td>\n      <td>杀菌</td>\n      <td>环保</td>\n      <td>监测/杀菌/环保</td>\n    </tr>\n    <tr>\n      <th>8</th>\n      <td>8</td>\n      <td>医疗</td>\n      <td>疾病</td>\n      <td>细胞</td>\n      <td>医疗/疾病/细胞</td>\n    </tr>\n    <tr>\n      <th>9</th>\n      <td>9</td>\n      <td>图像</td>\n      <td>视频</td>\n      <td>画面</td>\n      <td>图像/视频/画面</td>\n    </tr>\n    <tr>\n      <th>10</th>\n      <td>10</td>\n      <td>光电</td>\n      <td>电子</td>\n      <td>元件</td>\n      <td>光电/电子/元件</td>\n    </tr>\n    <tr>\n      <th>11</th>\n      <td>11</td>\n      <td>焊接</td>\n      <td>机械</td>\n      <td>制造</td>\n      <td>焊接/机械/制造</td>\n    </tr>\n    <tr>\n      <th>12</th>\n      <td>12</td>\n      <td>传感</td>\n      <td>显示</td>\n      <td>三维</td>\n      <td>传感/显示/三维</td>\n    </tr>\n    <tr>\n      <th>13</th>\n      <td>13</td>\n      <td>冶炼</td>\n      <td>化合</td>\n      <td>制备</td>\n      <td>冶炼/化合/制备</td>\n    </tr>\n    <tr>\n      <th>14</th>\n      <td>14</td>\n      <td>石油</td>\n      <td>降解</td>\n      <td>回收</td>\n      <td>石油/降解/回收</td>\n    </tr>\n    <tr>\n      <th>15</th>\n      <td>15</td>\n      <td>电力</td>\n      <td>设备</td>\n      <td>电缆</td>\n      <td>电力/设备/电缆</td>\n    </tr>\n    <tr>\n      <th>16</th>\n      <td>16</td>\n      <td>光伏</td>\n      <td>发电</td>\n      <td>配件</td>\n      <td>光伏/发电/配件</td>\n    </tr>\n    <tr>\n      <th>17</th>\n      <td>17</td>\n      <td>电池</td>\n      <td>驱动</td>\n      <td>工装</td>\n      <td>电池/驱动/工装</td>\n    </tr>\n    <tr>\n      <th>18</th>\n      <td>18</td>\n      <td>无机</td>\n      <td>制备</td>\n      <td>涂层</td>\n      <td>无机/制备/涂层</td>\n    </tr>\n    <tr>\n      <th>19</th>\n      <td>19</td>\n      <td>风电</td>\n      <td>监测</td>\n      <td>控制</td>\n      <td>风电/监测/控制</td>\n    </tr>\n    <tr>\n      <th>20</th>\n      <td>20</td>\n      <td>药物</td>\n      <td>合成</td>\n      <td>生物</td>\n      <td>药物/合成/生物</td>\n    </tr>\n    <tr>\n      <th>21</th>\n      <td>21</td>\n      <td>复合</td>\n      <td>纳米</td>\n      <td>超导</td>\n      <td>复合/纳米/超导</td>\n    </tr>\n    <tr>\n      <th>22</th>\n      <td>22</td>\n      <td>建筑</td>\n      <td>测定</td>\n      <td>试验</td>\n      <td>建筑/测定/试验</td>\n    </tr>\n    <tr>\n      <th>23</th>\n      <td>23</td>\n      <td>钢材</td>\n      <td>腐蚀</td>\n      <td>生产</td>\n      <td>钢材/腐蚀/生产</td>\n    </tr>\n    <tr>\n      <th>24</th>\n      <td>24</td>\n      <td>车辆</td>\n      <td>轨道</td>\n      <td>列车</td>\n      <td>车辆/轨道/列车</td>\n    </tr>\n    <tr>\n      <th>25</th>\n      <td>25</td>\n      <td>聚合</td>\n      <td>纤维</td>\n      <td>材料</td>\n      <td>聚合/纤维/材料</td>\n    </tr>\n    <tr>\n      <th>26</th>\n      <td>26</td>\n      <td>导航</td>\n      <td>接收</td>\n      <td>航天</td>\n      <td>导航/接收/航天</td>\n    </tr>\n    <tr>\n      <th>27</th>\n      <td>27</td>\n      <td>矿产</td>\n      <td>水利</td>\n      <td>岩土</td>\n      <td>矿产/水利/岩土</td>\n    </tr>\n    <tr>\n      <th>28</th>\n      <td>28</td>\n      <td>烧结</td>\n      <td>锅炉</td>\n      <td>洗砂</td>\n      <td>烧结/锅炉/洗砂</td>\n    </tr>\n    <tr>\n      <th>29</th>\n      <td>29</td>\n      <td>能源</td>\n      <td>充电</td>\n      <td>调度</td>\n      <td>能源/充电/调度</td>\n    </tr>\n    <tr>\n      <th>30</th>\n      <td>30</td>\n      <td>食品</td>\n      <td>水产</td>\n      <td>加工</td>\n      <td>食品/水产/加工</td>\n    </tr>\n    <tr>\n      <th>31</th>\n      <td>31</td>\n      <td>技术</td>\n      <td>装置</td>\n      <td>系统</td>\n      <td>技术/装置/系统</td>\n    </tr>\n    <tr>\n      <th>32</th>\n      <td>32</td>\n      <td>设备</td>\n      <td>方法</td>\n      <td>装置</td>\n      <td>设备/方法/装置</td>\n    </tr>\n    <tr>\n      <th>33</th>\n      <td>33</td>\n      <td>海洋</td>\n      <td>开采</td>\n      <td>机械</td>\n      <td>海洋/开采/机械</td>\n    </tr>\n    <tr>\n      <th>34</th>\n      <td>34</td>\n      <td>航空</td>\n      <td>航天</td>\n      <td>控制</td>\n      <td>航空/航天/控制</td>\n    </tr>\n    <tr>\n      <th>35</th>\n      <td>35</td>\n      <td>数据</td>\n      <td>广告</td>\n      <td>信息</td>\n      <td>数据/广告/信息</td>\n    </tr>\n  </tbody>\n</table>\n</div>"
     },
     "execution_count": 2,
     "metadata": {},
     "output_type": "execute_result"
    }
   ],
   "source": [
    "token_sep = '/'\n",
    "label_names_df = pd.read_csv('../labels/named_labels.tsv', sep='\\t', encoding='utf8')\n",
    "label_names_df['name'] = label_names_df['name_0'] + token_sep + label_names_df['name_1'] + token_sep + label_names_df['name_2']\n",
    "\n",
    "label_names = np.asarray(label_names_df['name']).tolist()\n",
    "\n",
    "label_names_df"
   ],
   "metadata": {
    "collapsed": false
   }
  },
  {
   "cell_type": "code",
   "execution_count": 3,
   "outputs": [
    {
     "data": {
      "text/plain": "                                                 input  target\n0    这是哪种类别的专利？_一种信号的发送方法及基站、用户设备_一种信号的发送方法及基站、用户设备...       0\n1    这是哪种类别的专利？_一种5G通信电缆故障监测系统_本发明公开了一种5G通信电缆故障监测系统...       0\n2    这是哪种类别的专利？_测试方法及电子装置_本发明提供一种测试方法及电子装置。该方法包括以下步...       0\n3    这是哪种类别的专利？_天线方位调整装置_一种天线方位角调节装置，包括两个相对的8字形支架（1...       0\n4    这是哪种类别的专利？_光纤老化预测方法及装置_本申请提供一种光纤老化预测方法及其装置。该方法...       0\n..                                                 ...     ...\n955  这是哪种类别的专利？_一种广告投放控制方法及装置_本发明公开了一种广告投放控制方法及装置，以...      35\n954  这是哪种类别的专利？_一种适用于安防的广告机_本实用新型公开了一种适用于安防的广告机，包括支...      35\n953  这是哪种类别的专利？_一种信息处理方法及装置_本发明公开了一种信息处理方法，所述方法包括：第...      35\n960  这是哪种类别的专利？_本发明涉及一种广告投放控制方法及装置_本发明公开了一种广告投放控制方法...      35\n957  这是哪种类别的专利？_基于大数据的广告推送系统_本发明公开了一种基于大数据的广告推送系统，包...      35\n\n[2049 rows x 2 columns]",
      "text/html": "<div>\n<style scoped>\n    .dataframe tbody tr th:only-of-type {\n        vertical-align: middle;\n    }\n\n    .dataframe tbody tr th {\n        vertical-align: top;\n    }\n\n    .dataframe thead th {\n        text-align: right;\n    }\n</style>\n<table border=\"1\" class=\"dataframe\">\n  <thead>\n    <tr style=\"text-align: right;\">\n      <th></th>\n      <th>input</th>\n      <th>target</th>\n    </tr>\n  </thead>\n  <tbody>\n    <tr>\n      <th>0</th>\n      <td>这是哪种类别的专利？_一种信号的发送方法及基站、用户设备_一种信号的发送方法及基站、用户设备...</td>\n      <td>0</td>\n    </tr>\n    <tr>\n      <th>1</th>\n      <td>这是哪种类别的专利？_一种5G通信电缆故障监测系统_本发明公开了一种5G通信电缆故障监测系统...</td>\n      <td>0</td>\n    </tr>\n    <tr>\n      <th>2</th>\n      <td>这是哪种类别的专利？_测试方法及电子装置_本发明提供一种测试方法及电子装置。该方法包括以下步...</td>\n      <td>0</td>\n    </tr>\n    <tr>\n      <th>3</th>\n      <td>这是哪种类别的专利？_天线方位调整装置_一种天线方位角调节装置，包括两个相对的8字形支架（1...</td>\n      <td>0</td>\n    </tr>\n    <tr>\n      <th>4</th>\n      <td>这是哪种类别的专利？_光纤老化预测方法及装置_本申请提供一种光纤老化预测方法及其装置。该方法...</td>\n      <td>0</td>\n    </tr>\n    <tr>\n      <th>...</th>\n      <td>...</td>\n      <td>...</td>\n    </tr>\n    <tr>\n      <th>955</th>\n      <td>这是哪种类别的专利？_一种广告投放控制方法及装置_本发明公开了一种广告投放控制方法及装置，以...</td>\n      <td>35</td>\n    </tr>\n    <tr>\n      <th>954</th>\n      <td>这是哪种类别的专利？_一种适用于安防的广告机_本实用新型公开了一种适用于安防的广告机，包括支...</td>\n      <td>35</td>\n    </tr>\n    <tr>\n      <th>953</th>\n      <td>这是哪种类别的专利？_一种信息处理方法及装置_本发明公开了一种信息处理方法，所述方法包括：第...</td>\n      <td>35</td>\n    </tr>\n    <tr>\n      <th>960</th>\n      <td>这是哪种类别的专利？_本发明涉及一种广告投放控制方法及装置_本发明公开了一种广告投放控制方法...</td>\n      <td>35</td>\n    </tr>\n    <tr>\n      <th>957</th>\n      <td>这是哪种类别的专利？_基于大数据的广告推送系统_本发明公开了一种基于大数据的广告推送系统，包...</td>\n      <td>35</td>\n    </tr>\n  </tbody>\n</table>\n<p>2049 rows × 2 columns</p>\n</div>"
     },
     "execution_count": 3,
     "metadata": {},
     "output_type": "execute_result"
    }
   ],
   "source": [
    "# train_df['input'] = \"这是哪种类别的专利？_\" + train_df['title'].str.replace('<i>|</i>|\"', '', regex=True) + \"。\" + train_df['abstract'].str.replace('<i>|</i>|\"', '', regex=True) + '_选项：' + \",\".join([l for l in label_names]) + \"_答案：\"\n",
    "train_df['input'] = \"这是哪种类别的专利？_\" + train_df['text'].str.replace('<i>|</i>|\"', '', regex=True) + '_选项：' + \",\".join([l for l in label_names]) + \"_答案：\"\n",
    "train_df['target'] = train_df['label_id']\n",
    "train_df[['input', 'target']].to_csv(\"train_prompt.tsv\", encoding='utf8', sep='\\t', index=None)\n",
    "train_df[['input', 'target']]"
   ],
   "metadata": {
    "collapsed": false
   }
  },
  {
   "cell_type": "code",
   "execution_count": 4,
   "outputs": [
    {
     "data": {
      "text/plain": "                                                   input    target\n0      这是哪种类别的专利？_一种信号的发送方法及基站、用户设备_一种信号的发送方法及基站、用户设备...  通信/信号/天线\n13547  这是哪种类别的专利？_一种用于配置无线路由设备的方法与设备。_本申请的目的是提供一种用于配置...  通信/信号/天线\n18183  这是哪种类别的专利？_用于上行链路多用户传输的ACK/NACK信号处理方法及装置。_本文件涉...  通信/信号/天线\n13557  这是哪种类别的专利？_一种便于安装和使用的路由器。_本实用新型公开了一种便于安装和使用的路由...  通信/信号/天线\n18180  这是哪种类别的专利？_一种哈希冲突的处理方法、装置及交换设备。_本发明提供了一种MAC地址哈...  通信/信号/天线\n...                                                  ...       ...\n14814  这是哪种类别的专利？_广告推广处理方法及装置。_本发明实施例提供的一种广告推广处理方法及装置...  数据/广告/信息\n11853  这是哪种类别的专利？_媒体文件的处理方法、装置和广告分析方法。_本发明公开了一种媒体文件的处...  数据/广告/信息\n18011  这是哪种类别的专利？_一种在影院推送广告的方法。_本发明是关于一种在影院推送广告的方法。该方...  数据/广告/信息\n958    这是哪种类别的专利？_基于大数据的广告推送系统_本发明公开了一种基于大数据的广告推送系统，包...  数据/广告/信息\n9794   这是哪种类别的专利？_互联网广告创意自动生成方法及装置。_本发明公开了互联网广告创意自动生成...  数据/广告/信息\n\n[22888 rows x 2 columns]",
      "text/html": "<div>\n<style scoped>\n    .dataframe tbody tr th:only-of-type {\n        vertical-align: middle;\n    }\n\n    .dataframe tbody tr th {\n        vertical-align: top;\n    }\n\n    .dataframe thead th {\n        text-align: right;\n    }\n</style>\n<table border=\"1\" class=\"dataframe\">\n  <thead>\n    <tr style=\"text-align: right;\">\n      <th></th>\n      <th>input</th>\n      <th>target</th>\n    </tr>\n  </thead>\n  <tbody>\n    <tr>\n      <th>0</th>\n      <td>这是哪种类别的专利？_一种信号的发送方法及基站、用户设备_一种信号的发送方法及基站、用户设备...</td>\n      <td>通信/信号/天线</td>\n    </tr>\n    <tr>\n      <th>13547</th>\n      <td>这是哪种类别的专利？_一种用于配置无线路由设备的方法与设备。_本申请的目的是提供一种用于配置...</td>\n      <td>通信/信号/天线</td>\n    </tr>\n    <tr>\n      <th>18183</th>\n      <td>这是哪种类别的专利？_用于上行链路多用户传输的ACK/NACK信号处理方法及装置。_本文件涉...</td>\n      <td>通信/信号/天线</td>\n    </tr>\n    <tr>\n      <th>13557</th>\n      <td>这是哪种类别的专利？_一种便于安装和使用的路由器。_本实用新型公开了一种便于安装和使用的路由...</td>\n      <td>通信/信号/天线</td>\n    </tr>\n    <tr>\n      <th>18180</th>\n      <td>这是哪种类别的专利？_一种哈希冲突的处理方法、装置及交换设备。_本发明提供了一种MAC地址哈...</td>\n      <td>通信/信号/天线</td>\n    </tr>\n    <tr>\n      <th>...</th>\n      <td>...</td>\n      <td>...</td>\n    </tr>\n    <tr>\n      <th>14814</th>\n      <td>这是哪种类别的专利？_广告推广处理方法及装置。_本发明实施例提供的一种广告推广处理方法及装置...</td>\n      <td>数据/广告/信息</td>\n    </tr>\n    <tr>\n      <th>11853</th>\n      <td>这是哪种类别的专利？_媒体文件的处理方法、装置和广告分析方法。_本发明公开了一种媒体文件的处...</td>\n      <td>数据/广告/信息</td>\n    </tr>\n    <tr>\n      <th>18011</th>\n      <td>这是哪种类别的专利？_一种在影院推送广告的方法。_本发明是关于一种在影院推送广告的方法。该方...</td>\n      <td>数据/广告/信息</td>\n    </tr>\n    <tr>\n      <th>958</th>\n      <td>这是哪种类别的专利？_基于大数据的广告推送系统_本发明公开了一种基于大数据的广告推送系统，包...</td>\n      <td>数据/广告/信息</td>\n    </tr>\n    <tr>\n      <th>9794</th>\n      <td>这是哪种类别的专利？_互联网广告创意自动生成方法及装置。_本发明公开了互联网广告创意自动生成...</td>\n      <td>数据/广告/信息</td>\n    </tr>\n  </tbody>\n</table>\n<p>22888 rows × 2 columns</p>\n</div>"
     },
     "execution_count": 4,
     "metadata": {},
     "output_type": "execute_result"
    }
   ],
   "source": [
    "testA_df = pd.read_json('../testA.json', encoding='utf8', lines=True)\n",
    "testA_df['input'] = \"这是哪种类别的专利？_\" + testA_df['title'].str.replace('<i>|</i>|\"', '', regex=True) + \"。_\" + testA_df['abstract'].str.replace('<i>|</i>|\"', '', regex=True) + '_选项：' + \",\".join([l for l in label_names]) + \"_答案：\"\n",
    "testA_df['target'] = pd.read_csv('../../results/62/4/submit (6452_bactrans_oversampling24_1_5epochs_rdrop result_0 manually 6452).csv', encoding='utf8')['label']\n",
    "testA_df[['input']].to_csv(\"testA_prompt.tsv\", encoding='utf8', sep='\\t', index=None)\n",
    "testA_df[['input', 'target']].to_csv(\"testA_prompt_target.tsv\", encoding='utf8', sep='\\t', index=None)\n",
    "train_df = pd.DataFrame(train_df[['input', 'target']])\n",
    "testA_df = pd.DataFrame(testA_df[['input', 'target']])\n",
    "\n",
    "output = pd.concat((train_df, testA_df), axis=0).sort_values('target')\n",
    "output['target'] = output['target'].apply(lambda x: label_names[x])\n",
    "\n",
    "suffix = '_选项：' + \",\".join([l for l in label_names]) + \"_答案：\"\n",
    "output['input'] = output['input'].apply(lambda x: (x[:1024 - len(suffix)] + suffix if len(x) > 1024 else x))\n",
    "output.to_csv('train6452_prompt.tsv', sep='\\t', encoding='utf8', index=None)\n",
    "\n",
    "output.reset_index()"
   ],
   "metadata": {
    "collapsed": false
   }
  },
  {
   "cell_type": "code",
   "execution_count": 5,
   "outputs": [
    {
     "data": {
      "text/plain": "[1024,\n 1024,\n 991,\n 946,\n 910,\n 907,\n 896,\n 889,\n 875,\n 861,\n 861,\n 855,\n 854,\n 844,\n 844,\n 841,\n 833,\n 829,\n 820,\n 818,\n 818,\n 815,\n 808,\n 807,\n 807,\n 804,\n 802,\n 802,\n 796,\n 793,\n 792,\n 788,\n 788,\n 786,\n 785,\n 783,\n 781,\n 780,\n 779,\n 779,\n 776,\n 776,\n 775,\n 774,\n 774,\n 773,\n 771,\n 770,\n 769,\n 768,\n 768,\n 767,\n 767,\n 767,\n 766,\n 766,\n 766,\n 766,\n 765,\n 765,\n 764,\n 763,\n 763,\n 763,\n 762,\n 758,\n 758,\n 757,\n 757,\n 757,\n 756,\n 756,\n 755,\n 755,\n 754,\n 754,\n 754,\n 753,\n 753,\n 751,\n 751,\n 751,\n 751,\n 750,\n 750,\n 748,\n 748,\n 747,\n 747,\n 747,\n 747,\n 747,\n 746,\n 746,\n 746,\n 746,\n 746,\n 746,\n 744,\n 744,\n 743,\n 743,\n 743,\n 742,\n 742,\n 742,\n 741,\n 741,\n 741,\n 741,\n 740,\n 740,\n 740,\n 740,\n 740,\n 740,\n 739,\n 737,\n 737,\n 737,\n 737,\n 737,\n 737,\n 736,\n 736,\n 736,\n 736,\n 735,\n 735,\n 735,\n 734,\n 734,\n 734,\n 734,\n 733,\n 733,\n 732,\n 732,\n 732,\n 732,\n 731,\n 731,\n 731,\n 731,\n 730,\n 730,\n 730,\n 730,\n 730,\n 730,\n 729,\n 729,\n 729,\n 729,\n 728,\n 728,\n 728,\n 728,\n 728,\n 727,\n 727,\n 727,\n 727,\n 727,\n 727,\n 726,\n 726,\n 726,\n 726,\n 726,\n 726,\n 726,\n 726,\n 725,\n 725,\n 725,\n 725,\n 725,\n 724,\n 724,\n 724,\n 724,\n 723,\n 723,\n 723,\n 723,\n 722,\n 722,\n 722,\n 721,\n 721,\n 721,\n 721,\n 721,\n 721,\n 720,\n 720,\n 720,\n 720,\n 720,\n 719,\n 719,\n 719,\n 719,\n 719,\n 718,\n 718,\n 718,\n 718,\n 718,\n 718,\n 718,\n 718,\n 717,\n 717,\n 717,\n 717,\n 717,\n 717,\n 717,\n 717,\n 717,\n 717,\n 716,\n 716,\n 716,\n 716,\n 716,\n 716,\n 716,\n 716,\n 715,\n 715,\n 715,\n 715,\n 715,\n 715,\n 715,\n 715,\n 715,\n 714,\n 714,\n 714,\n 714,\n 714,\n 714,\n 714,\n 714,\n 714,\n 714,\n 714,\n 713,\n 713,\n 712,\n 712,\n 712,\n 712,\n 712,\n 712,\n 712,\n 712,\n 711,\n 711,\n 711,\n 711,\n 711,\n 711,\n 711,\n 711,\n 711,\n 711,\n 711,\n 711,\n 711,\n 711,\n 711,\n 710,\n 710,\n 710,\n 710,\n 710,\n 710,\n 710,\n 710,\n 710,\n 709,\n 709,\n 709,\n 709,\n 709,\n 709,\n 709,\n 709,\n 709,\n 709,\n 709,\n 709,\n 708,\n 708,\n 708,\n 708,\n 708,\n 708,\n 707,\n 707,\n 707,\n 707,\n 707,\n 707,\n 707,\n 707,\n 707,\n 707,\n 707,\n 707,\n 706,\n 706,\n 706,\n 706,\n 706,\n 706,\n 706,\n 706,\n 706,\n 705,\n 705,\n 705,\n 705,\n 705,\n 705,\n 704,\n 704,\n 704,\n 704,\n 704,\n 704,\n 704,\n 704,\n 704,\n 704,\n 704,\n 704,\n 704,\n 703,\n 703,\n 703,\n 703,\n 703,\n 703,\n 703,\n 703,\n 703,\n 703,\n 703,\n 703,\n 703,\n 703,\n 703,\n 703,\n 703,\n 703,\n 702,\n 702,\n 702,\n 702,\n 702,\n 702,\n 702,\n 702,\n 702,\n 702,\n 702,\n 702,\n 702,\n 702,\n 701,\n 701,\n 701,\n 701,\n 701,\n 701,\n 701,\n 700,\n 700,\n 700,\n 700,\n 700,\n 700,\n 700,\n 700,\n 700,\n 699,\n 699,\n 699,\n 699,\n 699,\n 699,\n 699,\n 699,\n 699,\n 699,\n 699,\n 699,\n 699,\n 699,\n 699,\n 699,\n 698,\n 698,\n 698,\n 698,\n 698,\n 698,\n 698,\n 698,\n 698,\n 698,\n 697,\n 697,\n 697,\n 697,\n 697,\n 697,\n 697,\n 697,\n 697,\n 697,\n 697,\n 697,\n 696,\n 696,\n 696,\n 696,\n 696,\n 696,\n 696,\n 696,\n 696,\n 696,\n 696,\n 696,\n 696,\n 696,\n 695,\n 695,\n 695,\n 695,\n 695,\n 695,\n 695,\n 695,\n 695,\n 695,\n 695,\n 695,\n 695,\n 695,\n 695,\n 695,\n 695,\n 695,\n 695,\n 694,\n 694,\n 694,\n 694,\n 694,\n 694,\n 694,\n 694,\n 694,\n 694,\n 694,\n 694,\n 694,\n 694,\n 694,\n 694,\n 694,\n 694,\n 693,\n 693,\n 693,\n 693,\n 693,\n 693,\n 693,\n 693,\n 693,\n 693,\n 693,\n 693,\n 693,\n 693,\n 693,\n 693,\n 693,\n 693,\n 693,\n 693,\n 692,\n 692,\n 692,\n 692,\n 692,\n 692,\n 692,\n 692,\n 692,\n 692,\n 692,\n 692,\n 692,\n 692,\n 692,\n 692,\n 692,\n 692,\n 692,\n 692,\n 692,\n 692,\n 692,\n 691,\n 691,\n 691,\n 691,\n 691,\n 691,\n 691,\n 691,\n 691,\n 691,\n 691,\n 691,\n 691,\n 691,\n 691,\n 691,\n 691,\n 691,\n 691,\n 691,\n 691,\n 691,\n 691,\n 691,\n 691,\n 691,\n 690,\n 690,\n 690,\n 690,\n 690,\n 690,\n 690,\n 690,\n 690,\n 690,\n 690,\n 690,\n 690,\n 690,\n 690,\n 690,\n 690,\n 690,\n 690,\n 690,\n 690,\n 690,\n 690,\n 690,\n 690,\n 690,\n 690,\n 690,\n 690,\n 689,\n 689,\n 689,\n 689,\n 689,\n 689,\n 689,\n 689,\n 689,\n 689,\n 689,\n 689,\n 689,\n 689,\n 689,\n 689,\n 689,\n 689,\n 689,\n 689,\n 689,\n 688,\n 688,\n 688,\n 688,\n 688,\n 688,\n 688,\n 688,\n 688,\n 688,\n 688,\n 688,\n 688,\n 688,\n 688,\n 688,\n 688,\n 688,\n 688,\n 688,\n 688,\n 687,\n 687,\n 687,\n 687,\n 687,\n 687,\n 687,\n 687,\n 687,\n 687,\n 687,\n 687,\n 687,\n 687,\n 687,\n 687,\n 687,\n 687,\n 687,\n 687,\n 687,\n 687,\n 687,\n 687,\n 687,\n 687,\n 687,\n 686,\n 686,\n 686,\n 686,\n 686,\n 686,\n 686,\n 686,\n 686,\n 686,\n 686,\n 686,\n 686,\n 686,\n 686,\n 686,\n 686,\n 686,\n 686,\n 686,\n 686,\n 686,\n 686,\n 686,\n 686,\n 686,\n 686,\n 686,\n 686,\n 686,\n 686,\n 686,\n 686,\n 685,\n 685,\n 685,\n 685,\n 685,\n 685,\n 685,\n 685,\n 685,\n 685,\n 685,\n 685,\n 685,\n 685,\n 685,\n 685,\n 685,\n 685,\n 685,\n 685,\n 685,\n 685,\n 685,\n 685,\n 685,\n 685,\n 685,\n 685,\n 685,\n 685,\n 685,\n 685,\n 684,\n 684,\n 684,\n 684,\n 684,\n 684,\n 684,\n 684,\n 684,\n 684,\n 684,\n 684,\n 684,\n 684,\n 684,\n 684,\n 684,\n 684,\n 684,\n 684,\n 683,\n 683,\n 683,\n 683,\n 683,\n 683,\n 683,\n 683,\n 683,\n 683,\n 683,\n 683,\n 683,\n 683,\n 683,\n 683,\n 683,\n 683,\n 683,\n 683,\n 683,\n 683,\n 683,\n 683,\n 683,\n 683,\n 683,\n 683,\n 683,\n 683,\n 682,\n 682,\n 682,\n 682,\n 682,\n 682,\n 682,\n 682,\n 682,\n 682,\n 682,\n 682,\n 682,\n 682,\n 682,\n 682,\n 682,\n 682,\n 682,\n 682,\n 682,\n 682,\n 681,\n 681,\n 681,\n 681,\n 681,\n 681,\n 681,\n 681,\n 681,\n 681,\n 681,\n 681,\n 681,\n 681,\n 681,\n 681,\n 681,\n 681,\n 681,\n 681,\n 681,\n 681,\n 681,\n 681,\n 681,\n 681,\n 681,\n 681,\n 681,\n 681,\n 681,\n 681,\n 681,\n 680,\n 680,\n 680,\n 680,\n 680,\n 680,\n 680,\n 680,\n 680,\n 680,\n 680,\n 680,\n 680,\n 680,\n 680,\n 680,\n 680,\n 680,\n 680,\n 680,\n 680,\n 680,\n 680,\n 680,\n 680,\n 680,\n 680,\n 680,\n 680,\n 680,\n 680,\n 680,\n 680,\n 679,\n 679,\n 679,\n 679,\n 679,\n 679,\n 679,\n 679,\n 679,\n 679,\n 679,\n 679,\n 679,\n 679,\n 679,\n 679,\n 679,\n 679,\n 679,\n 679,\n 679,\n 679,\n 679,\n 679,\n 679,\n 679,\n 679,\n 679,\n 679,\n 679,\n 679,\n 679,\n 679,\n 678,\n 678,\n 678,\n 678,\n 678,\n 678,\n 678,\n 678,\n 678,\n 678,\n 678,\n 678,\n 678,\n 678,\n 678,\n 678,\n 678,\n 678,\n 678,\n 678,\n 678,\n 678,\n 678,\n 678,\n 678,\n 678,\n 678,\n 678,\n 678,\n 678,\n 678,\n 678,\n 678,\n 678,\n 678,\n 678,\n 678,\n 678,\n 678,\n 678,\n 678,\n 678,\n 677,\n 677,\n 677,\n 677,\n 677,\n 677,\n 677,\n 677,\n 677,\n 677,\n 677,\n 677,\n 677,\n 677,\n 677,\n 677,\n 677,\n 677,\n 677,\n 677,\n 677,\n 677,\n 677,\n 677,\n 677,\n 677,\n 677,\n 677,\n 677,\n 677,\n 677,\n 677,\n 677,\n 677,\n 676,\n 676,\n 676,\n 676,\n 676,\n 676,\n 676,\n 676,\n 676,\n 676,\n 676,\n 676,\n 676,\n 676,\n 676,\n 676,\n 676,\n 676,\n 676,\n 676,\n 676,\n 676,\n 676,\n 676,\n 676,\n 676,\n 676,\n 676,\n 676,\n 676,\n 676,\n 676,\n 676,\n 676,\n 676,\n 676,\n 676,\n 676,\n 676,\n 676,\n 676,\n ...]"
     },
     "execution_count": 5,
     "metadata": {},
     "output_type": "execute_result"
    }
   ],
   "source": [
    "input_list = np.asarray(output['input']).tolist()\n",
    "l = [len(i) for i in input_list]\n",
    "l.sort(reverse=True)\n",
    "l"
   ],
   "metadata": {
    "collapsed": false
   }
  },
  {
   "cell_type": "code",
   "execution_count": 2,
   "outputs": [],
   "source": [
    "label_list = [\n",
    "    \"通信/信号/天线\",\n",
    "    \"农业/基因/养殖\",\n",
    "    \"服装/基建/机械\",\n",
    "    \"存储/数据/信息\",\n",
    "    \"精算/终端/交通\",\n",
    "    \"材料/化学/生物\",\n",
    "    \"智能/科技/算法\",\n",
    "    \"监测/杀菌/环保\",\n",
    "    \"医疗/疾病/细胞\",\n",
    "    \"图像/视频/画面\",\n",
    "    \"光电/电子/元件\",\n",
    "    \"焊接/机械/制造\",\n",
    "    \"传感/显示/三维\",\n",
    "    \"冶炼/化合/制备\",\n",
    "    \"石油/降解/回收\",\n",
    "    \"电力/设备/电缆\",\n",
    "    \"光伏/发电/配件\",\n",
    "    \"电池/驱动/工装\",\n",
    "    \"无机/制备/涂层\",\n",
    "    \"风电/监测/控制\",\n",
    "    \"药物/合成/生物\",\n",
    "    \"复合/纳米/超导\",\n",
    "    \"建筑/测定/试验\",\n",
    "    \"钢材/腐蚀/生产\",\n",
    "    \"车辆/轨道/列车\",\n",
    "    \"聚合/纤维/材料\",\n",
    "    \"导航/接收/航天\",\n",
    "    \"矿产/水利/岩土\",\n",
    "    \"烧结/锅炉/洗砂\",\n",
    "    \"能源/充电/调度\",\n",
    "    \"食品/水产/加工\",\n",
    "    \"技术/装置/系统\",\n",
    "    \"设备/方法/装置\",\n",
    "    \"海洋/开采/机械\",\n",
    "    \"航空/航天/控制\",\n",
    "    \"数据/广告/信息\"\n",
    "]"
   ],
   "metadata": {
    "collapsed": false
   }
  },
  {
   "cell_type": "code",
   "execution_count": 21,
   "outputs": [],
   "source": [
    "import pandas as pd\n",
    "\n",
    "testA_df = pd.read_json('../testA.json', encoding='utf8', lines=True)\n",
    "testA_labels_df = pd.read_csv('../../results/prompt/4/predictions.csv', encoding='utf8', sep='\\t', header=0, names=['label_names'])\n",
    "# testA_labels_df[testA_labels_df['label_names'] == '汽车&轨道&列车'] = '车辆&轨道&列车'\n",
    "# testA_labels_df[testA_labels_df['label_names'] == '建筑材料&化合&制备'] = '冶炼&化合&制备'\n",
    "# testA_labels_df[testA_labels_df['label_names'] == '测绘&杀菌&环保'] = '监测&杀菌&环保'\n",
    "# testA_labels_df[testA_labels_df['label_names'] == '测绘&终端&交通'] = '精算&终端&交通'\n",
    "# testA_labels_df[testA_labels_df['label_names'] == '建筑材料&纤维&材料'] = '聚合&纤维&材料'\n",
    "# testA_labels_df[testA_labels_df['label_names'] == '船舶&轨道&列车'] = '车辆&轨道&列车'\n",
    "# testA_labels_df[testA_labels_df['label_names'] == '有机硅改性脂环族环氧丙烯酸酯8～25%;超支化预聚物4%～30%;丙烯酸酯活性稀释剂4～20%;脂环族环氧活性稀释剂50～80%;自由基光引发剂0.5～8%;大分子硫盐阳离子光引发剂Esacure11871～8%;光固化流平剂0.3～3%;阻聚剂OmnistabIC0.05%～1%;大分子活性抗氧剂ChinoxGM0.5%～5%'] = '无机&制备&涂层'\n",
    "testA_labels_df[testA_labels_df['label_names'] == '电子/元件'] = '光电/电子/元件'\n",
    "testA_labels_df[testA_labels_df['label_names'] == '信号/天线'] = '通信/信号/天线'\n",
    "testA_labels_df[testA_labels_df['label_names'] == '风电/监测/杀菌/环保'] = '风电/监测/控制'\n",
    "testA_labels_df[testA_labels_df['label_names'] == '铸坯加热'] = '钢材/腐蚀/生产'\n",
    "testA_labels_df[testA_labels_df['label_names'] == '铸坯'] = '钢材/腐蚀/生产'\n",
    "testA_labels_df[testA_labels_df['label_names'] == '化学/生物'] = '材料/化学/生物'\n",
    "testA_labels_df[testA_labels_df['label_names'] == '科技/算法'] = '智能/科技/算法'\n",
    "testA_labels_df[testA_labels_df['label_names'] == '铸钢'] = '钢材/腐蚀/生产'\n",
    "testA_labels_df[testA_labels_df['label_names'] == '机械/制造'] = '焊接/机械/制造'\n",
    "testA_labels_df[testA_labels_df['label_names'] == '画面'] = '图像/视频/画面'\n",
    "testA_labels_df[testA_labels_df['label_names'] == '生物'] = '材料/化学/生物'\n",
    "testA_labels_df[testA_labels_df['label_names'] == '钛合金'] = '冶炼/化合/制备'\n",
    "testA_labels_df[testA_labels_df['label_names'] == '电缆'] = '电力/设备/电缆'\n",
    "testA_labels_df[testA_labels_df['label_names'] == '交通'] = '精算/终端/交通'\n",
    "testA_labels_df[testA_labels_df['label_names'] == '机械'] = '焊接/机械/制造'\n",
    "testA_labels_df[testA_labels_df['label_names'] == '天线'] = '通信/信号/天线'\n",
    "testA_labels_df[testA_labels_df['label_names'] == '发电/配件'] = '光伏/发电/配件'\n",
    "testA_labels_df[testA_labels_df['label_names'] == '土壤/处理池'] = '矿产/水利/岩土'\n",
    "testA_labels_df[testA_labels_df['label_names'] == '工装'] = '服装/基建/机械'\n",
    "testA_labels_df[testA_labels_df['label_names'] == '马/腐蚀/生产'] = '钢材/腐蚀/生产'\n",
    "testA_labels_df[testA_labels_df['label_names'] == '铝合金/轮毂'] = '冶炼/化合/制备'\n",
    "testA_labels_df[testA_labels_df['label_names'] == '环保'] = '监测/杀菌/环保'\n",
    "testA_labels_df[testA_labels_df['label_names'] == '疾病/细胞'] = '医疗/疾病/细胞'\n",
    "testA_labels_df[testA_labels_df['label_names'] == '水利/岩土'] = '矿产/水利/岩土'\n",
    "testA_labels_df[testA_labels_df['label_names'] == '列车'] = '车辆/轨道/列车'\n",
    "testA_labels_df[testA_labels_df['label_names'] == '轨道/列车'] = '车辆/轨道/列车'\n",
    "testA_labels_df[testA_labels_df['label_names'] == '马氏体'] = '钢材/腐蚀/生产'\n",
    "testA_labels_df[testA_labels_df['label_names'] == '算法'] = '智能/科技/算法'\n",
    "testA_labels_df[testA_labels_df['label_names'] == '冶炼/化学/生物'] = '冶炼/化合/制备'\n",
    "testA_labels_df[testA_labels_df['label_names'] == '马氏体钢'] = '钢材/腐蚀/生产'\n",
    "testA_labels_df[testA_labels_df['label_names'] == '马氏体/金属材料'] = '钢材/腐蚀/生产'\n",
    "testA_labels_df[testA_labels_df['label_names'] == '钛铝合金材料'] = '冶炼/化合/制备'\n",
    "testA_labels_df[testA_labels_df['label_names'] == '铝合金/腐蚀/生产'] = '钢材/腐蚀/生产'\n",
    "testA_labels_df[testA_labels_df['label_names'] == '铝合金/化学/生物'] = '材料/化学/生物'\n",
    "testA_labels_df[testA_labels_df['label_names'] == '马氏体/元件'] = '光电/电子/元件'\n",
    "testA_labels_df[testA_labels_df['label_names'] == '基因/养殖'] = '农业/基因/养殖'\n",
    "testA_labels_df['label'] = testA_labels_df['label_names'].apply(lambda x: label_list.index(x))\n",
    "testA_labels_df['id'] = testA_df['id']\n",
    "\n",
    "testA_labels_df[['id', 'label']].to_csv('../../results/prompt/4/submit (train6452_14epochs_promptclue).csv', encoding='utf8', sep=',', index=None)"
   ],
   "metadata": {
    "collapsed": false
   }
  },
  {
   "cell_type": "code",
   "execution_count": null,
   "outputs": [],
   "source": [],
   "metadata": {
    "collapsed": false
   }
  }
 ],
 "metadata": {
  "kernelspec": {
   "display_name": "Python 3",
   "language": "python",
   "name": "python3"
  },
  "language_info": {
   "codemirror_mode": {
    "name": "ipython",
    "version": 2
   },
   "file_extension": ".py",
   "mimetype": "text/x-python",
   "name": "python",
   "nbconvert_exporter": "python",
   "pygments_lexer": "ipython2",
   "version": "2.7.6"
  }
 },
 "nbformat": 4,
 "nbformat_minor": 0
}
