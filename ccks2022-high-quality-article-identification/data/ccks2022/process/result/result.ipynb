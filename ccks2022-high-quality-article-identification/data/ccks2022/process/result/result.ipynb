{
 "cells": [
  {
   "cell_type": "code",
   "execution_count": 1,
   "outputs": [],
   "source": [
    "import pandas as pd\n",
    "import numpy as np\n",
    "import matplotlib.pyplot as plt"
   ],
   "metadata": {
    "collapsed": false,
    "pycharm": {
     "name": "#%%\n"
    }
   }
  },
  {
   "cell_type": "code",
   "execution_count": 6,
   "outputs": [
    {
     "data": {
      "text/plain": "1106"
     },
     "execution_count": 6,
     "metadata": {},
     "output_type": "execute_result"
    }
   ],
   "source": [
    "res1 = np.asarray(pd.read_csv('f1_0.805/test_results.txt', encoding='utf8', sep='\\t').iloc[:, 0:1]).transpose().tolist()[0]\n",
    "res2 = np.asarray(pd.read_csv('gru_attention/test_results.txt', encoding='utf8', sep='\\t').iloc[:, 0:1]).transpose().tolist()[0]\n",
    "res3 = np.asarray(pd.read_csv('attention_gru/test_results.txt', encoding='utf8', sep='\\t').iloc[:, 0:1]).transpose().tolist()[0]\n",
    "result_836 = np.asarray(pd.read_json('result_0.836.txt', encoding='utf8', lines=True).iloc[:, 1:]).transpose().tolist()[0]\n",
    "result_pretrained = np.asarray(pd.read_csv('pretrained_epoch7/test_results.txt', encoding='utf8', sep='\\t').iloc[:, 0:1]).transpose().tolist()[0]\n",
    "result_8_2 = np.asarray(pd.read_csv('8_2/test_results.txt', encoding='utf8', sep='\\t').iloc[:, 0:1]).transpose().tolist()[0]\n",
    "result_fold0 = np.asarray(pd.read_csv('5folds_epoch6/test_results_0.txt', encoding='utf8', sep='\\t').iloc[:, 0:1]).transpose().tolist()[0]\n",
    "result_fold1 = np.asarray(pd.read_csv('5folds_epoch6/test_results_1.txt', encoding='utf8', sep='\\t').iloc[:, 0:1]).transpose().tolist()[0]\n",
    "result_fold2 = np.asarray(pd.read_csv('5folds_epoch6/test_results_2.txt', encoding='utf8', sep='\\t').iloc[:, 0:1]).transpose().tolist()[0]\n",
    "result_fold3 = np.asarray(pd.read_csv('5folds_epoch6/test_results_3.txt', encoding='utf8', sep='\\t').iloc[:, 0:1]).transpose().tolist()[0]\n",
    "result_vote_1 = np.asarray(pd.read_csv('votes/vote_with836.csv', encoding='utf8', sep='\\t').iloc[:, 0:1]).transpose().tolist()[0]\n",
    "result_vote_2 = np.asarray(pd.read_csv('votes/vote_with805.csv', encoding='utf8', sep='\\t').iloc[:, 0:1]).transpose().tolist()[0]\n",
    "result_cn_base = np.asarray(pd.read_csv('cn_base_epoch7/test_results.txt', encoding='utf8', sep='\\t').iloc[:, 0:1]).transpose().tolist()[0]\n",
    "result_vote_7 = np.asarray(pd.read_csv('votes/vote_7.csv', encoding='utf8', sep='\\t').iloc[:, 0:1]).transpose().tolist()[0]\n",
    "\n",
    "len(result_836)"
   ],
   "metadata": {
    "collapsed": false,
    "pycharm": {
     "name": "#%%\n"
    }
   }
  },
  {
   "cell_type": "code",
   "execution_count": 7,
   "outputs": [
    {
     "data": {
      "text/plain": "(348, 367, 369, 429, 366, 460, 374, 372, 369, 362)"
     },
     "execution_count": 7,
     "metadata": {},
     "output_type": "execute_result"
    }
   ],
   "source": [
    "sum(res1), sum(res2), sum(res3), sum(result_836), sum(result_pretrained), sum(result_8_2), sum(result_vote_1), sum(result_vote_2), sum(result_cn_base), sum(result_vote_7)"
   ],
   "metadata": {
    "collapsed": false,
    "pycharm": {
     "name": "#%%\n"
    }
   }
  },
  {
   "cell_type": "code",
   "execution_count": 8,
   "outputs": [
    {
     "data": {
      "text/plain": "(295, 385, 347, 282)"
     },
     "execution_count": 8,
     "metadata": {},
     "output_type": "execute_result"
    }
   ],
   "source": [
    "sum(result_fold0), sum(result_fold1), sum(result_fold2), sum(result_fold3)"
   ],
   "metadata": {
    "collapsed": false,
    "pycharm": {
     "name": "#%%\n"
    }
   }
  },
  {
   "cell_type": "code",
   "execution_count": 9,
   "outputs": [
    {
     "data": {
      "text/plain": "(93, 65, 71)"
     },
     "execution_count": 9,
     "metadata": {},
     "output_type": "execute_result"
    }
   ],
   "source": [
    "cnt1, cnt2, cnt3 = 0, 0, 0\n",
    "\n",
    "for i in range(len(res1)):\n",
    "    if result_vote_7[i] != result_836[i]:\n",
    "        cnt1 += 1\n",
    "    if result_fold1[i] != result_vote_7[i]:\n",
    "        cnt2 += 1\n",
    "    if result_vote_1[i] != result_836[i]:\n",
    "        cnt3 += 1\n",
    "\n",
    "cnt1, cnt2, cnt3"
   ],
   "metadata": {
    "collapsed": false,
    "pycharm": {
     "name": "#%%\n"
    }
   }
  },
  {
   "cell_type": "code",
   "execution_count": 53,
   "outputs": [
    {
     "data": {
      "text/plain": "(75, 91, 84, 119, 116, 110, 74, 65, 83, 109, 230, 201, 223, 199, 214)"
     },
     "execution_count": 53,
     "metadata": {},
     "output_type": "execute_result"
    }
   ],
   "source": [
    "cnt1, cnt2, cnt3 = 0, 0, 0\n",
    "cnt4, cnt5, cnt6 = 0, 0, 0\n",
    "cnt7, cnt8, cnt9, cnt10 = 0, 0, 0, 0\n",
    "cnt11, cnt12, cnt13, cnt14, cnt15 = 0, 0, 0, 0, 0\n",
    "\n",
    "for i in range(len(res1)):\n",
    "    if res1[i] != res2[i]:\n",
    "        cnt1 += 1\n",
    "    if res1[i] != res3[i]:\n",
    "        cnt2 += 1\n",
    "    if res2[i] != res3[i]:\n",
    "        cnt3 += 1\n",
    "    if result_836[i] != res1[i]:\n",
    "        cnt4 += 1\n",
    "    if result_836[i] != res2[i]:\n",
    "        cnt5 += 1\n",
    "    if result_836[i] != res3[i]:\n",
    "        cnt6 += 1\n",
    "    if result_pretrained[i] != res1[i]:\n",
    "        cnt7 += 1\n",
    "    if result_pretrained[i] != res2[i]:\n",
    "        cnt8 += 1\n",
    "    if result_pretrained[i] != res3[i]:\n",
    "        cnt9 += 1\n",
    "    if result_pretrained[i] != result_836[i]:\n",
    "        cnt10 += 1\n",
    "    if result_8_2[i] != res1[i]:\n",
    "        cnt11 += 1\n",
    "    if result_8_2[i] != res2[i]:\n",
    "        cnt12 += 1\n",
    "    if result_8_2[i] != res3[i]:\n",
    "        cnt13 += 1\n",
    "    if result_8_2[i] != result_836[i]:\n",
    "        cnt14 += 1\n",
    "    if result_8_2[i] != result_pretrained[i]:\n",
    "        cnt15 += 1\n",
    "cnt1, cnt2, cnt3, cnt4, cnt5, cnt6, cnt7, cnt8, cnt9, cnt10, cnt11, cnt12, cnt13, cnt14, cnt15"
   ],
   "metadata": {
    "collapsed": false,
    "pycharm": {
     "name": "#%%\n"
    }
   }
  },
  {
   "cell_type": "code",
   "execution_count": 54,
   "outputs": [
    {
     "data": {
      "text/plain": "((100, 19), (89, 27), (85, 25), (86, 23))"
     },
     "execution_count": 54,
     "metadata": {},
     "output_type": "execute_result"
    }
   ],
   "source": [
    "cnt_res1_0, cnt_res1_1, cnt_res2_0, cnt_res2_1 = 0, 0, 0, 0\n",
    "cnt_res3_0, cnt_res3_1, cnt_pretrained_0, cnt_pretrained_1 = 0, 0, 0, 0\n",
    "\n",
    "for i in range(len(res1)):\n",
    "    if res1[i] == 0 and result_836[i] == 1:\n",
    "        cnt_res1_0 += 1\n",
    "    if res1[i] == 1 and result_836[i] == 0:\n",
    "        cnt_res1_1 += 1\n",
    "    if res2[i] == 0 and result_836[i] == 1:\n",
    "        cnt_res2_0 += 1\n",
    "    if res2[i] == 1 and result_836[i] == 0:\n",
    "        cnt_res2_1 += 1\n",
    "    if res3[i] == 0 and result_836[i] == 1:\n",
    "        cnt_res3_0 += 1\n",
    "    if res3[i] == 1 and result_836[i] == 0:\n",
    "        cnt_res3_1 += 1\n",
    "    if result_pretrained[i] == 0 and result_836[i] == 1:\n",
    "        cnt_pretrained_0 += 1\n",
    "    if result_pretrained[i] == 1 and result_836[i] == 0:\n",
    "        cnt_pretrained_1 += 1\n",
    "\n",
    "\n",
    "(cnt_res1_0, cnt_res1_1), (cnt_res2_0, cnt_res2_1), (cnt_res3_0, cnt_res3_1), (cnt_pretrained_0, cnt_pretrained_1),"
   ],
   "metadata": {
    "collapsed": false,
    "pycharm": {
     "name": "#%%\n"
    }
   }
  },
  {
   "cell_type": "code",
   "execution_count": 55,
   "outputs": [
    {
     "data": {
      "text/plain": "((66, 22), (90, 8))"
     },
     "execution_count": 55,
     "metadata": {},
     "output_type": "execute_result"
    }
   ],
   "source": [
    "cnt_fold1_0, cnt_fold1_1, cnt_fold2_0, cnt_fold2_1 = 0, 0, 0, 0\n",
    "\n",
    "for i in range(len(result_836)):\n",
    "    if result_fold1[i] == 0 and result_836[i] == 1:\n",
    "        cnt_fold1_0 += 1\n",
    "    if result_fold1[i] == 1 and result_836[i] == 0:\n",
    "        cnt_fold1_1 += 1\n",
    "    if result_fold2[i] == 0 and result_836[i] == 1:\n",
    "        cnt_fold2_0 += 1\n",
    "    if result_fold2[i] == 1 and result_836[i] == 0:\n",
    "        cnt_fold2_1 += 1\n",
    "(cnt_fold1_0, cnt_fold1_1), (cnt_fold2_0, cnt_fold2_1)"
   ],
   "metadata": {
    "collapsed": false,
    "pycharm": {
     "name": "#%%\n"
    }
   }
  },
  {
   "cell_type": "code",
   "execution_count": 56,
   "outputs": [
    {
     "data": {
      "text/plain": "((63, 8), (73, 16))"
     },
     "execution_count": 56,
     "metadata": {},
     "output_type": "execute_result"
    }
   ],
   "source": [
    "cnt_vote1_0, cnt_vote1_1 = 0, 0\n",
    "cnt_vote2_0, cnt_vote2_1 = 0, 0\n",
    "\n",
    "for i in range(len(result_836)):\n",
    "    if result_vote_1[i] == 0 and result_836[i] == 1:\n",
    "        cnt_vote1_0 += 1\n",
    "    if result_vote_1[i] == 1 and result_836[i] == 0:\n",
    "        cnt_vote1_1 += 1\n",
    "    if result_vote_2[i] == 0 and result_836[i] == 1:\n",
    "        cnt_vote2_0 += 1\n",
    "    if result_vote_2[i] == 1 and result_836[i] == 0:\n",
    "        cnt_vote2_1 += 1\n",
    "(cnt_vote1_0, cnt_vote1_1), (cnt_vote2_0, cnt_vote2_1)"
   ],
   "metadata": {
    "collapsed": false,
    "pycharm": {
     "name": "#%%\n"
    }
   }
  },
  {
   "cell_type": "code",
   "execution_count": 7,
   "outputs": [
    {
     "data": {
      "text/plain": "((56, 35), (43, 41), (43, 40))"
     },
     "execution_count": 7,
     "metadata": {},
     "output_type": "execute_result"
    }
   ],
   "source": [
    "# res1: 0.805\n",
    "# res2: gru->attention, epoch6\n",
    "# res3: attention->gru, epoch6\n",
    "\n",
    "cnt_res1_0, cnt_res1_1, cnt_res2_0, cnt_res2_1 = 0, 0, 0, 0\n",
    "cnt_pretrained_0, cnt_pretrained_1 = 0, 0\n",
    "\n",
    "for i in range(len(res1)):\n",
    "    if res1[i] == 0 and res3[i] == 1:\n",
    "        cnt_res1_0 += 1\n",
    "    if res1[i] == 1 and res3[i] == 0:\n",
    "        cnt_res1_1 += 1\n",
    "    if res2[i] == 0 and res3[i] == 1:\n",
    "        cnt_res2_0 += 1\n",
    "    if res2[i] == 1 and res3[i] == 0:\n",
    "        cnt_res2_1 += 1\n",
    "    if result_pretrained[i] == 0 and res3[i] == 1:\n",
    "        cnt_pretrained_0 += 1\n",
    "    if result_pretrained[i] == 1 and res3[i] == 0:\n",
    "        cnt_pretrained_1 += 1\n",
    "\n",
    "(cnt_res1_0, cnt_res1_1), (cnt_res2_0, cnt_res2_1), (cnt_pretrained_0, cnt_pretrained_1)"
   ],
   "metadata": {
    "collapsed": false,
    "pycharm": {
     "name": "#%%\n"
    }
   }
  },
  {
   "cell_type": "code",
   "execution_count": null,
   "outputs": [],
   "source": [],
   "metadata": {
    "collapsed": false,
    "pycharm": {
     "name": "#%%\n"
    }
   }
  }
 ],
 "metadata": {
  "kernelspec": {
   "display_name": "Python 3",
   "language": "python",
   "name": "python3"
  },
  "language_info": {
   "codemirror_mode": {
    "name": "ipython",
    "version": 2
   },
   "file_extension": ".py",
   "mimetype": "text/x-python",
   "name": "python",
   "nbconvert_exporter": "python",
   "pygments_lexer": "ipython2",
   "version": "2.7.6"
  }
 },
 "nbformat": 4,
 "nbformat_minor": 0
}