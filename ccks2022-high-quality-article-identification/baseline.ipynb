{
 "cells": [
  {
   "cell_type": "markdown",
   "id": "9f250046-64f3-4bd8-89a0-022f154cacb9",
   "metadata": {},
   "source": [
    "# CCKS2022基于知识图谱的优质文章识别"
   ]
  },
  {
   "cell_type": "code",
   "execution_count": null,
   "id": "9726d8a9",
   "metadata": {
    "vscode": {
     "languageId": "python"
    }
   },
   "outputs": [],
   "source": [
    "%pip install -r requirements.txt"
   ]
  },
  {
   "cell_type": "markdown",
   "id": "2705ad08",
   "metadata": {},
   "source": [
    "## 零、数据预处理"
   ]
  },
  {
   "cell_type": "code",
   "execution_count": null,
   "id": "29fe4781",
   "metadata": {
    "vscode": {
     "languageId": "python"
    }
   },
   "outputs": [],
   "source": [
    "import pandas as pd\n",
    "import numpy as np\n",
    "\n",
    "train_df = pd.read_json('data/ccks2022/train.json', encoding='utf8', lines=True)\n",
    "test_df = pd.read_json('data/ccks2022/test.unlabel.json', encoding='utf8', lines=True)\n",
    "\n",
    "#----------------特征工程----------------\n",
    "#将Topic(Label)编码\n",
    "train_df['label'], lbl = pd.factorize(train_df['label'])\n",
    "\n",
    "#将论文的标题与摘要组合为 text 特征\n",
    "train_df['title'] = train_df['title'].apply(lambda x: x.strip())\n",
    "train_df['content'] = train_df['content'].fillna('').apply(lambda x: x.strip())\n",
    "train_df['text'] = train_df['title'] + '[SEP]' + train_df['content']\n",
    "train_df['text'] = train_df['text'].str.lower()\n",
    "\n",
    "test_df['title'] = test_df['title'].apply(lambda x: x.strip())\n",
    "test_df['content'] = test_df['content'].fillna('').apply(lambda x: x.strip())\n",
    "test_df['text'] = test_df['title'].str.lower() + '[SEP]' + test_df['content'].str.lower()\n",
    "\n",
    "for i in range(train_df.shape[0]):\n",
    "    train_df['text'].iloc[i] = train_df['text'].iloc[i].replace('  ', '').replace('\\n', ' ').replace('<br/>', ' ').replace(\"《\", \" \").replace(\"》\", \" \").replace(\"？\", \" \").replace(\"【\", \"\").replace(\"】\", \"\")\n",
    "\n",
    "for i in range(test_df.shape[0]):\n",
    "    test_df['text'].iloc[i] = test_df['text'].iloc[i].replace('  ', '').replace('\\n', ' ').replace('<br/>', ' ').replace(\"《\", \" \").replace(\"》\", \" \").replace(\"？\", \" \").replace(\"【\", \"\").replace(\"】\", \"\")"
   ]
  },
  {
   "cell_type": "code",
   "execution_count": null,
   "id": "b941574d",
   "metadata": {
    "vscode": {
     "languageId": "python"
    }
   },
   "outputs": [],
   "source": [
    "train_out = pd.concat([train_df.drop(['url', 'title', 'pub_time', 'content', 'entities'], axis=1), train_df.iloc[:, -3:-2]], axis=1)\n",
    "train_out.to_csv('data/ccks2022/train.tsv', encoding='utf8', sep='\\t', index=None)\n",
    "test_out = pd.concat([test_df.drop(['url', 'title', 'pub_time', 'content', 'entities'], axis=1), test_df.iloc[:, -2:-1]], axis=1)\n",
    "test_out.to_csv('data/ccks2022/test.tsv', encoding='utf8', sep='\\t', index=None)\n",
    "train_out"
   ]
  },
  {
   "cell_type": "code",
   "execution_count": null,
   "id": "a2b9c3f2",
   "metadata": {
    "vscode": {
     "languageId": "python"
    }
   },
   "outputs": [],
   "source": [
    "# 加入实体\n",
    "import json\n",
    "\n",
    "train_entities = []\n",
    "\n",
    "for i in range(train_df['entities'].shape[0]):\n",
    "    entities = \"\"\n",
    "    for key, value in train_df['entities'][i].items():\n",
    "        if len(entities) >= 256:\n",
    "            continue\n",
    "        entities += \"[SEP]\" + key\n",
    "    train_entities.append(entities)\n",
    "\n",
    "train = train_out.drop(['entities'], axis=1)\n",
    "\n",
    "for i in range(train.shape[0]):\n",
    "    train['text'].iloc[i] = train['text'].iloc[i][:256] + train_entities[i]\n",
    "\n",
    "train.to_csv('data/ccks2022/train.tsv', encoding='utf8', sep='\\t', index=None)\n",
    "train"
   ]
  },
  {
   "cell_type": "code",
   "execution_count": null,
   "id": "9972e49b",
   "metadata": {
    "vscode": {
     "languageId": "python"
    }
   },
   "outputs": [],
   "source": [
    "test_entities = []\n",
    "test_entity_nums = []\n",
    "\n",
    "for i in range(test_df['entities'].shape[0]):\n",
    "    cnt = 0\n",
    "    entities = \"\"\n",
    "    for key, value in test_df['entities'][i].items():\n",
    "        cnt += 1\n",
    "        if len(entities + \"[SEP]\" + key) >= 256:\n",
    "            continue\n",
    "        entities += \"[SEP]\" + key\n",
    "    test_entities.append(entities)\n",
    "    test_entity_nums.append(cnt)\n",
    "\n",
    "test = test_out.drop(['entities'], axis=1)\n",
    "\n",
    "for i in range(test.shape[0]):\n",
    "    test['text'].iloc[i] = test['text'].iloc[i][:256] + test_entities[i]\n",
    "\n",
    "test.to_csv('data/ccks2022/test.tsv', encoding='utf8', sep='\\t', index=None)\n",
    "test"
   ]
  },
  {
   "cell_type": "code",
   "execution_count": null,
   "id": "3fa58e7b",
   "metadata": {
    "vscode": {
     "languageId": "python"
    }
   },
   "outputs": [],
   "source": [
    "train_for_pretraining = train.drop(['label'], axis=1)\n",
    "\n",
    "data_for_pretraining = pd.concat([train_for_pretraining, test], axis=1)\n",
    "data_for_pretraining.to_csv('data/ccks2022/data_for_pretraining/train.tsv', encoding='utf8', index=None)"
   ]
  },
  {
   "cell_type": "code",
   "execution_count": null,
   "id": "15ff28ae",
   "metadata": {
    "vscode": {
     "languageId": "python"
    }
   },
   "outputs": [],
   "source": [
    "# 分割训练集和测试集\n",
    "from sklearn.model_selection import train_test_split\n",
    "\n",
    "train_data, val_data = train_test_split(train, test_size=0.2, random_state=2022)\n",
    "train_data.to_csv('data/ccks2022/train.tsv', encoding='utf8', sep='\\t', index=None)\n",
    "val_data.to_csv('data/ccks2022/dev.tsv', encoding='utf8', sep='\\t', index=None)\n",
    "test.to_csv('data/ccks2022/test.tsv', encoding='utf8', index=None)\n",
    "len(train_data), len(val_data), len(test)"
   ]
  },
  {
   "cell_type": "markdown",
   "id": "b809d5df-7e61-4abb-9d9e-a39022ca7948",
   "metadata": {},
   "source": [
    "## 一、继续预训练"
   ]
  },
  {
   "cell_type": "markdown",
   "id": "98a75695",
   "metadata": {},
   "source": [
    "在预训练完成后将输出目录下的 `pytorch_model.pth.ep27` 重命名为 `pytorch_model.bin`，并将其与 `bert_config.json` 文件一起移动到包含 `vocab.txt` 的 `ccks2022/pretrained_models/nezha-base-wwm-pretrained/` 目录下。\n",
    "> 注：已经放置了预训练好的模型在该目录下"
   ]
  },
  {
   "cell_type": "code",
   "execution_count": null,
   "id": "054f914b-6651-42dd-9891-9192e73f87f9",
   "metadata": {
    "tags": [],
    "vscode": {
     "languageId": "python"
    }
   },
   "outputs": [],
   "source": [
    "!set CUDA_VISIBLE_DEVICES=0,1\n",
    "!python ccks2022_for_pretraining.py \\\n",
    "  --task_name=text-clf \\\n",
    "  --do_train \\\n",
    "  --data_dir=data/ccks2022/data_for_pretraining/ \\\n",
    "  --bert_model=pretrained_models/nezha-base-wwm \\\n",
    "  --max_seq_length=512 \\\n",
    "  --train_batch_size=28 \\\n",
    "  --learning_rate=3e-5  \\\n",
    "  --num_train_epochs=27.0 \\\n",
    "  --output_dir=output/ccks2022/continue_pretraining/1/"
   ]
  },
  {
   "cell_type": "markdown",
   "id": "8041e717",
   "metadata": {},
   "source": [
    "## 二、微调训练"
   ]
  },
  {
   "cell_type": "markdown",
   "id": "b2940211",
   "metadata": {},
   "source": [
    "#### (1.1) 非 K 折训练 —— GRU to Attention"
   ]
  },
  {
   "cell_type": "code",
   "execution_count": null,
   "id": "a1faf690-901c-4c59-993f-22e2eefbd138",
   "metadata": {
    "vscode": {
     "languageId": "python"
    }
   },
   "outputs": [],
   "source": [
    "!set CUDA_VISIBLE_DEVICES=0,1\n",
    "!python ccks2022_classifier.py \\\n",
    "  --task_name=text-clf \\\n",
    "  --do_train \\\n",
    "  --do_eval \\\n",
    "  --data_dir=data/ccks2022/ \\\n",
    "  --bert_model=pretrained_models/nezha-base-wwm \\\n",
    "  --max_seq_length=512 \\\n",
    "  --train_batch_size=32 \\\n",
    "  --eval_batch_size=32 \\\n",
    "  --learning_rate=3e-5  \\\n",
    "  --num_train_epochs=5.0 \\\n",
    "  --model=1 \\\n",
    "  --output_dir=output/ccks2022/1/"
   ]
  },
  {
   "cell_type": "markdown",
   "id": "5119cb32",
   "metadata": {},
   "source": [
    "#### (1.2) 非 K 折的推理预测 —— GRU to Attention"
   ]
  },
  {
   "cell_type": "code",
   "execution_count": null,
   "id": "6223ce4a",
   "metadata": {
    "vscode": {
     "languageId": "python"
    }
   },
   "outputs": [],
   "source": [
    "!python ccks2022_pred.py \\\n",
    "  --data_dir=data/ccks2022/ \\\n",
    "  --trained_model_dir=trained_models/ccks2022/ \\\n",
    "  --output_dir=output/ccks2022/1/predict/ \\\n",
    "  --eval_batch_size=64 \\\n",
    "  --max_seq_length=512"
   ]
  },
  {
   "cell_type": "markdown",
   "id": "d12f7b03",
   "metadata": {},
   "source": [
    "#### (1.3) 非 K 折训练 —— Attention to GRU"
   ]
  },
  {
   "cell_type": "code",
   "execution_count": null,
   "id": "0b24547d",
   "metadata": {
    "vscode": {
     "languageId": "python"
    }
   },
   "outputs": [],
   "source": [
    "!set CUDA_VISIBLE_DEVICES=0,1\n",
    "!python ccks2022_classifier.py \\\n",
    "  --task_name=text-clf \\\n",
    "  --do_train \\\n",
    "  --do_eval \\\n",
    "  --data_dir=data/ccks2022/ \\\n",
    "  --bert_model=pretrained_models/nezha-base-wwm \\\n",
    "  --max_seq_length=512 \\\n",
    "  --train_batch_size=32 \\\n",
    "  --eval_batch_size=32 \\\n",
    "  --learning_rate=3e-5  \\\n",
    "  --num_train_epochs=7.0 \\\n",
    "  --model=2 \\\n",
    "  --output_dir=output/ccks2022/2/"
   ]
  },
  {
   "cell_type": "markdown",
   "id": "0ee25b14",
   "metadata": {},
   "source": [
    "#### (1.4) 非 K 折的推理预测 —— Attention to GRU"
   ]
  },
  {
   "cell_type": "code",
   "execution_count": null,
   "id": "9f277dd3",
   "metadata": {
    "vscode": {
     "languageId": "python"
    }
   },
   "outputs": [],
   "source": [
    "!python ccks2022_pred.py \\\n",
    "  --data_dir=data/ccks2022/ \\\n",
    "  --trained_model_dir=trained_models/ccks2022/ \\\n",
    "  --output_dir=output/ccks2022/2/predict/ \\\n",
    "  --eval_batch_size=64 \\\n",
    "  --max_seq_length=512"
   ]
  },
  {
   "cell_type": "markdown",
   "id": "a96d7ce4",
   "metadata": {},
   "source": [
    "#### (2) 5 折训练"
   ]
  },
  {
   "cell_type": "code",
   "execution_count": null,
   "id": "fce5038d-edde-41d6-95bc-5d9be80052f3",
   "metadata": {
    "vscode": {
     "languageId": "python"
    }
   },
   "outputs": [],
   "source": [
    "## !set CUDA_VISIBLE_DEVICES=0,1\n",
    "!python ccks2022_classifier_kfold.py \\\n",
    "  --task_name=text-clf \\\n",
    "  --do_train \\\n",
    "  --data_dir=data/ccks2022/ \\\n",
    "  --bert_model=pretrained_models/nezha-base-wwm-pretrained \\\n",
    "  --max_seq_length=512 \\\n",
    "  --train_batch_size=30 \\\n",
    "  --learning_rate=4e-5  \\\n",
    "  --num_train_epochs=6.0 \\\n",
    "  --output_dir=output/ccks2022/kfold/1/"
   ]
  },
  {
   "cell_type": "markdown",
   "id": "53421092",
   "metadata": {},
   "source": [
    "# 三、结果融合与数据增强"
   ]
  },
  {
   "cell_type": "code",
   "execution_count": null,
   "id": "e184d8a9",
   "metadata": {
    "vscode": {
     "languageId": "python"
    }
   },
   "outputs": [],
   "source": [
    "import pandas as np\n",
    "\n",
    "df1 = pd.read_csv('./output/ccks2022/1/predict/test_results.txt', encoding='utf8', header=None, names=['label'])\n",
    "df2 = pd.read_csv('./output/ccks2022/2/predict/test_results.txt', encoding='utf8', header=None, names=['label'])\n",
    "df3 = pd.read_csv('./output/ccks2022/kfold/1/test_results_2.txt', encoding='utf8', header=None, names=['label'])\n",
    "\n",
    "df_out = pd.DataFrame()\n",
    "df_temp = pd.DataFrame()\n",
    "df_out.insert(0, 'label', df1['label'])\n",
    "df_temp.insert(0, 'label', 0)\n",
    "\n",
    "assert len(df_out) == len(df1)\n",
    "\n",
    "df_temp['label'] = (df1['label'] + df2['label'] + df3['label'])\n",
    "df_out[df_temp['label'] >= 2] = 1\n",
    "df_out[df_temp['label'] < 2] = 0\n",
    "\n",
    "for i in range(len(test_entity_nums)):\n",
    "    if test_entity_nums[i] >= 50:\n",
    "        df_out['label'].iloc[i] = 1\n",
    "    elif test_entity_nums[i] <= 12:\n",
    "        df_out['label'].iloc[i] = 0\n",
    "\n",
    "df_out"
   ]
  },
  {
   "cell_type": "markdown",
   "id": "18806bad-d3e2-4a17-988e-aba7d8f13428",
   "metadata": {},
   "source": [
    "## 四、结果输出"
   ]
  },
  {
   "cell_type": "code",
   "execution_count": null,
   "id": "fef10979-68bf-452e-83b8-0e21afcff025",
   "metadata": {
    "vscode": {
     "languageId": "python"
    }
   },
   "outputs": [],
   "source": [
    "import json\n",
    "import pandas as pd\n",
    "\n",
    "df = pd.read_json('data/ccks2022/test.unlabel.json', encoding='utf8', lines=True)\n",
    "labels = df_out\n",
    "res = \"\"\n",
    "for i in range(df.shape[0]):\n",
    "    dic = dict()\n",
    "    dic['url'] = df.iloc[i, :][\"url\"]\n",
    "    dic['label'] = int(labels.iloc[i, :][\"label\"])\n",
    "    res += json.dumps(dic, ensure_ascii=False) + \"\\n\"\n",
    "    if i == 0:\n",
    "        print(res[:100])\n",
    "with open(\"result/result.txt\", encoding=\"utf-8\", mode='w') as f:\n",
    "    f.write(res)\n",
    "    f.close()"
   ]
  },
  {
   "cell_type": "code",
   "execution_count": null,
   "id": "5eb720ad-0eb5-42f0-aa3e-9f135d63ffdd",
   "metadata": {
    "vscode": {
     "languageId": "python"
    }
   },
   "outputs": [],
   "source": []
  }
 ],
 "metadata": {
  "kernelspec": {
   "display_name": "Python [conda env:pytorch]",
   "language": "python",
   "name": "pytorch"
  }
 },
 "nbformat": 4,
 "nbformat_minor": 5
}
